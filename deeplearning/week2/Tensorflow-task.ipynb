{
 "cells": [
  {
   "cell_type": "markdown",
   "metadata": {
    "slideshow": {
     "slide_type": "slide"
    }
   },
   "source": [
    "# Going deeper with Tensorflow\n",
    "\n",
    "In this video, we're going to study the tools you'll use to build deep learning models. Namely, [Tensorflow](https://www.tensorflow.org/).\n",
    "\n",
    "If you're running this notebook outside the course environment, you'll need to install tensorflow:\n",
    "* `pip install tensorflow` should install cpu-only TF on Linux & Mac OS\n",
    "* If you want GPU support from offset, see [TF install page](https://www.tensorflow.org/install/)"
   ]
  },
  {
   "cell_type": "code",
   "execution_count": 1,
   "metadata": {},
   "outputs": [],
   "source": [
    "import sys\n",
    "sys.path.append(\"..\")\n",
    "import grading"
   ]
  },
  {
   "cell_type": "markdown",
   "metadata": {},
   "source": [
    "# Visualization"
   ]
  },
  {
   "cell_type": "markdown",
   "metadata": {},
   "source": [
    "Plase note that if you are running on the Coursera platform, you won't be able to access the tensorboard instance due to the network setup there. If you run the notebook locally, you should be able to access TensorBoard on http://127.0.0.1:7007/"
   ]
  },
  {
   "cell_type": "code",
   "execution_count": 2,
   "metadata": {},
   "outputs": [],
   "source": [
    "! killall tensorboard\n",
    "import os\n",
    "os.system(\"tensorboard --logdir=/tmp/tboard --port=7007 &\");"
   ]
  },
  {
   "cell_type": "code",
   "execution_count": 3,
   "metadata": {},
   "outputs": [],
   "source": [
    "import tensorflow as tf\n",
    "s = tf.InteractiveSession()"
   ]
  },
  {
   "cell_type": "markdown",
   "metadata": {},
   "source": [
    "# Warming up\n",
    "For starters, let's implement a python function that computes the sum of squares of numbers from 0 to N-1."
   ]
  },
  {
   "cell_type": "code",
   "execution_count": 4,
   "metadata": {},
   "outputs": [],
   "source": [
    "import numpy as np\n",
    "def sum_sin(N):\n",
    "    return np.sum(np.arange(N)**2)"
   ]
  },
  {
   "cell_type": "code",
   "execution_count": 5,
   "metadata": {},
   "outputs": [
    {
     "name": "stdout",
     "output_type": "stream",
     "text": [
      "CPU times: user 437 ms, sys: 1.02 s, total: 1.45 s\n",
      "Wall time: 3.58 s\n"
     ]
    },
    {
     "data": {
      "text/plain": [
       "662921401752298880"
      ]
     },
     "execution_count": 5,
     "metadata": {},
     "output_type": "execute_result"
    }
   ],
   "source": [
    "%%time\n",
    "sum_sin(10**8)"
   ]
  },
  {
   "cell_type": "markdown",
   "metadata": {},
   "source": [
    "# Tensoflow teaser\n",
    "\n",
    "Doing the very same thing"
   ]
  },
  {
   "cell_type": "code",
   "execution_count": 7,
   "metadata": {},
   "outputs": [],
   "source": [
    "# An integer parameter\n",
    "N = tf.placeholder('int64', name=\"input_to_your_function\")\n",
    "\n",
    "# A recipe on how to produce the same result\n",
    "result = tf.reduce_sum(tf.range(N)**2)"
   ]
  },
  {
   "cell_type": "code",
   "execution_count": 8,
   "metadata": {},
   "outputs": [
    {
     "data": {
      "text/plain": [
       "<tf.Tensor 'Sum_1:0' shape=() dtype=int64>"
      ]
     },
     "execution_count": 8,
     "metadata": {},
     "output_type": "execute_result"
    }
   ],
   "source": [
    "result"
   ]
  },
  {
   "cell_type": "code",
   "execution_count": 9,
   "metadata": {},
   "outputs": [
    {
     "name": "stdout",
     "output_type": "stream",
     "text": [
      "CPU times: user 793 ms, sys: 285 ms, total: 1.08 s\n",
      "Wall time: 630 ms\n"
     ]
    },
    {
     "data": {
      "text/plain": [
       "662921401752298880"
      ]
     },
     "execution_count": 9,
     "metadata": {},
     "output_type": "execute_result"
    }
   ],
   "source": [
    "%%time\n",
    "result.eval({N: 10**8})"
   ]
  },
  {
   "cell_type": "code",
   "execution_count": 10,
   "metadata": {},
   "outputs": [],
   "source": [
    "writer = tf.summary.FileWriter(\"/tmp/tboard\", graph=s.graph)"
   ]
  },
  {
   "cell_type": "markdown",
   "metadata": {},
   "source": [
    "# How does it work?\n",
    "1. Define placeholders where you'll send inputs\n",
    "2. Make symbolic graph: a recipe for mathematical transformation of those placeholders\n",
    "3. Compute outputs of your graph with particular values for each placeholder\n",
    "  * `output.eval({placeholder:value})`\n",
    "  * `s.run(output, {placeholder:value})`\n",
    "\n",
    "So far there are two main entities: \"placeholder\" and \"transformation\"\n",
    "* Both can be numbers, vectors, matrices, tensors, etc.\n",
    "* Both can be int32/64, floats, booleans (uint8) of various size.\n",
    "\n",
    "* You can define new transformations as an arbitrary operation on placeholders and other transformations\n",
    " * `tf.reduce_sum(tf.arange(N)**2)` are 3 sequential transformations of placeholder `N`\n",
    " * There's a tensorflow symbolic version for every numpy function\n",
    "   * `a+b, a/b, a**b, ...` behave just like in numpy\n",
    "   * `np.mean` -> `tf.reduce_mean`\n",
    "   * `np.arange` -> `tf.range`\n",
    "   * `np.cumsum` -> `tf.cumsum`\n",
    "   * If if you can't find the op you need, see the [docs](https://www.tensorflow.org/api_docs/python).\n",
    "   \n",
    "`tf.contrib` has many high-level features, may be worth a look."
   ]
  },
  {
   "cell_type": "code",
   "execution_count": 22,
   "metadata": {},
   "outputs": [],
   "source": [
    "with tf.name_scope(\"Placeholders_examples\"):\n",
    "    # Default placeholder that can be arbitrary float32\n",
    "    # scalar, vertor, matrix, etc.\n",
    "    arbitrary_input = tf.placeholder('float32')\n",
    "\n",
    "    # Input vector of arbitrary length\n",
    "    input_vector = tf.placeholder('float32', shape=(None,))\n",
    "\n",
    "    # Input vector that _must_ have 10 elements and integer type\n",
    "    fixed_vector = tf.placeholder('int32', shape=(10,))\n",
    "\n",
    "    # Matrix of arbitrary n_rows and 15 columns\n",
    "    # (e.g. a minibatch your data table)\n",
    "    input_matrix = tf.placeholder('float32', shape=(None, 15))\n",
    "    \n",
    "    # You can generally use None whenever you don't need a specific shape\n",
    "    input1 = tf.placeholder('float64', shape=(None, 100, None))\n",
    "    input2 = tf.placeholder('int32', shape=(None, None, 3, 224, 224))\n",
    "\n",
    "    # elementwise multiplication\n",
    "    double_the_vector = input_vector*2\n",
    "\n",
    "    # elementwise cosine\n",
    "    elementwise_cosine = tf.cos(input_vector)\n",
    "\n",
    "    # difference between squared vector and vector itself plus one\n",
    "    vector_squares = input_vector**2 - input_vector + 1"
   ]
  },
  {
   "cell_type": "code",
   "execution_count": 23,
   "metadata": {},
   "outputs": [],
   "source": [
    "my_vector =  tf.placeholder('float32', shape=(None,), name=\"VECTOR_1\")\n",
    "my_vector2 = tf.placeholder('float32', shape=(None,))\n",
    "my_transformation = my_vector * my_vector2 / (tf.sin(my_vector) + 1)"
   ]
  },
  {
   "cell_type": "code",
   "execution_count": 24,
   "metadata": {},
   "outputs": [
    {
     "name": "stdout",
     "output_type": "stream",
     "text": [
      "Tensor(\"truediv:0\", shape=(?,), dtype=float32)\n"
     ]
    }
   ],
   "source": [
    "print(my_transformation)"
   ]
  },
  {
   "cell_type": "code",
   "execution_count": 25,
   "metadata": {},
   "outputs": [
    {
     "name": "stdout",
     "output_type": "stream",
     "text": [
      "[0. 1. 2. 3. 4.]\n"
     ]
    },
    {
     "data": {
      "text/plain": [
       "array([0.       , 1.6291324, 2.0950115, 2.6289961, 0.       ],\n",
       "      dtype=float32)"
      ]
     },
     "execution_count": 25,
     "metadata": {},
     "output_type": "execute_result"
    }
   ],
   "source": [
    "dummy = np.arange(5).astype('float32')\n",
    "print(dummy)\n",
    "my_transformation.eval({my_vector:dummy, my_vector2:dummy[::-1]})"
   ]
  },
  {
   "cell_type": "code",
   "execution_count": 26,
   "metadata": {},
   "outputs": [],
   "source": [
    "writer.add_graph(my_transformation.graph)\n",
    "writer.flush()"
   ]
  },
  {
   "cell_type": "markdown",
   "metadata": {},
   "source": [
    "TensorBoard allows writing scalars, images, audio, histogram. You can read more on tensorboard usage [here](https://www.tensorflow.org/get_started/graph_viz)."
   ]
  },
  {
   "cell_type": "markdown",
   "metadata": {},
   "source": [
    "# Summary\n",
    "* Tensorflow is based on computation graphs\n",
    "* The graphs consist of placehlders and transformations"
   ]
  },
  {
   "cell_type": "markdown",
   "metadata": {},
   "source": [
    "# Mean squared error\n",
    "\n",
    "Your assignment is to implement mean squared error in tensorflow."
   ]
  },
  {
   "cell_type": "code",
   "execution_count": 27,
   "metadata": {},
   "outputs": [],
   "source": [
    "with tf.name_scope(\"MSE\"):\n",
    "    y_true = tf.placeholder(\"float32\", shape=(None,), name=\"y_true\")\n",
    "    y_predicted = tf.placeholder(\"float32\", shape=(None,), name=\"y_predicted\")\n",
    "    # Your code goes here\n",
    "    # You want to use tf.reduce_mean\n",
    "    mse = tf.reduce_mean((y_true - y_predicted) ** 2)\n",
    "\n",
    "def compute_mse(vector1, vector2):\n",
    "    return mse.eval({y_true: vector1, y_predicted: vector2})"
   ]
  },
  {
   "cell_type": "code",
   "execution_count": 28,
   "metadata": {},
   "outputs": [],
   "source": [
    "writer.add_graph(mse.graph)\n",
    "writer.flush()"
   ]
  },
  {
   "cell_type": "markdown",
   "metadata": {},
   "source": [
    "Tests and result submission. Please use the credentials obtained from the Coursera assignment page."
   ]
  },
  {
   "cell_type": "code",
   "execution_count": 29,
   "metadata": {},
   "outputs": [],
   "source": [
    "import submit"
   ]
  },
  {
   "cell_type": "code",
   "execution_count": 30,
   "metadata": {},
   "outputs": [
    {
     "name": "stdout",
     "output_type": "stream",
     "text": [
      "Submitted to Coursera platform. See results on assignment page!\n"
     ]
    }
   ],
   "source": [
    "submit.submit_mse(compute_mse, 'me@whimo.me', 'GE9k8m6UBR2J5jRS')"
   ]
  },
  {
   "cell_type": "markdown",
   "metadata": {},
   "source": [
    "# Variables\n",
    "\n",
    "The inputs and transformations have no value outside function call. This isn't too comfortable if you want your model to have parameters (e.g. network weights) that are always present, but can change their value over time.\n",
    "\n",
    "Tensorflow solves this with `tf.Variable` objects.\n",
    "* You can assign variable a value at any time in your graph\n",
    "* Unlike placeholders, there's no need to explicitly pass values to variables when `s.run(...)`-ing\n",
    "* You can use variables the same way you use transformations \n",
    " "
   ]
  },
  {
   "cell_type": "code",
   "execution_count": 11,
   "metadata": {},
   "outputs": [],
   "source": [
    "# Creating a shared variable\n",
    "shared_vector_1 = tf.Variable(initial_value=np.ones(5),\n",
    "                              name=\"example_variable\")"
   ]
  },
  {
   "cell_type": "code",
   "execution_count": 12,
   "metadata": {},
   "outputs": [
    {
     "name": "stdout",
     "output_type": "stream",
     "text": [
      "Initial value [1. 1. 1. 1. 1.]\n"
     ]
    }
   ],
   "source": [
    "# Initialize variable(s) with initial values\n",
    "s.run(tf.global_variables_initializer())\n",
    "\n",
    "# Evaluating shared variable (outside symbolicd graph)\n",
    "print(\"Initial value\", s.run(shared_vector_1))\n",
    "\n",
    "# Within symbolic graph you use them just\n",
    "# as any other inout or transformation, not \"get value\" needed"
   ]
  },
  {
   "cell_type": "code",
   "execution_count": 13,
   "metadata": {},
   "outputs": [
    {
     "name": "stdout",
     "output_type": "stream",
     "text": [
      "New value [0. 1. 2. 3. 4.]\n"
     ]
    }
   ],
   "source": [
    "# Setting a new value\n",
    "s.run(shared_vector_1.assign(np.arange(5)))\n",
    "\n",
    "# Getting that new value\n",
    "print(\"New value\", s.run(shared_vector_1))"
   ]
  },
  {
   "cell_type": "markdown",
   "metadata": {},
   "source": [
    "# tf.gradients - why graphs matter\n",
    "* Tensorflow can compute derivatives and gradients automatically using the computation graph\n",
    "* True to its name it can manage matrix derivatives\n",
    "* Gradients are computed as a product of elementary derivatives via the chain rule:\n",
    "\n",
    "$$ {\\partial f(g(x)) \\over \\partial x} = {\\partial f(g(x)) \\over \\partial g(x)}\\cdot {\\partial g(x) \\over \\partial x} $$\n",
    "\n",
    "It can get you the derivative of any graph as long as it knows how to differentiate elementary operations"
   ]
  },
  {
   "cell_type": "code",
   "execution_count": 14,
   "metadata": {},
   "outputs": [],
   "source": [
    "my_scalar = tf.placeholder('float32')\n",
    "\n",
    "scalar_squared = my_scalar**2\n",
    "\n",
    "# A derivative of scalar_squared by my_scalar\n",
    "derivative = tf.gradients(scalar_squared, [my_scalar, ])"
   ]
  },
  {
   "cell_type": "code",
   "execution_count": 15,
   "metadata": {},
   "outputs": [
    {
     "data": {
      "text/plain": [
       "[<tf.Tensor 'gradients/pow_2_grad/Reshape:0' shape=<unknown> dtype=float32>]"
      ]
     },
     "execution_count": 15,
     "metadata": {},
     "output_type": "execute_result"
    }
   ],
   "source": [
    "derivative"
   ]
  },
  {
   "cell_type": "code",
   "execution_count": 16,
   "metadata": {},
   "outputs": [
    {
     "data": {
      "image/png": "[encoded data removed]",
      "text/plain": [
       "<Figure size 432x288 with 1 Axes>"
      ]
     },
     "metadata": {},
     "output_type": "display_data"
    }
   ],
   "source": [
    "import matplotlib.pyplot as plt\n",
    "%matplotlib inline\n",
    "\n",
    "x = np.linspace(-3, 3)\n",
    "x_squared, x_squared_der = s.run([scalar_squared, derivative[0]],\n",
    "                                 {my_scalar:x})\n",
    "\n",
    "plt.plot(x, x_squared,label=\"$x^2$\")\n",
    "plt.plot(x, x_squared_der, label=r\"$\\frac{dx^2}{dx}$\")\n",
    "plt.legend();"
   ]
  },
  {
   "cell_type": "markdown",
   "metadata": {},
   "source": [
    "# Why that rocks"
   ]
  },
  {
   "cell_type": "code",
   "execution_count": 17,
   "metadata": {},
   "outputs": [],
   "source": [
    "my_vector = tf.placeholder('float32', [None])\n",
    "# Compute the gradient of the next weird function over my_scalar and my_vector\n",
    "# Warning! Trying to understand the meaning of that function may result in permanent brain damage\n",
    "weird_psychotic_function = tf.reduce_mean(\n",
    "    (my_vector+my_scalar)**(1+tf.nn.moments(my_vector,[0])[1]) + \n",
    "    1./ tf.atan(my_scalar))/(my_scalar**2 + 1) + 0.01*tf.sin(\n",
    "    2*my_scalar**1.5)*(tf.reduce_sum(my_vector)* my_scalar**2\n",
    "                      )*tf.exp((my_scalar-4)**2)/(\n",
    "    1+tf.exp((my_scalar-4)**2))*(1.-(tf.exp(-(my_scalar-4)**2)\n",
    "                                    )/(1+tf.exp(-(my_scalar-4)**2)))**2\n",
    "\n",
    "der_by_scalar = tf.gradients(weird_psychotic_function, my_scalar)\n",
    "der_by_vector = tf.gradients(weird_psychotic_function, my_vector)"
   ]
  },
  {
   "cell_type": "code",
   "execution_count": 18,
   "metadata": {},
   "outputs": [
    {
     "data": {
      "image/png": "[encoded data removed]",
      "text/plain": [
       "<Figure size 432x288 with 1 Axes>"
      ]
     },
     "metadata": {},
     "output_type": "display_data"
    }
   ],
   "source": [
    "# Plotting the derivative\n",
    "scalar_space = np.linspace(1, 7, 100)\n",
    "\n",
    "y = [s.run(weird_psychotic_function, {my_scalar:x, my_vector:[1, 2, 3]})\n",
    "     for x in scalar_space]\n",
    "\n",
    "plt.plot(scalar_space, y, label='function')\n",
    "\n",
    "y_der_by_scalar = [s.run(der_by_scalar,\n",
    "                         {my_scalar:x, my_vector:[1, 2, 3]})\n",
    "                   for x in scalar_space]\n",
    "\n",
    "plt.plot(scalar_space, y_der_by_scalar, label='derivative')\n",
    "plt.grid()\n",
    "plt.legend();"
   ]
  },
  {
   "cell_type": "markdown",
   "metadata": {},
   "source": [
    "# Almost done - optimizers\n",
    "\n",
    "While you can perform gradient descent by hand with automatic grads from above, tensorflow also has some optimization methods implemented for you. Recall momentum & rmsprop?"
   ]
  },
  {
   "cell_type": "code",
   "execution_count": 19,
   "metadata": {},
   "outputs": [],
   "source": [
    "y_guess = tf.Variable(np.zeros(2, dtype='float32'))\n",
    "y_true = tf.range(1, 3, dtype='float32')\n",
    "loss = tf.reduce_mean((y_guess - y_true + tf.random_normal([2]))**2) \n",
    "#loss = tf.reduce_mean((y_guess - y_true)**2) \n",
    "optimizer = tf.train.MomentumOptimizer(0.01, 0.5).minimize(\n",
    "    loss, var_list=y_guess)"
   ]
  },
  {
   "cell_type": "code",
   "execution_count": 20,
   "metadata": {},
   "outputs": [
    {
     "data": {
      "image/png": "[encoded data removed]",
      "text/plain": [
       "<Figure size 432x288 with 1 Axes>"
      ]
     },
     "metadata": {},
     "output_type": "display_data"
    }
   ],
   "source": [
    "from matplotlib import animation, rc\n",
    "import matplotlib_utils\n",
    "from IPython.display import HTML, display_html\n",
    "\n",
    "fig, ax = plt.subplots()\n",
    "y_true_value = s.run(y_true)\n",
    "level_x = np.arange(0, 2, 0.02)\n",
    "level_y = np.arange(0, 3, 0.02)\n",
    "X, Y = np.meshgrid(level_x, level_y)\n",
    "Z = (X - y_true_value[0])**2 + (Y - y_true_value[1])**2\n",
    "ax.set_xlim(-0.02, 2)\n",
    "ax.set_ylim(-0.02, 3)\n",
    "s.run(tf.global_variables_initializer())\n",
    "ax.scatter(*s.run(y_true), c='red')\n",
    "contour = ax.contour(X, Y, Z, 10)\n",
    "ax.clabel(contour, inline=1, fontsize=10)\n",
    "line, = ax.plot([], [], lw=2)\n",
    "\n",
    "def init():\n",
    "    line.set_data([], [])\n",
    "    return (line,)\n",
    "\n",
    "guesses = [s.run(y_guess)]\n",
    "\n",
    "def animate(i):\n",
    "    s.run(optimizer)\n",
    "    guesses.append(s.run(y_guess))\n",
    "    line.set_data(*zip(*guesses))\n",
    "    return (line,)\n",
    "\n",
    "anim = animation.FuncAnimation(fig, animate, init_func=init,\n",
    "                               frames=400, interval=20, blit=True)"
   ]
  },
  {
   "cell_type": "code",
   "execution_count": 21,
   "metadata": {
    "scrolled": true
   },
   "outputs": [
    {
     "data": {
      "text/html": [
       "<video width=\"432\" height=\"288\" controls autoplay loop>\n",
       "  <source type=\"video/mp4\" src=\"data:video/mp4;base64,AAAAHGZ0eXBNNFYgAAACAGlzb21pc28yYXZjMQAAAAhmcmVlAAC5PG1kYXQAAAKuBgX//6rcRem9\n",
       "5tlIt5Ys2CDZI+7veDI2NCAtIGNvcmUgMTQ4IHIyNjQzIDVjNjU3MDQgLSBILjI2NC9NUEVHLTQg\n",
       "QVZDIGNvZGVjIC0gQ29weWxlZnQgMjAwMy0yMDE1IC0gaHR0cDovL3d3dy52aWRlb2xhbi5vcmcv\n",
       "eDI2NC5odG1sIC0gb3B0aW9uczogY2FiYWM9MSByZWY9MyBkZWJsb2NrPTE6MDowIGFuYWx5c2U9\n",
       "MHgzOjB4MTEzIG1lPWhleCBzdWJtZT03IHBzeT0xIHBzeV9yZD0xLjAwOjAuMDAgbWl4ZWRfcmVm\n",
       "PTEgbWVfcmFuZ2U9MTYgY2hyb21hX21lPTEgdHJlbGxpcz0xIDh4OGRjdD0xIGNxbT0wIGRlYWR6\n",
       "b25lPTIxLDExIGZhc3RfcHNraXA9MSBjaHJvbWFfcXBfb2Zmc2V0PS0yIHRocmVhZHM9NiBsb29r\n",
       "YWhlYWRfdGhyZWFkcz0xIHNsaWNlZF90aHJlYWRzPTAgbnI9MCBkZWNpbWF0ZT0xIGludGVybGFj\n",
       "ZWQ9MCBibHVyYXlfY29tcGF0PTAgY29uc3RyYWluZWRfaW50cmE9MCBiZnJhbWVzPTMgYl9weXJh\n",
       "bWlkPTIgYl9hZGFwdD0xIGJfYmlhcz0wIGRpcmVjdD0xIHdlaWdodGI9MSBvcGVuX2dvcD0wIHdl\n",
       "aWdodHA9MiBrZXlpbnQ9MjUwIGtleWludF9taW49MjUgc2NlbmVjdXQ9NDAgaW50cmFfcmVmcmVz\n",
       "aD0wIHJjX2xvb2thaGVhZD00MCByYz1jcmYgbWJ0cmVlPTEgY3JmPTIzLjAgcWNvbXA9MC42MCBx\n",
       "cG1pbj0wIHFwbWF4PTY5IHFwc3RlcD00IGlwX3JhdGlvPTEuNDAgYXE9MToxLjAwAIAAADJOZYiE\n",
       "ADP//vbsvgU1/Z/QlxEsxdpKcD4qpICAdzTAAAADAAB4He8+UME3qAgRXU+O3+/edMJ0DnCMXWPN\n",
       "eZygE92gs3qdzsl1RjH5VUqIbQW4lbEY1EhCwAAAp+d7WlESNH8y4yoHWdjEy3i5zj0iR5r7oD4c\n",
       "evRGf5YZpSE2T/MqtpALqtLPBV7Di/jhpp/BE5Hr5txSfEu67UvppgZwAi2i8q+512MwmU2ndWiZ\n",
       "0/gy29dsLpujNTmKwjGLSMJz2YilEL4r07flZfkmw/NVWvox9hjJ1m9L6gw8Ob76LAgnuCGgc52d\n",
       "Dha90pVUIyCF8fKxNLt4Gbva9jGQsOR1327NyC2X7ON7gecpbjvz3Mtumnet+DhqiiQX2r6+ex3K\n",
       "UIboAKQlLQfGXbSRo+zfPXXlcAq497i8YsYhV4qxiPAJOu7czM80g4LGjbRY6+1qIA4l9hm/SuOm\n",
       "kJhBZIbKIk9WF7RsjjGFOAdS/rNzWx+Oc4WL30dHn9bymJE+/o6VRBxvsG8BcsmPaAMG1vUannqL\n",
       "i6L3pdl3hHgqFTFNhoreScQKNSVCM7qfSh2BWfXn/oAWuSe5NxbT0yu/Rp2N5gIyqPOjHIlspSgq\n",
       "xbess6Djpl8fXHUGJZbdH+ex4aWjROxi/9c7iGaE8uOMOB9wPXwXhicJjay35RBRf9DvLHwOVQDF\n",
       "8F/3WM2et/+aVVjVA4vGmnd2udW7ZM+XwHTxgp9t74x13KyDl5SEbLup2dMZHg1FjkyM7k3RBxuN\n",
       "wcv99vIZF3502Mtj97eqCA6nq+EFKOvwAak1VMmF6l9o9jHoNBbrKkF5kOoxmxsAZWQ6FHZPGqhA\n",
       "xdZhsFrOSfdS91UjOPCYwd9//mdCThpuQK8y9aR4CYWf0SH6PFBje3T+Uppd2gaZueG8EyMJSsDf\n",
       "3zew6EDyNS6CNWV0M6OMzF7htHJaIBdXPtfaFQSRyC9sgHfoMOKstKQHpfrbK0WLXEeyOtczBE+i\n",
       "LbeT/hflOXKnQuBvXTVP4p2DdqqTzZQcg5iy+dQB0sRzfzKMA9tyrtN3NuT8isMNo53GXkDccYu+\n",
       "jNnUEY5F6d4fN4eD9p+SxlYvhUVi3nkosieWiluS3/2IFUnY4kJ5jky0ldhLl7nRhFt8NPzrW+CF\n",
       "4i3g8vVYe2GaZBHog9VQcUyirOnVBxdG1BM51/LOGAGJFflZU7zm2/z4tr+SY7QexJlgcySU4/dy\n",
       "jlANYfN8kC/bEXOlvjNpYxIWQjrgcRnoKNl1SNoHqljPu/BNaZCeH49BAYbJlhIZRIeXdoh7bSQH\n",
       "ryNnUxZWsPd/MUq9Hj6nGa9NB3gZFy8gwR85mVrB9j0dOqXJ4DEKv0rkG+BtnOtiPZg/8o4B8UOU\n",
       "Jt0HR+SxVCIvgeuWBauvS5UlZq0uxbKQFioxdewXSVcedNh8ZoLgT/234NOxIst3FPuPTYQn8Mlh\n",
       "yDOVtiVbEfJHrszn0YAAGJTn1a+VLpS/jUeaLxxnIzaSWY2AUC4CcBegGkrz13SeKcfhz7/HfPEI\n",
       "0OBXCV35mSEBAs526ysd5XeSM8LSvV+TjcMhPppYKtV8eDNMdF7crn1qwVzJm3Jfi09llA/l6cz9\n",
       "UnmfF6WbX6gGvnzoGC06I3qbQepPsoYythH2w/NnyQ6qwBrJxZaszyyBcMpThd1i1k6eXC3SDmsJ\n",
       "W8q2XEtTOFBeBWCKza/vlyt0q8sb+cKNdMNwv2JntO3rK8Jo30osrz1F3U+xHHQzvVqYKmTYujVp\n",
       "12UDMvJmLCa6rTNIt84pOlV75ThwG0q2FRt3I6jf4pVWCtHBAm3AJkiDxHyXzD6pr1u82tiGTR+C\n",
       "L7ZrCc00c8qSY3sidIJEMTrdOFraZPaUfMD5Ay8pK/tgQ4vg1cuHJKhNOCDrLaUEeli72eyYrew6\n",
       "Xx5vL41axaNHcScR4T6h5hvTefgxmyDHPT+LA6LT12eJfBSLS6webJ4e9ATOXcvZ9Y8bc9gV3yE8\n",
       "SReHlboFRUeyeCh4AjgycvnNM64dvUfEZngvZ+iDxPIp+HliuUknhiIQ9/IxdyXBKTZN8aioAOge\n",
       "ID8do/MGFEOtxsELXSWsmk4qZdxCJC9WFuBBjW82uz1Lbz2NqH1kxdI5Uuf/HrYZ03H4BmZR2w0r\n",
       "F/qhXEu+A2MvJjkZH6C+SZg2nH8NlPkddAhAijN41p2Hib/3UIOXef8NA4tPWIUUom9m9rXqQ8H8\n",
       "SrrHaww3deWaQ7NhtaONoDm+J8qAHKu5qatxsrgVFCEPTLzs/5gXZBtL9XzENRrQZnxF8EIoISEi\n",
       "13fmK1fG/KvSN/58QAm5PA+6HXyrIVQ2d2w4c19opOa3qDFYQyXAQQaXnW1Qq21clLFidddW1N7c\n",
       "DhG0RPvIurSHu2szKUcgulr06HA+Pb3tIfM/OlQns7M2Ku6GWxc9vIdt1DQti1w12fzAmeDwPh+n\n",
       "d3A2SDZsoK+6mKC6HTNgjWuN67PAQ9DydQTD8mCLCFQN8GXCEOmq8AEtqJYUWIgmxxxM5bcu8dio\n",
       "2q/UnVfK0ZodmRthMbrz0cxtV053moWAfPqY5c7OEsgyn6auOQGHMhSpZjwwVry2Q3PwAay8V1Db\n",
       "vsMMFwGhpjQV9bq9msejIe877StnHN++XZUAfY49zLFjUoBWRqIzKD21QmFAILJp4IBpglFkPz3S\n",
       "AquXjCHm4TEXi5ecp+w32pJ4vzvkW+Nx6DolPo/hUkanT3k3jxFmivCIQ3D1jm15f+eU7YJ4ivuB\n",
       "0J2twIU7oM6A/DfTsIvy8Gaor08EnVwlY75cwJUEmsNWzwfaSatInR5J9wV4EzZ4XM2kp5tLK1Hy\n",
       "530PzXt9a6sKimdJkYUh3V++HIO/fEextfjhyTq0vmPijgkUIn16ce5iKS4NpvlOyIMb7gjZgza1\n",
       "NfPl4VSwczsYFLDNvpG/Af7fimLtQUFygdWcApzzQ/fBovXNdSdP7p/50sBKFOEW3L36uy98ySMW\n",
       "V7O2MTiYHbSXk3dGEpEQzt4fCCgiwg4Q3dDhvfgtnkxtOhYkU4XjQgCQJuH8yRw5beEsjLd0c/La\n",
       "HKz+IZaepYAApzfq8YLdGs1L3aHiEABgwHh2SlG7woydxfebFECavAnGVSYck53Vj742FaZMzDfw\n",
       "7uZGoiqDeFiu+47tFaAiVDfvaReIxl6EyGI8fkgsG8iqAP+BGcaKXBGriVXN+Ucr6/6HOPm3VQ5Z\n",
       "F4EX71bFmF9JDmdiOc77NBaEJAM68MHq8Z2Xte3xW2p0gbA5G3Kf7JnpmcAP/F5g6dHYNJoajMkQ\n",
       "68F9yRjzQvp8R0JKJs9AUKgS5ZZTfWqUSHHIVYrhY3uuY+dP9Kb9bTd4M4cG0loo61nnVRUQZyTx\n",
       "lWVQQbuak8MG9ODFMNuX1SLMGLWp0oIFt1kYpcgYcn6tQcZ8Tn6b9zS4NSRICX6VzmYiCBCC4II+\n",
       "MjY0jMyL8Sgcp2fWJ+annKq/XRttLvS6/wU1kBQ0x3HtX2wSkEGq3Oai/MeilMylGozPVF/F6Jrv\n",
       "heItp5SP3K8TxSzq90bjpyhHFqGOTotCln/iLxsAQQLWRW3IzMxc1rLrOuAmhXPCF9jud11nCjQA\n",
       "JVJcka57Bvzu+KAkaEqGZkIQFTViTfFt4NgTeBEgxuASHc1pNOd3aqs/u59elnTMz3DYs5WEg/P+\n",
       "Iz+TqRTu/F6ZxfuTZivy0JAAE+h1l0pwxWXcorR+xT0zlnmGvJBVP2j4/zbmYHuzAxjQN2O5/FMe\n",
       "eD2QBnSoznuJQmgmQ+1TBmE13KTLeV2AnZ4kWhzoXi/KgKGu31/mX1kERF3/+KAp4xZVfWTiiGYs\n",
       "ubEy/a6him7ZQafYXfMA12kPV6HOhOkdGUEh9PH2RcX37y4wv3pPG58o3rlQVDy6blCnjA6iNpmb\n",
       "fRngRIyMCqLEfzDuUU/bbgz+ZFGPb7YHOjkquwz+t3IHp3jnHGBdev0O9KCRf+GvFtYrLCfmHRSy\n",
       "NVu/rZmhWA+1xwZZk8G6KmScfhfFBF1Hm+KKfGFSK9YBYJMdLJQoIKV9ipihpufHPtWDBPuDUwp+\n",
       "gQZXUvZoifp3Wei812KT6WTKG05Ze4fRI7tR+tpk3ysaBXRmdrGztv+CLmczCRTyPra8ikA6FSDO\n",
       "vyXMIjcfQMkoTyU5cQbGdZcjbvVa0BhtesJYRWOq859ZDk4qBSzdAbVoxtalcTPzQm5rQ++TRpCj\n",
       "5r9qkJQVZEU4YBwOOn22CJQy9saXY4cipBkL2hQxbpHT+oFakTMsdNXkNAPgP9h4dujCTDnZ2kBG\n",
       "zHeA8HdEvtIF057r9bISB//mPfWgJMGlEY8Is1xZAE2zZahN3yklHyFPVt3ZBwD35fLxOTy4j6Xp\n",
       "Kt0ufnZRexgXhDuRRruSgZlUoZuAg6bWtleeuKl0VBxCx4ULMqbZyp9aJCfv8qX/6sJlxdPquVuj\n",
       "/5v8Hroc3s0S/uwDgOufcNanbF7I4YKEM6Yjz3ul8GUPCvc9739NyVCIoSOm4aXUBULAKuv9n3TK\n",
       "tgLuBbJYbRf6j7WPyEkvZa3Aq+rJWcE+aKTKSTkQjzseW6u1oowqERZfW79Muq8oAHRNlx1KqZKu\n",
       "Npjm9xu1dopIZCQWnN8MkXbj6va9xPYyHwh8UnX3hPiHbmOccq4dEQowFTUqn9zwGzJBHH9cfCXl\n",
       "iF5mtSdDhZqaXMNOW+OhY1ZvVsGWZfXNUfTrXczKObxiNr37KbNW/thuXh21vFPT+Ijo/SfEG5Md\n",
       "vVBsTheQhKnCbaP5EjKgzXYMoGnx4mJrvYJz+vuZ5v0X4qZ5UsnjmE+QRu964pYN7Q/gzraTfwgq\n",
       "eu8kIzzHhmGny+iPPpLAHVGVWbrtAbm7Ej+UBf04nG6pZPm4Y92Q6lQAVc3ElcETUIS39GI9BkdM\n",
       "wVpVQFW/kQdtNXlGlfTZLVr1sy+9uwnjs5J2DVg1A+QjIhCjAMqL9jznN2uKxdq2HCmFq1JpLfhY\n",
       "4C/JH/7qP8dYe+Z7ckWmyrmdVeUW89UTru4yg9kwSGzxvn4RRydObTES3GQ5s6KmxPKxgWCSL3qT\n",
       "Ih0MFhqgtDpHBw7Wwhy8MtQaENVEkrOkQMCxKlc3hZZ3F0wjREdlsCDMaViPoc9b7OgQxFDnmm/z\n",
       "/WzLstTDp1QiE1tbvBCeoRVHK1546v4ICrOia6hYQFdz9/Gacyf0qYn+L8owMPwtlVN4NnofIbp2\n",
       "ZeW3iS7RRakE2GvHpRdU9WfwrFBuxsXd7Ww7FmrkYdS+ZbhSBLU4Oy8pmovaNZ+nTYCU6uR/HAqp\n",
       "dsu1zvG2z+LBxJTREmFf9gITh7qxlw4Sm0H2RCdwpE623ryogwVjfI/vvk7XV2Zh3XXFS60yDzh+\n",
       "cAdZEN/15a7g9HWTXDFuSfR5EH5qxsYcQerpMw4vUtmCE9CUnlFvL8lVm3PTYvDL1wa8LUF0KORU\n",
       "r3ERJjnnfX+yJZsQqPOIKPK9lufSRJ+HwbKUZotW1JnH2txogBCB0gOWMlNe3p6UyRFQ5LMpCL5S\n",
       "4yjPmpxxbi2hEMUXCsEflw/pz9ZLMpHX/rlgc4c6yJP/kIxgPZhr87HJdb5bx3YHZH8vZAQkIvFP\n",
       "sPNxfy1AJHu5CDjgPmA6WUgo+S/okXZg69w/vuBaV5Mb2qyoeBFMOhugJjUFbSbJEsfZoSb+9LKH\n",
       "dy6pZA3s/37b+QEyN9Amo0q5eYGhjZ/CKwi7k2uvkxeA3pvj19KmABPlb3JlhoUHb6+xxkWdmOm4\n",
       "BihcJPOjPR2TtWzbjeYm+GjsIGVw6vcNci1tLmLEaONRCeTqtEeLRyMPoCAGVWGgdG4mmUeSPM4J\n",
       "CB3WUSp4mSLSd8hGnh2Wt4/pEOMYsAeY3zjlioK9Q7uluUKDzjOyqxE4w+1pwWu4w2muljjLUvZ2\n",
       "hCNKaEiqDsi27Rr5IL9TcNTGAoqf5xndhHcVllPeZLqHRYz3ky6/dStmZRYwnWja2QVWYQfZrYM0\n",
       "D6Fjj50ZlyL4JpiuRTJLEqlVNzi26IqoNJoGcLmmKCprvWhSMAGvj6qPxAJIBqWjcyDP74E2/0I/\n",
       "ePqPaUgZRKi0yaCIkm+byLmtxomLe2Difri0EbdJDI7hGJfe/GvOvqA9vF1FQ8qo3QeWIWObwRxw\n",
       "AZoRCryPvTgANuzQn1PIoDSTlhcyC06K6tCvE/q7dH1np5qm/oHLd4ku+ZNEd0zWt0oaTHR+l0ih\n",
       "JmTtRA45HpyYG7W4RqlDW7EshaKMnqMAnBw9lmZE4KJdSU8FzwoEVxO0cLS29NB2bXYl9ymH8hBw\n",
       "JoGyf2gqJoqHa40wL//LjNFmwSPdBTEybNyv6GDDX2grFD/fI/tROpDldhpI9VxsZmnot7Ygb0ej\n",
       "JkLIM9SryZrquuJsZy4dI0nJnN8xj90GnwBzHMa3InHjP4vKuJp0NrlSsGTSAET54yacDbxcQ7AW\n",
       "zeqgQHJWfLjCJo/dy9hLpFJKWbT5MLOaOvcvlEIaYUFrQiRR1UwiWiY4fTv0EMZh29pBJAg83wHA\n",
       "xvxQn3Z94sUIQAWZ/Emd4hSWZnPQlozvWaxy9Iuc3zLz3wO9xY03vcCRp4e8vIXEFa93GZJvfxR2\n",
       "DuBqrBXSInNsVB/bnvdV79pXAm3jHZZiRUplpM2K+zMrdHmePqFQjTi4hN4SPw0QxqdA39oJQK/v\n",
       "fgKzA3TqhGHyBTxbSvjtYYCCwyXkDYlf3DNVpMCmocqmWbMgxHAigohnmpFMthFzZKMjoJ1jmg9D\n",
       "pEuXGyhOSzu3WpcY2SCUCmSWflTGTXnj3hirs61uY3XSdiYq45OCwsx5C7Xg1ku+j2Rmez270S71\n",
       "wItDGmT7wra4kdrRzKlDH23aK8I1w/TPq/SYgQKduJ7/7ZUwMFRz3X7kIB007/25hrbwbq1E3VGt\n",
       "m9nxviDfur2VMRMuV/tNiw0cuInfMtpGJk2FCNezm7e7aYg9TgkeoU3GUPeyuW1IMOxGMFrTQB7m\n",
       "8U77Zd8S2OoViNQHp+nMISYxZc8VhGDsCqh78lNrqSDjlHGxgEUA1xLPSWUSV120P8jsfATyPFyK\n",
       "g4j+0Nr3BcQ+LYMJx1vwNT1dSGb2esB/lpWZy6VGtKr6cz36aWxwBUQyAY0AufOAGPB7IxGOevAP\n",
       "UY67arbXP1xwKw0mR8VzRrfjwkpJfr6aKQLJalsXZw2tqBwDV3udfTyZlNRWqSZuaDeVEvR3wAnM\n",
       "mCBEKhtDNi90LtQOVvDm9u5XFXInmSEMR11sMVTWdEXsSvsVsxDeWUNwZ0QOj2VnB6s5IZd9NcFX\n",
       "yjtQFE4Mjx/bwwoFOyvCDcq243xy6MJSJwaySO8Qfn2bP/UEz66J71eXB83xsp/Cf2XlDuHYY9Rd\n",
       "3b5Of+yL7GToOda3zAicgxfjttqK55ptdtecpXDJWGaXFox2iFD2aXaj82j3+TngyVzQ6MbV5XNS\n",
       "2n+tHWjURMYncX0YuIp2GwEr5fDm0J5SiRmi8xR3Yl5g4N1H54lts96hxjNJWTlfD3RgbzeokUGF\n",
       "sos/foqAEoU70mgRwXUM6bSAqEZXeG8qmvmEGdHcUXNBJLZ9dNHPXUrKhHYepA+smm9gyXxfs+wE\n",
       "DCzZmnNRCb6r8sgbq5grEeTYDKqdstSSO1yKIDWeqMl3N5k01YdEftV9QPF+5Z0Wf4H3FDYD0I1a\n",
       "v7QIMljVKw0ivM2aLPdslDy+4KLYLhQPvVr8ymlygNvXyKmGcx+fNUVfzghospxEMvbNpJlelEY0\n",
       "GhBGlejhAOwjfAdsew09ZhohDKwlPp20/swhhNPeXXcUSJAjsR4qn/MfH7juLI2/e0Rbn7x6S+df\n",
       "PF2S7r+ai/Qa1CoZUgDGJM7jfpfimYIgpyqNTGjXuRXhNE6khDy8ljBIhw/o0D5SSLc0tuERFSZ6\n",
       "4W01Z45rxTFm/EmdgP39XJEeZI9aLvKHxKqdsPAgvvdAyc9kdLwNZzYHUPUM2Q84Z5gXitpFbM0F\n",
       "A5Rznrxu4I0/arQfQ4lgQAfL7vPgSo/VHq3FQn9jHeks6NpfNXoFLorzN4C0jGkCOqOZoVeAr9HE\n",
       "y1dGlK861GrGJ7GiblMiMhN5DQMLYojquq8iCOM/DvoNV90bk7pn2ndDOLJjLqa9FD8ot7lf81fC\n",
       "gv3VhImHhOMLca0jjuCQGrmK0C7QVwZl4gH2aKsiKGro1PpIGW1P4hGHm92TS6fjcD9MTUikLeTQ\n",
       "y+ol90jRyZeCtFXRS9Txv1rnH7mNS92EPDONGkhdPpUxLzn3adJd28e9TmqEHngZn3/w6yaNgH2J\n",
       "pfWpgh/OixOiEYQ4fYmNaDELESHI0noSeQOp7dXJMrzmS8i4E3SF1q5D/YFR98ZmIYLZ97zwpJVU\n",
       "0Oa7sbbFKbLKNNrNwSWVuo08GKIgwVFMYYfzU/r4Wo8uFHWEf8ACE1qLRKaHrtQZF7v6mSF+Ok44\n",
       "b29oxcoJwEYD6gHRi8jf9lpdKRTIVEBntEicw06zsrCnXCNUQMEic/FRTbkH9u0bVWb8nfsZ8wR5\n",
       "ftohzBVG4fNBOGO0T88ag6GTcGMuq+WuH6hxAyWQp49uuzFU+h1SgAcyXvPa2EmASKx6KC1lbZXn\n",
       "Ir8cnq+2mWBcl2lJgK2ipkV1g1lWnrvYUNWERTZubMAgB7q2oxueebShqj1Iv7V2qO+GZ55tYSjj\n",
       "i6+IMgfTiop5D9rxY7du/dVk9u3aJXb/MZAUcLfR99cjOHwrUnjzPa3rC7HZT1QLgCwmCtPA33Dx\n",
       "TNvGt/xtmHRzFA8+q/gYNeekzLI22S+jVnBN3/PunwD5T1mVf9ExcWZgpbLZlO6qZto728JcputH\n",
       "rSaNZHGP1DZRgmA0bofpC5uIy0DqDmPwXa0w8FNZSncCdlpldk5IJSr82Wj8QTEzVrcibYb/uLXu\n",
       "fBEnaePBpXPpk3vmPBegS1ez99YNAiIBhhzhGJJY7bGxQQUIJRIjs+56AxybJxDco//Fr71jUd0n\n",
       "p8ctHjopwLTvWzW+Ovhclkr/T0Gj4dCWjGAoguS3gNqH/e6V/DH9lbyW2jOxYAKG67zhJwypmWzm\n",
       "2ouB2BwdgcpQzDjFuUMe4GgmA2jWdMmiYHYdQugEpi5+yIFnsL3UivhFshzYvT2vuhFQVTlnU7e8\n",
       "sTg4l/GI517voFh2BEVgCjbEOa3zg6aRa8DhTQCDPLs3nkcxAID7sWVg6iut0+I7YWoOhOJA8uNO\n",
       "rOFhGK7IEH+Qccnt14GP6Idu2AxNeNdZ+38koVIKEf58XgBQD7tcuQ8iampoJobAkYLk7WZVRPHz\n",
       "SztfFtbEsvbkIf5yCKYAhgAqrsD/OYrRBHPsD54m7PD5zE08v62Dtf6Fv00iPMwXnfXAUQMLl3rx\n",
       "ALp8OmvNla7GgWnXhcRpVf9mdB1A6NZcYsowPnvUnIPAQZ9+xiEN0nvMe+SzF4875i2eaKpv4IZq\n",
       "BvCfoTQBUUMCpmFsUSn0dcR8t50WabQh/OVhtlgOuTkAsVHuEnpdijDYynxSAA1r6xUtRCGZOzP9\n",
       "i/rvAl5zgPc+9uMXWriBasbdVUITydpBC9l6PPQJYDu72RPid4CFqqMgd9KGovFGgXFUkpabWRCU\n",
       "p7zBSv6D7FTxl9PSrhBWzq3r9KQm/NTQdE9zkfvwdBOj/CEgdm/W/l5elhBTQ7nDs2t+3zPdZDZm\n",
       "Y54rYy6TyVCZv4fYoEJJmOPVGEV+ulVaig0ZgR71WLHbaYugPYQ38cx/UbgEdlh6DwXcaD6UbnUm\n",
       "nFeghqTYvvJmcOMSKVnthW1jWNFec1e6m7Ypa8B5sovW1Y0HSPEUEcsOGH4T6htHbnNKUfme7Y7K\n",
       "BZVAPOdOj0V+CvvGC2omIEnB5F4qOVpDiG6eJ8C5R9xIVWGNrCX9A2QV3AroCLhEU+KcD5/mF8ve\n",
       "25eKW3kZsWEMxcyoF44vGbbDo1z6zYq0Ox4JUfXbg4EcqPCkVuP0D5YXWqmqil8MwKFWSYggjX8f\n",
       "N0CzL3eHf5S2iJRVfcFToOrqw7tg/KhHFesLNnvwvzbZiShjdRXQtlaliSirsUUMbWuJQPBoY7v7\n",
       "Y2XXth68osUZx6VtOOW1tim0xEOdHatoDeDiWzLX8MgPuioPHlHQmgS3Bqr+C0TkAgDfImensVhW\n",
       "2p66+KUcOpDbekRS+t5ZM15IffhmuahEEjzk4LeUfY/tHcmB1Xqi8SEAJ/25crwmZ9v/C32uf48e\n",
       "9yDJmjsks9q6KMk8LQEgSXhhf/SRzD/l8gKMXOju0SU+Gpt5Ok6RbygfIq4tUmwAonyuHHPRlbJS\n",
       "y7Y5MNAp2NMwFyeP0athPdYFtylz0/cbbTv41J04E1iTutHFD1o5UY21gl+I384V4cEu1pQQJ/hT\n",
       "pQbTrLW3ldp47+TXQbOvH5dG65RQaTLDZ8INhCiJfWYmdpQf/oa+Wbo8WCDEYAZhRbjaYTieNsEB\n",
       "5cPYge3o+qJIYToYySQueV+h8BMJlE4OUMCGbaXwxXI2CtQlaxPAB3bzV16etOAuSVE40tCLmyKK\n",
       "r1YsUnA0m318lY+iAkdh1dNMxunq0Y4HPYNzWi73DwhViCiY7G/FpxRw6Ez9gv6M3sNNdIBGN3pI\n",
       "Isndo289Ko2xSS2ZbEk7mLsna1ugry5bBZJU4x2etEDZqSw7T31XjUmj6tG0+iGEK2AKNmRdSJpJ\n",
       "i3nZ+K8SVW9rvg3Z+G1NUZ1HM6YpTU6wpOFUgHYiazM6AhX2/+bYDfY83ewBHrDkhVHRzWaI9iOc\n",
       "ZPgS3ieRNmMeypLPem9i6JMCQSwQq9OSie6IPWULA3FLH6h7ON80R9sM2z/0IIa7bydtJajh6gJQ\n",
       "mq74euFOmTNRhY+nyG40LTDinHranPNEKohPj4L3Yv+Oy8FIYPePqvio9CKqjNvKUFhUYfVVqFGP\n",
       "icf/susgdf83peCkzFak1+dlSH298Usn2feHuwf5/MlDx0G6NFsiNyySTmNBO+/lQ9YdBaq6bIOz\n",
       "W9VzsPHNMEHYKjvEVWcXr21Wq2eZDXesUJNk2Gu1n7KFAFN81pICq0hZ8dBN1U4akfaxmpW0l92Y\n",
       "vRe5wTHG8laPpRMw6uwfBSFyRrRwYKSV4B7HMeea4WgwlCeEiU9tzXxGKgAQxe10pOrweLzWanyP\n",
       "IudjgoUD+ovxquQ6W0WLNF9C+y7B2+03kPRXj8u57UmVD+G9yu3Ows6RoTX9QYCutAV7rrDAN3xG\n",
       "NuHk5a3PLvwCTUbfJAZMDJOacT/sFtsB3cLNSqry2QKvDb/ZQ7AlDxCeqYplz7SeuY6S89p5PJAu\n",
       "gAEyKCx3HOFyy7iw3kNxuXHTJJBSiEGaCvJ4bYncG8lN1FkSwsDb/UDBjoqTF061BZBMeI4X1Bqm\n",
       "A65Zh0NtWwVAcKJigJ9gZ/dhSTaS6S/Ndy0pfmNFb+kzHzEc1AIbfC5kYr3ZUNPBdaA+oZUwMv/9\n",
       "gXUUnCcoq2ot5W8JBh5pPraZb4omAWrONKQsbTiEE4e9IatQgGL8tCTk2jYPHLtTP2NJ2aUSd+dT\n",
       "j+079cO+JyL7HtZjNXaxSI9lK6ay+/MFGFEL5L4y/IAsENLYDC6ToKzMtWviAGqBkrsuKZoPCQS5\n",
       "VMh5CYpZJ6BkFBJGt+zLDmfiFyc4eWX/6LZcOpu3B70DRAqeyo032tyMFPh7jCvSKcKfM53wHRNz\n",
       "4oE7IJHexiLqfPmwWk9l753fBuyPkta42Er+UZUBMDDxjPXTD6MFFUyP4kPzvOzEZjNxDqVxQKCY\n",
       "wntqE7HbbPrmNQVHfLjbf1iI4MOCuGDSLmUY1jceWl0bpu4X2HenE+Y32pPZ6tIsgKI4L4LG8AcA\n",
       "a7lTSwpW/xl4UId2ouUYCGeZ3IIT6M6KVtFRJFT08gc4D4Q3jTkJM7cL6uL06b529K0RQ7nupnvO\n",
       "7FSCsi9jFesFsUoIrwX76B9nVJBBpUP6p8Qb6fjkej42oGp6fCVB5zZlS7mO8mqKs40cd3SZD528\n",
       "96y/HDG9EZ6vRLlfrnTkU11Ks9xMgREs2rVQjxGNc5CD96Ec3BLJfw6xruNewukvHPsdTFvCglrT\n",
       "z+ajjmMnJ8/o1emnRi17kjPG+fW1nry4yoVTX+Q+RZEKSR54HkTKe/YR2Hhm9W7KErS73sExcYQb\n",
       "FJlLJ1uRO0wUKBwXiy0U918/6D6lFATcN0D3Brc03RbWBnhoOoVfCj2FWy7pgZyyTuUZZlOVN5y0\n",
       "yu50rCjoi7dnz+MdMV0/d3CSWoOCZ/BeAnC0f/EIB6Ho5sr+8Y4TCY8TeApKkFAmQe+Z0AgOQH+V\n",
       "8fbPIjIhXLgwosUk4zURnuh5wDEckBc5KmI//aTapId/8SUxU4CwXKA5Tsdbid+/ILEHzsK5Pr0D\n",
       "Q3De46GCRuKxhZZDvMX6Kkvzyulm6Hki+wW72c/b7o03SgEZ1eby5GlF91HiYQeAqOBAHZG2gnKT\n",
       "1K1iVB89jBfiEJd62tzVIZragbXVpEIOZDZB3Bw33Xs378XVCxMjFqcCDyEIVLruTwRGTxQd17LL\n",
       "FLvwxrLzA2RXkbpI3hbzR2YNa3r7u6fZUogIc2ZVvy42Az5qR9bCqM43xUQ0KY2LO9y+eB16hRB4\n",
       "S9n0YUSjdVApWPNKNBnfiPJ22bZy805fbGo/G3W62LEq+eTGEGgFE2K5T1Cf9CMODPzoeqmKOJ/r\n",
       "07q6Lr40QFFkDDGmFiccCkEP2MJggvjT20/Ax+9pdQoNWlWnSSWmuYCmlN6+eUZMA/83AEQyxY/5\n",
       "S1LPY/Y6DnIJUYVG5k4LPKZstuHsuF8Me9UK51Nuv30f1Voe/zkvNYr8ZZoMC6ypncFWM5nJo/qn\n",
       "8HlKVRo0FQChbdLuDWLrn/NrXA+9l1cqNMFOh6yEmho8WSj/xqXeiXGRIV44rDQIcIV0wspndHEf\n",
       "KGl5xZ1LzVJbz8wybf96mDBd7jSscai5rs+5RKVZojdQmnawMgJ7LuPf+WHdkAN2w7oY8/IEDnnI\n",
       "yLBGJd7/97xlZNYzo7M1dm37N+1eIlmTFFozcNj4UtnciAL/29B6WLz3pqpZ3pXsfMBQrNOyzoX4\n",
       "exIl0xBMmJezZNZXRON2wt6MJefWbYU3Zxl2dC7TcHW4rxslyY/9wcUi9SREq8x+FaTkJIylM+A9\n",
       "yiCFRwn80MT3IfR0W7qfSQwAnSprFcCLV8a95cpSRX1JEbxB5nlDqYqca8pK9yec/4zecOHYs9cl\n",
       "SGSooCMt/BLjloIYksV9mwam1dcAkWCNJHxMDkac9hoHEgJJxPL11xjx8Smt6dTXSaLfDWGPACX8\n",
       "w17FRdrxSeiuhcXC6GaTyKabMWoRgddup5wGBUKEfSMiny5dZiqXWVpI9QTwrTdYarNMFGV0tJAw\n",
       "MhsqCXo9JEjsJ4yNT+8VpTyQh9HOXWz0KmT1Dp47Z1gLxPXd4LxxwaeTC8uuiPufFH7/oAlPDEYb\n",
       "sfiZ5dZG4lS8dsj15DaIHJmwA54Cj8kpxS3/PvaE+NxwLHXxKwGLiD99bTf6YpTwwH1XtOqN9hvA\n",
       "ul0++lVDbn0lHQMRNVPIKqk0c7ajcJWBTiT4kFCtlY9D+LHE/kI2zhOvpMq/uWAECk4pfBB/BYXt\n",
       "iVj1mtBi4XqenDvln7x0CpV38oh2ZbdUmFfUQ12FJmoxsADUjlSiJ41V5AWFIcw3Cz3b9OPgHMSL\n",
       "bvhNkmqnkGDKIgxZjbNSOi0hx8aMydkfta9QM00wLx+UlKDAfj13UrjUVpCYs6/DuwhhCZj2bvPA\n",
       "n6nCToen8IRVIlip0CDDyl3y7B4FplK6QCwk+w4+bmvDzQ+tR7QFheb0HV2sVAw+UMQ8Ek57qzP5\n",
       "fgAxvyn2O3teblhQx+o0gTsCu2c/7aLKXxI/eC2c8ARfkTE8DPCX0D3wQyhfHc48KivkmUK9+Dju\n",
       "cm5ubuXmce5DtW4YKbpHiu5QBfBQSJ5Y1+8dIE0M+PRmhQIhKMZ30+qe0REY2HK0VVCI/22XyZJY\n",
       "GKDD+cfXHdO1FSde8zBsQvTt7DC/6jZkV1a2LO9Wx9U6RaTzdRee3odpByKfZVVlrKDK0PKCicCG\n",
       "dBD8jMLHattd70NLiOKT4jmkgj3ubxUP3K2qLo/e2qEEwlN7hVoOA7t1aJLLTyAEdU5g/zLsbtSP\n",
       "L24MV9HObhVqrpevhC7gP+w5fY7GRz4gT6sPEmdurGghPclbW7ct4FGrjIaHd5a07S6jQBQ/811P\n",
       "UzxhTAZ2phih+ORoNdld3y9xW32Bp9XvUAzbvuRsyGo7XuZxOaeokUOMVvqFkIBj/aX3SxxqwNbl\n",
       "CG7UXYVJ7bjnlXyQoFkx0q6SuHo6YagLXq9j0mCNPTygQSSWbOUVzTVNIKT5XTJGoD8nd+t+U7LW\n",
       "BnMrAbaZ9HPO6zCtin+f+l0I/QusVNmbALrfBztJU6MYnCFA6GHvFkPY7isK5iKlVGHPXsXXLViJ\n",
       "ECppE0x0AJMspg1ErJOrwsMJfcljfuDY7SRwKRzQdkrFrtctD2+H2Z/4MmAzvZfPpwjeHTwPmgF1\n",
       "7QaDSS8Gy0N1avySr7ZncklHY7r8yKzKAahbyc7tJ6rE1VMz9PmkJ4uiv9D+Fp3xr3NpMLowJKZh\n",
       "wkqOKTN+DT3BTzm4Wl+x+AaoFyQxguBPNfQRqDKpt7H6H/p+2KuAd9PPHrRvHp5KwjA2PzhMPKV0\n",
       "0+llzKxnyeeP7KECeQ1yjA0BYfBPdsPXZvpUgkVWEi36khG6DhsVw3mPQGGy3jDIjql6ldbur0jG\n",
       "O9GRTVwPbzEq6GmVEjsi9jSJnFV9WY+JVxF3nk1YR1cbIrLAjAxOKg4Qks2kZpZy80Bc0h82qxwc\n",
       "WbI5aW7c28WE61ZZGqjGM3XQ1PBkhrXBv4sGNhI2VGokC0xHucGSPQYwUbiHV/WMrTpuhIPYD5ZI\n",
       "XNsJz/26Bd9y34dF9MUjqU5gKOp0d0XlLtLZ6OuOKsAQLejMjH3dT6EFPyQ+sAKt4ITGPyJN4Puo\n",
       "PYDW/puNT0xotmgFYR+W/pefMKXT//bYPdrgoM3rvsl9dNt+9w/R5m2rUbIBOR+i4AEi1f64oleT\n",
       "aEQloNJDu2SSKuTkrSVIJo8STWq+Aj473CTsG1I42WJ6IWnbTAM7OLKcEsC0vvokDbPG0AHjozGP\n",
       "YLPS73+b6zPumqHOulbPJ+W5Yjahk3ztuvTtKP910aKj2gHpJ3DTajdzcUjR6ATc1lPk57polLCD\n",
       "bG20vVkbPpcZs75UmlHuqsfJrUhRl0w54u5gjXv/UGB8l/uPwVGPlPBfJOWkHBGPV9GHY2t5saHt\n",
       "0nfU2ZGpc3HFYelIWa7ayr9V7kt3QWdMnWjT3+3Zak8n2ypUygU0kBNaNBn8f6POPpfhG80Z7KSi\n",
       "3NKyUgOalhq08YasEJAU158CN7OmhLjyJLLuHWayZ9pnyfgVhMIhUppnI9zJqAP2PIeXij0LemYJ\n",
       "s67pGrPbKnZ/Aq3SkhAfB3tjupDRcajVABGPfqKMEC+R8kiGnEP7SCZV8lBWh+55u2sdZD/kSFNY\n",
       "1EjFbJtORBRzT0+4EMYnAQO+5KapmYJXLZK4xQJ4n45YkB4MbIzTGUqT5lRLP4jjC/8NPk49jbMn\n",
       "5AnvahLMcWioYmW6OQZ0SkTv8We8IgAD+pOM2SQmNYvIHZFRpqp/S5O8xslSRJfdeTCqdWNS7BlI\n",
       "LQhFsvV/I9dxBfVRBRptMzlvgiUC1s7VIv0lHFr6DLgWbuPf3k7zmkkN7npmOFnugfpJKT9UgjOt\n",
       "Mpc/c+qdHev53pMIlrz1euf21coMbKyeg/Ir6HuYCCgqVblIM/LYdWPNdA+4gDVNoBBFHBOFqMcL\n",
       "oGjqQx0K6+4Zc5r+kmAxv3Q7rs3MWN/D+XFsXKQrfq0eOkQ7w6GJZKscxfcyemcyiYamN8xu7Ho2\n",
       "X+oMQlZbI3N3DUc4yihE7kNo/6OlIWgmMsi2bTpjaISLr+BrNpky3/zNpQ1sy0AR0gj9uaHBZ4iN\n",
       "4Ml6Kv1n8MraU4moXHffl2+PygvROPaxX5RWM7K+o9bRpQHYha0L5Vkd9cqvPdiL5oe1jmQtJ4+N\n",
       "WH7Aeqh2VBJvzGfOtb0967jIVsSKLQqAwd2SsvIcwUUUJhlj/6pOyBHd0QmnLO5pcheKjOgd4dAL\n",
       "n1czy8yO2kQ2Ju8MVL2kV95NCYIy1Gt1PcqyYUdptqwgOtNCYvbwUNdWpXtoJArWmcN6dsyfz6Pc\n",
       "OIN1cTLu6YWzEHR4r7mwDeFE9tlTZt8sBLp/cTcsdcpwKzeiPSwugLA6YoqJbmyFAOBA14k7E/j3\n",
       "kEQQZc5IcYtZ5uP2PCmcQBnOWJDbolnBNzcySwh32A4k221gAJsYsCR5rcUrGTWzbPC2Sha3Y48M\n",
       "mFWe/p/pSD1N6eAQSMJ6QRfAg9hhsjLVF3b3pXrrKfkcsAih6PpQ9aaURcNvfgdLOrQPtACZC4gt\n",
       "b7FHiO2zQwgFYe+LZIaHVPwxmdFnlsuUCqviSglpujQnv1bNvwkPw0pBJkBfOgvpu8Uslqx+Nw8V\n",
       "V7vGgtnnddf8Td9pHfYCPUYGRaf5DMVXRLshzlL+sNnIkk/jblT6y984kCy8NuiAUMcFggfElAo/\n",
       "sx9KAebMj6gl9CT3mDSPLj8ZisANvrg/1wrQ4unIAZWv2b9hhsOPCeCQFlCAF3MS7yWFG0Ua7TsV\n",
       "JQSmPwjnyZmrSezYoJ9vIZ/Hh7LZdw8GG+zLpFd6RzOAaMXEeBPzCCVtz30XQzuOrMAjjQu8KFGp\n",
       "8w7SBE1mrJ9kQPiDhZ/U+weyW3iWmjvdbx0ijmx1OaGT64cyYJAdLuTbonZ+H1rl7h/I65IFlIWQ\n",
       "AWQUjGuaD+L+Q1X6TcrjN7k+mMz/tTLVl/PoI8D0L3ZDNubmNAk4qX0iqY9Js3GXK18N6L7J2Mfp\n",
       "YHgh/CvbecDrvZa/Fu4h53FXhNHIpSgDJco2qFYHv3NrzqFvpzSoz10GV2Kav8OgoDtb7RKEjkIU\n",
       "cHLlnV+sXafJc92aK3e4jUArcRMKC5As5aLxweTObm1x7vlmpS0+8CwqCbqx7gKyrDSSqBZNX6wB\n",
       "xH039nLVCStMMZGYnCVn/8Z32RiX6y3LD3KQgL1OKO59wP6K/6oCJKOBoyRqY89U+e8TD0ZUKXad\n",
       "nQK+2QCqyETt0tfez6t88RQurj+kkgKIP1v1+TKPIxMt7RR6CRLS6Hi83ABZyTDoz/X55UKcuZuY\n",
       "UEwSXow1vwi17Dn96zSBF1KIlFUiRcO0J1L+JcKOLhocAE07SQwPqb9mnNUbPzCEFL8Lj1xx1EXv\n",
       "/5yIF55DiiqOnCGhUa7f0XHU9M4AucGiQ9niyddntrUAACI3U2q/9VZreST27AU4FhEAAAJHQZok\n",
       "bEM//p4QDJcWJg0OW6RCcAGqE9pQCEAZxOAqkqd/Oh1n7T0vQsFJ9+YTWSvWEBzOKCAagCkxqbo4\n",
       "l0UKLbqm20JbqP+HiMCYhgAEKi8UUue60DR7Hhwk2JU5LDFbdUOEpeSgOiyYniOHz/MC1mbf3am9\n",
       "DaOCzQaNwuV5R7sqWrM/QcaLWWvshrifTPvN50F3X4jBFm36bN2qc6Ht9wqKR2WE9RzEt07rEWVN\n",
       "l6sWCu4s3TATKUZgq41VK15yeEPabjlbnxR+iIHpjrzjU9Xvu3fFKXG9GtJiPX8L/aO0RZX8BdOW\n",
       "dC3oa+FU4VyEz0eUo+G9ZPG/EPU/i3iMIsaD4kB6dvxeCDCF3MuC/SZ6G+wPx3gocn1WsNcwl25u\n",
       "mvGQ3ZG7bVDkihg5cG/+EeCDzm/4euCsMhfb4oplWoUlb8J+C/xIIHl2Mo81qhxJH7JKPk5Fc2J9\n",
       "3svGwMpsaEs74y7yu95CQtBILre5UpVNCXJCPCk0B48Qge+T49QKXeB3DjDBXWxAvX9M2Nic87l8\n",
       "WhzBt6o8JyfYX2vohSzlcucU6Xh3MSEsT2wWKkRPbhCLLqh0IXCBON6rYS9ft6GgccTn0yysGpgx\n",
       "p6yvPJPlOpykpwbhdk6QMbQGlI2LX+r2kb4hbJon3bCQ0pDoeaPEPlLeQ6r6fYr/MmwLNIeE9nmU\n",
       "A7FE4w66CLEN6WA1YwP0w9LLxoa5NgAWBTejG1IpM61pGqSCUlxIvmwNr8/PQjs+0XwR0/19o86k\n",
       "UlWY1EghlTDrgAAAAD9BnkJ4hH8CqPJbNTAmLcDDNiV3aW4zGaXeMguTa4jq4pLonAIsUxkiYTPY\n",
       "KhE024hT2JJGui+O5qcUkkEaVVEAAAA5AZ5hdEf/BcbOOEG/lTBvzh9XxsbTRVMUVohtO95NM1Vq\n",
       "Ig0wmzYAP50F/GXddWdZKoQazHNh+xawAAAAJQGeY2pH/wXHv1IHQFh2ooDuOiG6PXmuulwAJh8B\n",
       "2OVmRRcY8T8AAADWQZpoSahBaJlMCGf//p4QDJcWJg0OVl83GAJ2ZocgIQBi54P3bUEg/ukTIKOM\n",
       "mSZoA9nSamcCuf77TWqEPjVzy3dRnu6mkB5fXINptxHQXUliva+0YXKI3o6by8/7fnvQnvfvWjT3\n",
       "jooNzm4FQcfZf3gAh3VIvCSHv4QRgvgN8eJLf33rRlLOPgY0K2AhCkclLHE5X4Q8QIcMI/9/APdS\n",
       "D1JQIEMt5+Y7I2omWKRM1oiKf8WR5X9mn1hk8tu/Y7AUKreAMFk1k8yU+Tug1RdSgOg8zh1DwQAA\n",
       "ADRBnoZFESwj/wKyE2eEPed/0eJFzkLX6DcFVijA37lRzXXikXPgAtD0Mq3zSty2iesV2CDhAAAA\n",
       "KwGepXRH/wQxfv8tHmTjh9VVSdwtWhPy9f0AG5jzyt7lFT/qvKLO0Tzbt/kAAAAoAZ6nakf/BDPg\n",
       "gOJxHG5oC+nkNrtm25tQOdgAWplRbFZjYhHaB4waQgAAAIlBmqxJqEFsmUwIX//+jLALzz+jnYG5\n",
       "6nbYO1B8yLObJL0qAFJJzCHnR9T/llyxyYqa22y3wJruWQJc8ntTbJI5RBTnn3b28PSzCLw8rITf\n",
       "Z0mPMso20fC/YjMRCLIxs8zua4YvE2j1aehbSwvH+V0AeJX25Y832Re0QWPjhY56ZzotWBNYCLG8\n",
       "sAAAAC9BnspFFSwj/wKyExsOM98UofBWYtd2IWZru+ZqrILADc0gkmt4uodMAVaAccEZwQAAACUB\n",
       "nul0R/8EMX7/Mc8Q9LHmCfp0ILUJdU/YAC4oNrRFxM2IfLJQAAAAIAGe62pH/wQz5EIZi/QPT1wd\n",
       "8CwAF0Ck0iQEei3u9LagAAAAOEGa8EmoQWyZTAhf//6MsAAA1DtgICJ4gDIDTVNswXfc8BYCyzeQ\n",
       "xM36GkaoWf3aiUPjPgkDGGQBAAAAKkGfDkUVLCP/ArIUHB6pfuZOvGe7qnHsj6eV2AC1SarhrI9P\n",
       "J7mxhjXPwQAAABYBny10R/8EMYjiTrhG22R13YUakRy3AAAAHwGfL2pH/wQz5EIZi/QPT1wd8CwA\n",
       "Fd9X6rMWCZ7PS74AAABYQZs0SahBbJlMCF///oywAAGee9owBQDAyhdxVqUFPhZq9FErD3XWT1pZ\n",
       "mS52f+J0xiQWBC8GiNI4p/rja6SqdHZUJBg5X4XVcXTz22bX2RetHJImWuE0gAAAAC5Bn1JFFSwj\n",
       "/wKyFBweqX7mTrxnu6pyNd+d9H6gABKJM7NkShT5yt+EQ82jNWTZAAAAHgGfcXRH/wQxiOJOuEbb\n",
       "ZHaFBRgAFz6ZgIqxqIKltQAAABcBn3NqR/8EM+RCGYv0D1iSHpQZyV5voAAAADVBm3VJqEFsmUwI\n",
       "X//+jLAAAZ57u2AaaRO7IPxvrArEaHvt77y+LwJrWZ86B3hdNSg32zERJQAAAHxBm5lJ4QpSZTAh\n",
       "f/6MsAABngaqHD5ABt+pQmT/MfSv4eYikhRYPt0j114rCSdJUWSRfjQdD0v8jQJbNxHV/hdLCAYi\n",
       "/qMsQyzRM/6bVnbzikU12hjrR6Qx5UGN6th2bLLhcf9NmspltAPUdhzJ+WIBO0UgnUIlBd7Kkzos\n",
       "AAAAIUGft0U0TCP/ArHU72XgSAOk5n0VQv5ejpk0FvfmGh3IoQAAACABn9Z0R/8EMYjiTrhG239U\n",
       "6gAuKzLYvdGyjgUt88v3wQAAABYBn9hqR/8EM+RCGYv0D1YKwVNVQXkYAAAAM0Gb2kmoQWiZTAhn\n",
       "//6eEAABkYVU4AdI8f67P6lyzRJHli3OHykvauDOe1yGMdNRDYjQQQAAAF5Bm/5J4QpSZTAhn/6e\n",
       "EAADIu3HAHKN4AwgAOBwFMFqGATj6+NkNMya336JKAkSAgNLZP3EkgzXtu+6uTRlvCBIvSEY4bJp\n",
       "cOrg+U0lzOYAcDUOnlnJvm6fNf5JfinHAAAAKkGeHEU0TCP/ArHU72XgSAOk5n0VQv9XSDvUAAWq\n",
       "EBK4/Ysi8xaG7UQIeQAAACEBnjt0R/8EMYjiTrhG23neFAATDzn8IXLhqZVlcOjpi0EAAAAdAZ49\n",
       "akf/BDPkQhmL9A/BzfXL1I34Wp1BaROJ6IAAAACTQZoiSahBaJlMCGf//p4QAAMiM57hczOATDnB\n",
       "C6eIwxNxZZpzwCQTxCFSP1QlXiJGqsrG1mgGPlYOi3jgJ8z2EVBjeynC0+Edlfm851slmKiLq4mN\n",
       "7a3NwtdBtFOjQvyz54LcyQEGZmfSWsY2Som7SkTlKSDuVRtDk9uJ0/ndxE8xUqBdq86Abq+XFBU1\n",
       "6bnTIhykAAAAL0GeQEURLCP/ArIUHB6pfuZOvGe7qndnIw22OZABLVkEguW6lhZE7NVFH9naMDLj\n",
       "AAAAIAGef3RH/wQxiOJOuEbdBcz84AG2FnwtI+3i57wlnTA4AAAAGwGeYWpH/wQz5EIZi/QPt2JH\n",
       "z7pSDN5zqpDPRQAAAIxBmmZJqEFsmUwIZ//+nhAABfXbjgCtURE0IHKot/AfuMlz1MvMcTJwzOzm\n",
       "kvWTfNYKjsca3cF1l7R7ssrWgIiHbajY23woSRyrpwhTW2YYrp0+dp2wWlG5KfAKKm/DKmQuJjXB\n",
       "7pd3oI8kovkNFTdwoDE4gFnh9r7MjdcNY0xwCw8l8qt8NJ6cbtVk0AAAACJBnoRFFSwj/wKyFBwe\n",
       "qX7mTrxnu6+OszadQNuijeG5QDRrAAAAIQGeo3RH/wQxiOJOuEbc25z7agBVuPmKDJwqvx+HGuX6\n",
       "YQAAACEBnqVqR/8EM+RCGYwK9QoAFuCKZmtTvGiiibRedEHjzAUAAACGQZqqSahBbJlMCGf//p4Q\n",
       "AAX1244BNfXC9KOOfnBGNXCX7P6QPK9iHz5yEs89789Y3llRqpJW3/bfvHjiGz3x5zidWSO3aFzK\n",
       "THOm+sHsgpWrZtFS/EVWbstmWzC82osvQEUxlnLIjYP+q3ld3FA+LNTgbgaV8choImnN0xyRw8Nb\n",
       "rHq8mj8AAAAgQZ7IRRUsI/8CshQcHql+5k68Z7uvmFZy44sGE5vKl/gAAAAdAZ7ndEf/BDGI4k64\n",
       "h2XQTAAnWF9xHAMJnOtx3ZMAAAAdAZ7pakf/BDPkQhmMBbKQ34AHkndxVS8kO7EqgvEAAABwQZru\n",
       "SahBbJlMCGf//p4QAAtWVlyAK5X4xKTd8euHuQTt05QFJPM2WtCSLnqgM01j3YFGkm1L98F2c9Hc\n",
       "EPvhlvN6CbrXNtNKkdi8PNF2DxueYfRlkmcds0R1JaIobGqzErZ5c6rUrj0NOi9xFMhy4AAAAC9B\n",
       "nwxFFSwj/wKyFBweqX7mTrxnu68g/zlOAFrc8GNO/2iKaFpTmooHvVErGpIFzAAAABgBnyt0R/8E\n",
       "MYjiTrh+KMzoFUBRd3ionrcAAAAbAZ8takf/BDPkQhmMA39pAAm3n3UZvRo8aDJhAAAAXEGbMkmo\n",
       "QWyZTAhn//6eEAALU7+1I4wA6R9ws7J4a+X5gxkYwWK8uMqIqQYsfer8VvQei0UJhls5i9VAOQpy\n",
       "le1/mv/HgETaLNlSbkGAY6S49jUTz36c03+c+pOBAAAAL0GfUEUVLCP/ArIUHB6pfuZOvGjuLwcA\n",
       "CR+U4qQkNwjjbsvuU1hZFgtlBnaJVlmAAAAAIgGfb3RH/wQxiOJOvM9j+dwACdXCq5AD4gpjHaJY\n",
       "2WgC5H4AAAAYAZ9xakf/BDPkQhmNi7eFRg6OvUaCNy6BAAAAS0GbdkmoQWyZTAhn//6eEAALVjcc\n",
       "AaXcu/uN8LNH5/jbLRLbmzjycDG0rqWCWtEAF+1sMB9xqIfvmYqqQJHXZA2TeHfnC+ar9q1ZwAAA\n",
       "ACFBn5RFFSwj/wKyFBweqX7mTrxzUB+QCDAgv8v2hLvGg0AAAAAUAZ+zdEf/BDGI4k68z2r2u34d\n",
       "SzEAAAAVAZ+1akf/BDPkQhmNi7iWoIgJZ3DAAAAAQkGbukmoQWyZTAhn//6eEAALVnMpADmFEcUE\n",
       "LcDxsR8P2UFJiU/njb2WWi1qGaX9ciaG1yvvWaQ6bWe4gyZbMz81IQAAAChBn9hFFSwj/wKyFBwe\n",
       "qX7mTrxzUB4sflYAOGzixu1+YhBgt3oLST/hAAAAEwGf93RH/wQxiOJOvM9qRL/LwTAAAAAVAZ/5\n",
       "akf/BDPkQhmNi7XLCUnY4f+pAAAAPEGb/kmoQWyZTAhn//6eEAALDrQcAAT+Fh1HydMGtFb7RamB\n",
       "vXA0fqmXQlLlT/0el1KAeiMnidXgb/ERbQAAADFBnhxFFSwj/wKyFBweqX7mTrxzUBKLkygAtExd\n",
       "kEGmvN53wrzQeh/mG6mPFJjy1A8DAAAAFAGeO3RH/wQxiOJOvM9Z0FUOC/VxAAAAFQGePWpH/wQz\n",
       "5EIZjYutl5CwhI4QTAAAAFBBmiJJqEFsmUwIZ//+nhAAFj338EXHsAWk3gjh+GTI/sXL2jpulNlw\n",
       "Ol7bMALXhVKxeX6zCDq29j1zOiqWa6W4OLlWg7vXC8mUqCuifZpqQAAAAClBnkBFFSwj/wKyFBwe\n",
       "qX7mTrxzUMQ5FBWAAPzzV+KAkRkreAoOKSoOowAAABYBnn90R/8EMYjiTrzPWcxrDThl36uAAAAA\n",
       "FQGeYWpH/wQz5EIZjYuybmXTQ6r4JwAAAGhBmmZJqEFsmUwIZ//+nhAAKNQ9riOWWePPgm8Rh+Ln\n",
       "ZhBbLzWVMeqfhEtVNsRLOydSZEJlDZpqy8q2D/K8FPswo0GRIWRxFQaKJOehkRlueXAm9XBGau1f\n",
       "fIGjRYs2FC1AAS0/6xFr0gAAACxBnoRFFSwj/wKyFBweqX7mTrxzUM7jXwA/Qkml7RJD0yhAdIZB\n",
       "cCybG0jLEQAAAB8BnqN0R/8EMYjiTrzT2cSgBYei+8FoF31KTQ2sdG61AAAAFwGepWpH/wQz5EIZ\n",
       "jYqYVjIR/5BTlXvpAAAAVEGaqkmoQWyZTAhn//6eEAAVrff1nVVbzAHJV1qMXQEjGkOq6bMux2/F\n",
       "ymHp69RDMh1sodzP8RpjKYN0FHFbYcvp3eTogrrjzvb+aMN4o9os1+SEHQAAACRBnshFFSwj/wKy\n",
       "FBweqX7mTrxyNYO+VAQYM2Cu7hRKH7BvQSAAAAAWAZ7ndEf/BDGI4k68eHVOAjOXeEO0JAAAABwB\n",
       "nulqR/8EM+RCGY1wfagAWs+onPuQmlUmsfjhAAAAO0Ga7kmoQWyZTAhn//6eEAAVjG44A4oyyU5v\n",
       "k61HNVozvyKgfX7WApyJcjJUoGxVUBPhDR/YS7f1z4h4AAAAHkGfDEUVLCP/ArIUHB6pfuZOvHG3\n",
       "TRIlT2omGNuLaAAAABUBnyt0R/8EMYjiTryLx8MVmn4V3TEAAAAUAZ8takf/BDPkQhmNcFnChL/4\n",
       "n68AAABPQZsySahBbJlMCGf//p4QACjYn9p1pAmI4Aa9vqXI5U/nTikFBWBpoj7P46ozKtdPVWMD\n",
       "hGr9de0ouVJuAnbyrd1I2zgl3pz/+EDzU243oQAAACJBn1BFFSwj/wKyFBweqX7mTryFvuh87DHL\n",
       "lx/JUe0gto+9AAAAGgGfb3RH/wQxiOJOvF/pkNACJBFZSmxNPmpgAAAAFgGfcWpH/wQz5EIZj2J3\n",
       "0p5AT4D5tlEAAABUQZt2SahBbJlMCGf//p4QABWM49wBO6tU14XycVkYcj9xEEyG2e+HSsGkO54O\n",
       "Rswevbxj3yZgHSdAVuYEqF2evxewnnJtH1d2z4Hc2Y8doafJq0vIAAAAKEGflEUVLCP/ArIUHB6p\n",
       "fuZOvHJJjaZQAV8y25I/xrlVip47lRCo8NAAAAAbAZ+zdEf/BDGI4k68j38gATagv2Scn/cz2NTB\n",
       "AAAAHgGftWpH/wQz5EIZjV+33YGgAsjq/B3mknEysugyYAAAAF9Bm7pJqEFsmUwIZ//+nhAAFQY3\n",
       "zvO4Aby+240FHA65A7PBC8YsSVakcnM01cdG6UQAVAlZ6cDf/xkG+DOFcOT1CUZ8QUjms5+TBCM0\n",
       "oJ9Edc/4k9GzuBN/aBViCvVpgwAAAC1Bn9hFFSwj/wKyFBweqX7mTrxxng9dFZpoAVQuFiutEk4g\n",
       "gORLOz6Svd0MpzsAAAAYAZ/3dEf/BDGI4k68X4ky4uVUbp2j7mtgAAAAGAGf+WpH/wQz5EIZjWVV\n",
       "/VGqpBx1vwmtgQAAAEVBm/5JqEFsmUwIZ//+nhAAKj/oun7FjNdmSYxeAAqn9TKaJ0O/uutRjNxr\n",
       "e7jobX6M/nwG+YbH02Yqnixk6Wb+T9sYi4AAAAApQZ4cRRUsI/8CshQcHql+5k68hM59X8AC2LVV\n",
       "xIDBkUVRr0enhpD+QyUAAAAXAZ47dEf/BDGI4k68Y1da0PZCP3YgVEEAAAAUAZ49akf/BDPkQhmL\n",
       "8qlCjjUdYTAAAABGQZoiSahBbJlMCGf//p4QACn42LdqyrANDMPvUIAPl6vwQBvNR/0UqGO8bDF8\n",
       "3diptmZzD8U2Q5brY8ulkoQ6iH5+3pOiggAAAClBnkBFFSwj/wKyFBweqX7mTryEvvSfAAFf9vIC\n",
       "HfpqxWceJaUzZQOwgQAAABEBnn90R/8EMYjiTrcGN5w0OAAAABMBnmFqR/8EM+RCGY9N+xEx4XwT\n",
       "AAAAOEGaZkmoQWyZTAhn//6eEAAqD4FPgQAOcNXUO70hfAPujREQEl7qYTnuaSJO1odp/hP8M1Eh\n",
       "fooIAAAAKUGehEUVLCP/ArIUHB6pfuZOvIR/46+gC/LnfI2dqCZFFbmVl4na+FeBAAAAHQGeo3RH\n",
       "/wQxiOJOwheuDSYBjYRHkTy8BzapuqCZAAAAFQGepWpH/wQz5EIZj2P13BdEzv3wTQAAAFVBmqpJ\n",
       "qEFsmUwIZ//+nhAAKjvv4n03RgEw5evFrCC1Fa96KOBdiYClEUHMHWnbZjXYRBPTosiS+kTZYX5E\n",
       "Bxj0LzbwZfwsF45mHIYIytFW2Ed86CHhAAAALUGeyEUVLCP/ArIUHB6pfuZOvIT71YAWecUQ62n0\n",
       "Qd9E0fwyCC0ItUTN1wZUgAAAABUBnud0R/8EMYjiTsG7ZhJZ9rCX1cAAAAAcAZ7pakf/BDPkQhmP\n",
       "Q2bvDAAslGmWD4TKKaDJgQAAAFJBmu5JqEFsmUwIZ//+nhAAKgWQuAQPdnEJz3ecA/TzX0i37uCq\n",
       "XzhCO7eEvVYL8M8GLUwhe/ofPukoEfMZmgUNk6buAkmeCMrm8TGLoedIogwIAAAAKEGfDEUVLCP/\n",
       "ArIUHB6pfuZOvISFfHUAPfjurGV2w7E17TL0uRaPFFAAAAAVAZ8rdEf/BDGI4k7CDtctnbibzE5R\n",
       "AAAAIgGfLWpH/wQz5EIZj2Jzy8AAsDII/FNCNThV8jB6Ewoitv8AAAAmQZsySahBbJlMCGf//p4Q\n",
       "ACn4vQAJ29XyFg9r5S/pSSbMk1z8OOEAAAAoQZ9QRRUsI/8CshQcHql+5k68ha+ubC1RgCEE5Ck4\n",
       "Mip0eYgsQykizAAAABQBn290R/8EMYjiTsGDcwB4nW68EwAAABMBn3FqR/8EM+RCGY82eJAHhfBN\n",
       "AAAAYkGbdkmoQWyZTAhn//6eEAApG+/N8pHSYwCTZN2zGWnRaXYpJopceSY8Qe93bSyLqY7k5PRS\n",
       "XlLG4eTi89Btd/eMkwOwaSPI4LvcvH+vJprDJB9NJ1+iST7xrPiX2X5o1aMaAAAAK0GflEUVLCP/\n",
       "ArIUHB6pfuZOvIOC6fUALcCEVkJn586J24b+MnbLu0KrncQAAAAdAZ+zdEf/BDGI4k7BbnQBggAO\n",
       "LzLqla56asXNSnUAAAAgAZ+1akf/BDPkQhmPOV7gAXPkYmgiBSugG3a18UO6V1AAAAAvQZu6SahB\n",
       "bJlMCGf//p4QACjZVrgEHe0X7pHcvHbrApxXcW5fYrPn1D0vUlM/DpkAAAAnQZ/YRRUsI/8CshQc\n",
       "Hql+5k68guN8bAETDDZvygdjJNlbYtAZ/FJBAAAAFQGf93RH/wQxiOJOwT4HusdaGZH1cAAAABUB\n",
       "n/lqR/8EM+RCGY8geDYbZmJCCYEAAAA4QZv+SahBbJlMCGf//p4QACe7tksAOMYLtzyLjIFnvh4q\n",
       "B+wNnJ7n6zGeuQPIm/S0o+lD4k36KmAAAAApQZ4cRRUsI/8CshQcHql+5k68gvyDYAbmVCslotzu\n",
       "AkWgXOmY4ShntlEAAAAUAZ47dEf/BDGI4k7BP8H2pDMj6uEAAAAUAZ49akf/BDPkQhmNT0FcoZMv\n",
       "q4AAAAAjQZoiSahBbJlMCGf//p4QACe5XxwBEdMw59qFpDydoNN4gyoAAAAdQZ5ARRUsI/8CshQc\n",
       "Hql+5k68Z7uh8W6ua+qAFBMAAAAQAZ5/dEf/BDGI4k63BkWtLAAAABABnmFqR/8EM+RCGYuCO7ff\n",
       "AAAAXUGaZkmoQWyZTAhn//6eEAAn++/wsBolmgAKlqA2xD5522Hgn9J80sT/3mh+wEBj/9hUkhNu\n",
       "knRApum8Cv5tSJhMNYpKq6cUIzwh70Q2i7vzfFI8EOki21d8ccWHTAAAACpBnoRFFSwj/wKyFBwe\n",
       "qX7mTryCYCpLxAAXBTlmx44YtkVMwtXMKxSig20AAAAVAZ6jdEf/BDGI4k7BP8TGFXLu64DBAAAA\n",
       "HgGepWpH/wQz5EIZjx77UACWrIjzYhwIsFmq7UykiQAAAEpBmqpJqEFsmUwIZ//+nhAAJ/f+ijGp\n",
       "HAFaOGGVlpJqqCr/2m08lVliHjBINaz89+N1IcCRhQlQyBtKtt8fQf/P46gLg3XeT9WjLwAAACFB\n",
       "nshFFSwj/wKyFBweqX7mTryCpm+WffyMlAJfSzahoNAAAAAUAZ7ndEf/BDGI4k7BMoaUGIGnmXAA\n",
       "AAAVAZ7pakf/BDPkQhmPIGfQtplow0qJAAAARkGa7kmoQWyZTAhn//6eEAAnuce4AdI3umzl48AR\n",
       "V8FLHJZ+dqdZSNk34U8EuWdH6+aKDJJZdteoiWA4vlIZwR6k6jLPw7oAAAAnQZ8MRRUsI/8CshQc\n",
       "Hql+5k68gtMekTwArTufQ4SfZ5APkI1tm1cQAAAAFAGfK3RH/wQxiOJOwTazoJ6uG/VxAAAAHQGf\n",
       "LWpH/wQz5EIZjw38NACEFVZB2u7y/WGzdMtxAAAAJEGbMkmoQWyZTAhn//6eEAAmpb9kACUxs2J8\n",
       "6kGcsrZHztBJwQAAACBBn1BFFSwj/wKyFBweqX7mTrzWh9epoc0FHhoMcYGg0AAAABABn290R/8E\n",
       "MYjiTrcGRa0sAAAAEAGfcWpH/wQz5EIZi4I7t98AAABqQZt2SahBbJlMCGf//p4QACbcH3gZW++U\n",
       "nAFM1ro8vLViTlod9Y5PQAA4ad6rRdFgTvi6GmrZITl9SIpbiwt2/dQ2LNL3fhhhb581ioMKfInQ\n",
       "+wF+xxC4NvhexVtA5KfPsulPSSFBa4WDPgAAAC1Bn5RFFSwj/wKyFBweqX7mTrzWh7cA0oWhAAtU\n",
       "jcfmTuE4sFiReWCotZGgLaAAAAAfAZ+zdEf/BDGI4k7Az4TU4aADcx9JWPE/LybI1zdKdQAAABoB\n",
       "n7VqR/8EM+RCGY79ibhuJuYN8PjLZvhEEwAAADlBm7pJqEFsmUwIZ//+nhAAJtF+dwAqRmLwzLXn\n",
       "8tbNUv5TcMkXXMozMECnfmZDkWywEBkMIH+1Q+cAAAApQZ/YRRUsI/8CshQcHql+5k68gfrGABZx\n",
       "9CIPc1HOtY3iU4qqYL3cOHkAAAAVAZ/3dEf/BDGI4k7A7p98gyL1hgywAAAAEwGf+WpH/wQz5EIZ\n",
       "jwp4kEeF8E0AAAAnQZv+SahBbJlMCF///oywACcD3IAIft9vVawnUqkmvO9r+gPNnyFtAAAAIUGe\n",
       "HEUVLCP/ArIUHB6pfuZOvIC/ATV+Qt4/SQ/lW6jQSQAAABABnjt0R/8EMYjiTrcGRa0tAAAAFgGe\n",
       "PWpH/wQz5EIZjvTqOqKCnhFevgwAAAA7QZoiSahBbJlMCF///oywACcEUXAHMNkDRuW/zpvLS2hw\n",
       "9pZoWg2JrylEeal7ncWTmiBdgRPpu3lQw2YAAAAqQZ5ARRUsI/8CshQcHql+5k68gUo+DgASuFkI\n",
       "LrRz4ByuC/4kvxJ5d/nBAAAAFQGef3RH/wQxiOJOu9icfe6pDuuAwAAAABYBnmFqR/8EM+RCGY1F\n",
       "M+hRa/cEBmthAAAAcEGaZkmoQWyZTAhf//6MsAAoGO2wBEx63frsUvoi+cNmwJpH+nfRh5MvD6kd\n",
       "e4vwXtm+hGCOgR1ddW5qsMpT4Xlz+yuHrDgNsV186m8eONpthEeibpc0W+E25vwsC+uFmhXmLxr6\n",
       "4P166EzSjtoyYrYAAAAqQZ6ERRUsI/8CshQcHql+5k68gsE1jgAE0yQZwVftbevds5zzsLxhXZxV\n",
       "AAAAIAGeo3RH/wQxiOJOwP58wAH6VRMyTx4EuH9AJGmXtPCBAAAAFgGepWpH/wQz5EIZjyH2qgMC\n",
       "OEdqEE0AAABPQZqnSahBbJlMCGf//p4QACe47SgBa61PaUS8J2f5RiqX4AejpxcfvqbFp+sFLS98\n",
       "ftvKtHhLzH8l4xRt6VfCHaGmezDNYZBRybCprbwzdwAAAGFBmstJ4QpSZTAhn/6eEAAnuTowA3Xr\n",
       "wE2YprHtqbxigiXbfl/YW03B0ZJeC7p2Rx6Mi63FcFXMlqXm+oQk5PKP1PxpK+ga3MbGUcpMjX6/\n",
       "A0RB54Pe9FKknH/FZxdoUclEAAAAIUGe6UU0TCP/ArHU72XgSAOk5oaGC19jsoSCErE3fFVBIAAA\n",
       "ABgBnwh0R/8EMYjiTrwcDBoAQ49fc4oylE0AAAAQAZ8Kakf/BDPkQhmLgju33wAAADJBmw9JqEFo\n",
       "mUwIZ//+nhAAJ7rJ7gA43qNdVg2WaOnkcpyHDvwqFD6wCfk222/XjpEGVAAAAB5Bny1FESwj/wKy\n",
       "FBweqX7mTryCvqOci1bUTDG3E/EAAAAQAZ9MdEf/BDGI4k63BkWtLQAAABoBn05qR/8EM+RCGY8j\n",
       "kDAAfQJaEK/hR2mbgQAAAEdBm1NJqEFsmUwIZ//+nhAAJ7A4E4TyCjgCJj7QflGDTHsggXCCgtbD\n",
       "nWhvWGQvEBU0zl7hrhMNsaNtnu761IJnjY0YLk4UkAAAACJBn3FFFSwj/wKyFBweqX7mTryCejrt\n",
       "We1TFmLDb3AMGw9eAAAAFgGfkHRH/wQxiOJOwRY36+bFoP76YucAAAATAZ+Sakf/BDPkQhmPF1lf\n",
       "FHprmAAAAC9Bm5dJqEFsmUwIZ//+nhAAJ7rP9wBD4zvDgz2lsqhvGYzpUsEJmulY5AjoV4nCkgAA\n",
       "ACdBn7VFFSwj/wKyFBweqX7mTrzgPZvvkAF0njpxy3+X5I/IsSwj4lsAAAAVAZ/UdEf/BDGI4k7L\n",
       "f34xlkxMOjNbAAAAFgGf1mpH/wQz5EIZksP1TtTK9lu4mtkAAABRQZvbSahBbJlMCGf//p4QACew\n",
       "PDC8sARq6+M06ODex1ncToKaQYbcI6XCbE5RnQosqzzzECvJw7cZ0F+iyUyf+r1elGOQeb/t+i3M\n",
       "KoPclEGVAAAAKUGf+UUVLCP/ArIUHB6pfuZOvIJhkpzQAfhEIleRIn5i1cvvfhO5WOpgAAAAEQGe\n",
       "GHRH/wQxiOJOtwY3nDQ5AAAAHAGeGmpH/wQz5EIZjxQBGoAJaFpd8f1yBTw0RTAAAAAsQZofSahB\n",
       "bJlMCGf//p4QACe5sagCOJKZVzW1RNLdgtfL/vMDmpZf1zc+EnEAAAAgQZ49RRUsI/8CshQcHql+\n",
       "5k683mDD+Pak/aZelbL0aUEAAAAVAZ5cdEf/BDGI4k7LbZ5AzQmi9PJgAAAAFQGeXmpH/wQz5EIZ\n",
       "ksDuaBOtnIknJAAAACtBmkNJqEFsmUwIZ//+nhAATb4sYfAvQAEOxhQSqjMROa+gk2cjBaSewsOn\n",
       "AAAAIEGeYUUVLCP/ArIUHB6pfuZOvN9/csbOPs00jXPyGBXwAAAAFAGegHRH/wQxiOJOy22pt7t+\n",
       "HUsxAAAAEgGegmpH/wQz5EIZksDxHDaJJgAAAEBBmodJqEFsmUwIZ//+nhAAJ+4ShwA4InMd51fq\n",
       "D8bSAYCyK/qen2j4YVoZFCwmaCTDxni0UEnK+KXVy2g/k4UlAAAAHkGepUUVLCP/ArIUHB6pfuZO\n",
       "vN+BbhsNpN7SCrKXEQAAABQBnsR0R/8EMYjiTsttqbe7fh1LMQAAABUBnsZqR/8EM+RCGZLA76zp\n",
       "5DReng0AAABHQZrLSahBbJlMCGf//p4QACe6XOAHGM4LPKxjewffZu/JQeBK1L7X1XIYOroiDZyy\n",
       "rrzW6Q0kADUfSdbLlC/i/dA/DEpwpIAAAAAgQZ7pRRUsI/8CshQcHql+5k6834ICV6v2aCRuZgVH\n",
       "uoAAAAAVAZ8IdEf/BDGI4k7LbaRnJ5p+Fd0xAAAAEgGfCmpH/wQz5EIZksDxHDaJJgAAAEpBmw9J\n",
       "qEFsmUwIZ//+nhAAKNnHuAEYGPOeQr+R4KwrNPSSBwb+s7fiqVTq2PM5z3ZbyOOJjmF/aXqSQy/D\n",
       "bP0UY9Stq4ym9WjGgAAAAClBny1FFSwj/wKyFBweqX7mTrzfgjH0tgoIAF0iBcKjf2oivrAZn9yc\n",
       "cQAAABgBn0x0R/8EMYjiTsF5GvUCmpEXBaadwGEAAAATAZ9Oakf/BDPkQhmLjTOjTkcIJwAAAE5B\n",
       "m1NJqEFsmUwIZ//+nhAAKM91ABfML3AFbEYQDLzTRTRSPSJWH4V/h7jUCNaYRiC35oam6ez4gbj/\n",
       "0ZPQBDkLmffWqPuGEjkU7N6tGNAAAAAhQZ9xRRUsI/8CshQcHql+5k68g3wzvA+lQyK47yW4Uqg0\n",
       "AAAAEAGfkHRH/wQxiOJOtwZFrS0AAAAaAZ+Sakf/BDPkQhmPNQxAACcEPI1PU8J8sHMAAAAuQZuX\n",
       "SahBbJlMCGf//p4QACjaw8oAj2fICKuTfA0IIqeJxELmCG8fF1H1mLDjgAAAABxBn7VFFSwj/wKy\n",
       "FBweqX7mTrxnu6Hxbq5r7SFPAAAAEAGf1HRH/wQxiOJOtwZFrSwAAAAQAZ/Wakf/BDPkQhmLgju3\n",
       "3wAAAClBm9tJqEFsmUwIZ//+nhAAKM6hTQyfDLABYXIh30gmw9gGvdVLsyiDFwAAAB5Bn/lFFSwj\n",
       "/wKyFBweqX7mTryDgcOK8SX5V18ufYcAAAAUAZ4YdEf/BDGI4k7Bh8VCs/4eGXEAAAASAZ4aakf/\n",
       "BDPkQhmPNniQFokmAAAAKEGaH0moQWyZTAhn//6eEAAo2c14gCgpJP/oCZ8zdvVMOQdlQ59xYccA\n",
       "AAAcQZ49RRUsI/8CshQcHql+5k68Z7uh8W6ua+0hTwAAABABnlx0R/8EMYjiTrcGRa0sAAAAEAGe\n",
       "XmpH/wQz5EIZi4I7t98AAAA1QZpDSahBbJlMCGf//p4QACkYmu7AEStqy11y8ON+APU4YTmJKne2\n",
       "uQwQCIQLAk+SBLvRBi0AAAAeQZ5hRRUsI/8CshQcHql+5k68g76inItW1EwxtxPwAAAAEAGegHRH\n",
       "/wQxiOJOtwZFrS0AAAAQAZ6Cakf/BDPkQhmLgju33wAAAEdBmodJqEFsmUwIZ//+nhAAKReOmRIA\n",
       "nMRmMmfNFZ4uAxxAbA09VazWQB4iy+/nTIN911GQ3bbZZs0s4FjVZot+Ai7XXfnCgwAAACxBnqVF\n",
       "FSwj/wKyFBweqX7mTryDeX3x/lTpIAJTFfDg7LN/NUH67M3gkV9cwQAAABMBnsR0R/8EMYjiTrck\n",
       "pl0+68ExAAAAHgGexmpH/wQz5EIZjzUvDQAS0NP6S94EViyVdqZRPQAAAHhBmstJqEFsmUwIZ//+\n",
       "nhAAU/J0YA5h9T62bIIrvPjsB76q7AAe5QRTWJc4O3r6H9fntfaunIpwNXypKERF222Umq/uGGzW\n",
       "B9xsrgCbonmjFWNJ8KemU6W0QWHVm1XAyJ6yyAAYlR0xMLuiSGG0PviSzWCegzLGEXAAAAAwQZ7p\n",
       "RRUsI/8CshQcHql+5k689rNgrCABwbLQbxiTWh+40VvTSN8EuATPe8Wzc7iAAAAAGwGfCHRH/wQx\n",
       "iOJOwdb+QAJt7P8X0nE8CQWNTQAAACQBnwpqR/8EM+RCGZMPMPOAB+5kPjpXmOhu0JWAuBZXaz+i\n",
       "iYAAAABBQZsPSahBbJlMCGf//p4QAFQT9djizAHMOW6QZoq9/FrJ7n/8sNlJfUVQOI405HcOu0OP\n",
       "m/xMhE8an7x6I45wi4AAAAAjQZ8tRRUsI/8CshQcHql+5k69A/aBId+es1/2Lacr8DnDQaEAAAAS\n",
       "AZ9MdEf/BDGI4k7MUuHN+t7TAAAAFwGfTmpH/wQz5EIZk0TKC7GHndPqF18xAAAAP0GbU0moQWyZ\n",
       "TAhn//6eEAAp+qqcAOIDFQ3sp1/j9HkQKCZu75hwEv4TYAAzyUozz38R5CirhtGalAyPvPhFwAAA\n",
       "ACBBn3FFFSwj/wKyFBweqX7mTr0C8xHazFfqFA1NDQoHxAAAABYBn5B0R/8EMYjiTs0dwAlvugMF\n",
       "Fp6BAAAAFgGfkmpH/wQz5EIZk0T3oOhydcwy/TAAAABVQZuXSahBbJlMCGf//p4QAFGydGAOYeiM\n",
       "scDXl7wYe9ijmtO1/thLJ/iaz9cnnU9fSgrR6LtIauLaAA6lKsqPBkK4HVbqn37aIEqo9YRXwi6z\n",
       "NyBFwAAAAChBn7VFFSwj/wKyFBweqX7mTr0C/FwYMIAHGembE9rwAdkWET7FFSMnAAAAFQGf1HRH\n",
       "/wQxiOJOzR2/ZWOnWHOAwAAAABMBn9ZqR/8EM+RCGZNE8RvXKQgnAAAAGEGb2UmoQWyZTBRMI//9\n",
       "4QAE1om/sUIEHQAAAB8Bn/hqR/8ENPk4v9b7S/dC6+aU9wI4+QYGpVDoFtg1AABCCmWIggAO//73\n",
       "Tr8Cm0WXagOSVwr2yqQmWblSawHypgAAAwAAEbCGP88XdhmA8wj1/5TvdVNMLQ4YdbOI4gE0HcqT\n",
       "KjBPE/Kdu1474g7Uq6IPGG/MDq3n2mKsKvEjdNgAAE4HyNDjURqPpwoVBcKo18CTKy6ywGC6PlUJ\n",
       "A4JVLXhNHMZhMGIK3mbd8ZlCCF3DliewesozlTuKuJbZ1m7Ja1+2DkEugkxQY8sPCNiF5ffzsQud\n",
       "XFiTExlgY96DRFogBGcG9QJFrDloOJn4uUA4d1J6EBOsrPlgl3P+6LuVD4usDQIcq+nGXy2fYoqQ\n",
       "jhhUB8+5QAOdADiMyUh1Ct+tKkLxSxPFoV3PrfcdPb6p6ttCj0/gqXGFT8Y+1RizDjvXxhNez6q9\n",
       "k3M1aP7dGDO71IERAwrBhwyvMp1R9k44JuSpfXC9Xi2gX64TyBkUjAq/P8LNJ3JFE+Rz/6ZDcRYG\n",
       "c+vxAYqsC7ftWsOCSq8NhJizOCIxJUSISZHXVWF0zVUVUpUZRH8xn/o392q3kzXCJTTQeie+Df6/\n",
       "g25tvNwPVqGYW1lwFUpw+JIEMtnNoT8v1pc+gECzNZNS3NpkCGg8mNG6LKBH4fYeiEdABxqeArw3\n",
       "S/51rLT80r1fM658ITGL92Cr8WvPLQnTNeCVzLIErqMD9UI53z/Ma7AXZjdos8iccl73NIXBA14m\n",
       "Am5QcBXAbJh//Q6HxC8KUEHkkUzy0PSlTdzKV+wAPpPDXS5wmJrYpanL7pu1zKluD0fBHuERhJvA\n",
       "YXGdGdWIU1mdzrjlMD+yozoGzvfSq5Otz3dNmXO5jd1DyByKFf06NaLNNccsCRix2c/p9+6Mex3J\n",
       "qMDgSmOtAnd6CaSp620TN9O37BBwt+IXu/uKRi/ejcN4hzmvML3a0ntMRUhCEun8OILJKtaJHFW1\n",
       "SYq72uXnrdtp5qfd5z8R9EckDrsGuWclFZTHfDHVvbWEtseKqRsVLmRPFnqAqFTngZMBXifGUk92\n",
       "bEhDb8DRvmtCrZi1IkM1Y+QaK+nVCx2dx0+Zh8BFzvE+/FurrAv3BDJ+zZ9Ps7XKU9cWd9tTlM93\n",
       "YVJ/qzgPQJU7KYbbSIedKP7e1mjextY+obzBzBpHu9Kw3DP/cGx2ZnYP0C71kd2koWVamqTi0LHW\n",
       "A6SZSrpiYGzfc/mXCNccYmBRREHBSOZVBu8SPdbY6pYvSn9dNFHEtTrCYKegsoJ4YPHqDiHSCWqe\n",
       "J983qgZwfMdnCQqaodCGB5mgrIW/Ex2xKJV2qeKKZ3AccW6lQKtvrsh5ZPqkLVRGfP/5uEDeVvDS\n",
       "WxlIk5DUmyQxqmpoitPwLIO7vV6LRF3QpTj2LYOi882ADJlMMU05ib4lAiaUYdT6VkAAPwh24LH/\n",
       "DJu/AuIwgXGwR1Hr9smYHeCAkSMCRYXeMKsjYoNd3Ntm7mFDCA6KMc/UHS6srvNGOfytWj6QwuOD\n",
       "iaK0mD23mwuQPqpGWI9Na2pTAgpi2CPhw3sG237TmPFYRlLggVvyU8Kg3/pusRQm+COJuzVLba3g\n",
       "YmXdFWi4aMO+DB0CAe4lcjQW66sf/z2jVnS6Yr8kg1e4LOaQE8KHKTjii9uKk6rV+dE7fEGlFDXu\n",
       "z91ch4RVFzhdOXcjIjS20J+z8i5UQ+dmKk/KEJy8ZZDTXt9Mbtoja0iv71zd/OI7mExfDWfYRXHd\n",
       "oJ7rywNsFcB6QQaf/YQGZKz6AWc6RTvP5XEb+Go4zvOqgzVIJrTHtIxnqdICTKbWSqyND1Nzzkc8\n",
       "qPaH3SrQkq4ukpfb7k58d0jTyyv+bWQJQx/RsRAHr+P9umkqAubhSUGP6heyGIJ/HRF9yr4asGk7\n",
       "6KbMu/jzbIHtNYpVjClohct76v8Wl8gixQFlzudsh/wyv5qCHPRJUIUNUIxmoS49hbZvZ0RZ8Mn7\n",
       "N8BdMnt19gzTpQBumc2gOWHpIw6b4JzDfJ5jki3yJ9g7ZnDBualGIxIwEQOU2Fmb1Vu5Vvg4UX+A\n",
       "yGHisOP8xlyvU8a95lNQFfFZZuhFpTYe+dO3QUANPYgBqslg/TMQY9hl8AzwPAfyKB1W/5Y3eNOL\n",
       "JBHFYRh1rJnRyPTeNSTnjA3XqY2SWZ0HzkLEQPoHHjVeOYZZvhExi7MxTJAua6EoLpOevQCN+Lij\n",
       "A2rGP6TgFkIRJ5AvYyaFITWQ/+KudxNRldxa42lDQ6FIeUxGXQm4XO22CvAUNcSjBh2DPVd8hL0u\n",
       "JI9D1SXG+mdMh88OC4yhjaKfPNdxnnbLiQ9KePYaXtOHeBc+IXZM1MgZOAG4S59DALosDgtHRh1e\n",
       "x5CFuZ/vsVf/fECCMtCylQ4Ll8qRehzdn43DjakAbRc82HYWQ6r8Bno0ngszYDdOXWD975zbs6B2\n",
       "XaHrxmNXmTq6MDWDGcLmAtat9HFZtGXaOoRaBaDDUPVHy1ZwY8njTnr0IE4bXzM7otNowWz0ZsuZ\n",
       "h+oNqRsIf0K1sqX41alx7YMC34T3zOp9kMMmkgtNuJX1748zFwMkBMe1ZmdWS3PcMqTBcUhgvlWI\n",
       "Zda8BZaxalF7Hiuea3ZMErOc2nl88tzMeqeZur3xLXmu9ZTu67UjVWsKUNxX6dtrlY3EMOiZXH/r\n",
       "EcSKoo3RLQRVFRhcGCIqXHYUzpLzGZu4GmMDrjVB7hq6h4WFTn64ooUMNqld90wiV/4MRHCv7W7c\n",
       "uq/0DPHe20c6mZu3b8jFn2BDD11mtWFg47VT1mIcHMTrCwAJN3SvwRyJ9728e27+tyx1PxJuwwMe\n",
       "9re1b9thFm9zoBaWVj2DS9KSXzS/NMtdL8niP1p0a7KtHDTWb8bcDtIcz4ErXdSRITMpUztfACE5\n",
       "BzwGeIyiEiGENi3fXZzI+PSXJeU/HlqML90Ykp1JWwj45W2MjpUyVgQl3A2ZtukI5a9NQPTn56sO\n",
       "OBgQf44ZG6v9BVo1Ee5VPIVuPV5810YZT3IMcvXD13BQi2TNmoPlf4kVCboImcj12lvzNAUGkYr6\n",
       "+yHnqeJxFBOLB0q6VP8DG42/9YHo70hMVV7xJFjBfZwiheIzds+C40Wf24ar705lllVDe9EMTtZs\n",
       "guUfJYkRBaXbqZFPfgcns/tYqsmQaMhHj4d21eEerSTcdlFEfxGFSv8W4U5Ut2QzASbPLVqvHzeJ\n",
       "gbRz2ay0exibiRuiNCrIemZq4J6v1ooQ74fVCAFSIKBfUay2gI+psX8kynhKQw/FdQe5vxLtwfQQ\n",
       "Ask5qh55SNVZEvrG541lzyzBWjgHcrnfnkJTL28HX6XZrLjzibvfQwiCxKbD6zndpQKvkWT+StJY\n",
       "+uyj56IRM9YdRNqkO9vl5k6vomxgGOGWq+pxMV/K5lrbIc7SkktAJTn8PLl14NT7Zdmhx9Y7a4DA\n",
       "2TG85vgZoiQ1PG7qzTJXGasIZDHghXpIlEpFEBhKgsoxMCiTHuOXviJPhZHyajjOrjQy9KaxoYhf\n",
       "d00k/do/Y367PWPcuJNvQ+k+933ab+SNnuu8CVehcCQUqPwNBeuvXkL0vVjTPzv3dQ1KHzuc/nix\n",
       "60XJ4gofa5LNgh3samoBL28AthsaSf6cW64r7PpTyfO574pwV5aBCcWQ5dArjYde7HeE/MSCNm1f\n",
       "InrQuh56rVGy5xEa0Fda4A64T6DMX+gQoXCz3FuVjrisEKrtwTODBrIpf7j1oMEAHI10qFM2lLmH\n",
       "1IIOM/u1HeJ1DaQ8swp1wXX74Za/rDO2MZnJHv25V69cbasqmOVBP/i2dFV8iGm7aeIKdhzdbzJ3\n",
       "PeIunMIpM95dcefa/5hnGEeiL849Qau3GsL6SUdFW8AgC0rcNd1w7v+FVyPA6hTlJ6wriSkk8ldI\n",
       "zl8MYqWFhxVPwUIxGVelAGu3RBa+YHdd9any7R7IUvQVvsc+3jmYRPWjQ5vl5I2lJ7YLT9paResM\n",
       "7psLdGSQbAENhH2Y2HvSWlfUf6AI99nXyoVPTBFI/s1P/qdZiSm2Ptw5/puNaWIzSDKDsNvviA11\n",
       "UNYyeYNjSWj/4lkS7jlb6GBnzu3zgQCzB2uiPkvld+DefwgyNtluJkaBfGhmPuPNT0A8w3/rsngK\n",
       "MsLUkqeUVhtR+ARFiv/1FkfkrY2qkDQrUDsIJpozPeUG4KeiRywkvr5DZS27OoW4kNcuMw1Gh4bg\n",
       "BPRuwYAHuOyp7Xd310FLftTfwVT6Tgy6492sA82K/X4xaHbPM+Htk4o0ONgz2O5YGpcIyA9iTQRC\n",
       "0gtCE3iQ8YFwHHTop08ZS25jAWT8NyDAWmLALxDgB6ZbINLc4k+cgx4vYw7w/4hEzjMA8jCXyHTX\n",
       "zg8pPVQEZyPBTdKdIw22FK4/SE5TLzJHQEJSxjY742fDnALdDdnJcQAl0WYopqcwjIU0s0maCy6E\n",
       "53GWiL6Ti+i2nWPwekcPFGQbQ7FneDCNak2eqAdRr/YXwQFZqL6X9eTtf7W/1LYVT5nY1vzS/pBC\n",
       "DvoRcZ9bcQreP4yfJja6mxiiby2dgbW779nQnkIIiHuiVWLxyt1M7fvILVO8do/jjuJwBqF7qGKb\n",
       "xCKkRjrGgTz30hodSVnHjvmI/Rufd9HCai3IFlVx/9du3Re7vY5PYAqeYRU6yIueoDDddHQOf99p\n",
       "Elt1FJbIiAB3ToCnhsIdyl1A0j0ugYkJ385Hh0g6oKNY1kz6MV4slsvlFgpfZdQ3+1WwWV45CEir\n",
       "8jghvHwVJp2JVcQs+s3WmRKwwUzld55uDs8rtlDIcenDuJxhnEc8oVefdu7sY0cJp2fs8EQFGJSt\n",
       "qHHLY2ZTeFVKIbg9OTbqa0eoZBN/m2IBdqbf6KYVdzsSjlawfHTMD1tt8po5XxECxJTwKbSEStwQ\n",
       "PUhLlwGGBWIW9qxQ57jOzDK8JOg4NdHzLCE3LFn4DaNqqOh9w61WHH5pAhnKXhJeuwA8h2EKtgTV\n",
       "Vinm7nrGkQgEIlIsJHfA52Ab3JkbjddOZ4E8JXe3KbUpzlJx/l/ixLF/B9viS5gcVWYtk8ariRvL\n",
       "tW3IgFbzkuArH3MH4XnQ0MRvmuH2If5E/qyYrVu+OBo08IIRRW45BfMVM2hBseCOPiqPb/6QjyGR\n",
       "aKiiGRpnea4TdldTnDVn7cfhvaXTkPv2qHVFWFwKvshIfkVS3RZEbNRQHpgEuYHMYthBy+xYzglP\n",
       "uSezKNURo0yMIYWMbL7t1kiapTH3GevtIhOAQMYcKi3AfO1tbM5oSJNYDNJ0ev1fb9qsNJwJzUxL\n",
       "UXy5F/g+PxoKrCVYE3ypmsI5Nm7wsuFiqlPg4+nO737gApWlLIQnPV1V8KJEr2A69Of/qZqty4Wz\n",
       "EgoH9144kcduKF3jR/nyj2U1JBvbL0JO+qwP8VDIZRNHTGxTTzxS7//4hu+7DjlutgANG0uHJGum\n",
       "pGvfs4M5ZM/PRJxsn8BVn3uv/KGbnDfMZUL+QgSVEsZyh3lABwm546owyj45E8y4+va6qozzZyq+\n",
       "lrkBsbLdsw7EHZTmHOU3ZU6c8G1VwS050r1Rwuv5HdMjwvmzkaJ2FTzhIj39bwEIWl1ohZzm5Aty\n",
       "Nzwuo1QJSLF3BcLAF7TWbXCgeIu/YJjX7cAwDm5yE6G6jXlU6P3Lz6pAsK5/tlWn0Hmle7VJ02iu\n",
       "HuYB3KlumYZ9PNf98GAegq86Yi1N58sDXtsBiCy9mTAh9D1SeRrZ5xOau2AEvd4tZYuU3624U6nJ\n",
       "Ja4rhmv0E74Ss/A286vrVZERTHWPPgDw+gYOVvEmkdgKK6+xxO1301CTDAxO0yFFfebBC7sQcCVa\n",
       "svPvzu5z6zLqr4uGGMCxgO+KiltTqZwcp5SpcWzIToZX1MU6XxE1vW8Td5njONiUrZRjQG6+ED64\n",
       "DcQrQWnSIyPtoX2mjAbiSdApcyTEWIpFSr3BN/zhc3iAIyeFiBa0c0c/X2ZSsVtw9qO6QzIuv5mT\n",
       "KF4VcVUIF3wwfbVZGrTbRfbYkvgjpxcEPFsgUybeJZld9K++BPLkrSjCHShZLEZxXY+XuC3lJTdq\n",
       "0d7b5ku8ssx8+Mm793GvHZGd1NhUlClD647AyBM8/xWyUqJcNFAjGogDdJsk3KZfZ8LlBdY4tLQl\n",
       "hVEWShbsJx2HSgBn/Zw9Ugl9x4jMJHQD2DaCvVE1BQs7wco0k0TYItKBI1maNmapw+oV4KiTxCoL\n",
       "7MIaXmAU/5mmY3eD8ZQ25bLBKyj/0SAl0dB+pbPco54C0r4HWMK015O7jHzz3kZb8LLdr74MnXLy\n",
       "vYshIP2PhtkG/jaLcW06hWjZ277QgljrZHKs5sLDEcx5Lw2hOYy+E/X82ccZSZaoQAUTRTTeeo5u\n",
       "QkKouXLM2Yhl1hGTPrwvpQ4L+v9CJTvLGoCg67cBW12n/+KTcyIkoam3DMd354z3VCRkwBLEE67K\n",
       "ZGSYGv9DeyiP7OvPpUFZwaAdH2M3bN4K0rpv1cIfE9WvtEF+F/MfPA7ythMxy+7F6ahnYRKNT8U2\n",
       "lYs5CXq5KfMw1sCwDo2AD6HhkAan4EnVbzQFPWK/VqmS12VMWnP3QwM/zwEVYNN71XhitnpglnuL\n",
       "Zeo0oGMujXTtkgtgI1XKPiaxHOTNbQN5kKFQ9m6RUcfpKP4imINrDAtsjkG3R2p5qCvJTEnttQCd\n",
       "AfXabb7xdAe+TwPnFk46sMJiCFYu0yjTAQHlAKzhsb1dECM0wE9VbodSjoFmT/+RCblpf3+zQKOT\n",
       "JvH/8sEy3PdGkdeJqlfDi/PPf1SZI/1VocsdelZ07oVcqeCKbMm35G+s4EJNZ/t3k1d6wSa2wf61\n",
       "J9KzczOLZTmQHGG5POG3X5nfiLXDNA3l4vPDbWp8CksxxYe2JarPyzr2HcPuvHEoKnxwp9QVh6V+\n",
       "br6gl6W5DM/cm5XXEpmWklw1/8mocnJQw+NaZEjU9IlMsy5JLRYTaUoaGJ8+xbpsTuOcXuMyxXFC\n",
       "G3mUy/nFQB9TKe382xJehHnSWL5IWYRgZcqkxe5TQps0Z/MAcxhCd1vGO8CxdhXOWmNob8Bs7XOf\n",
       "xZP8ZNMPvPZDeH/8ruR0VbGrpLOGRimyjqYftKmjw1WIgV5TZeJvUg+1nfdLJLyD8H5b087Vtsb0\n",
       "TzJb7+4mgfoivViT+a+AZZrExk44ZQf1PCgT3k7Q/RlhiTruzO7E98wO+70dLMqhncroJ5Nj/fG5\n",
       "Iebepx5BD8OUfsyc/5/zxOlCxUZi1m8NCbpauClhl9ypw19osRuA4Un4DM0s2ofAfNH/yPM34/Eb\n",
       "06095em5EzRmQyrc3RBRR9nebwom/0pVhAqia9wSeIuNyEVVw4ObeFI/lUHYpZV+trBGYY6RwpAz\n",
       "by7lC/CqyIKK9pVBlUAe/ZGQVyedsKeK6uJe869vGZaUz5B67VXx0IbmGnSYY0Gst0Ka4dbP4yB7\n",
       "VVRfVfqFeQIv4O2TxX2Omc5P0a/I+It2AISKml1AwVYaF47ihuO/3gUrha5grVZlALl41yt64P4e\n",
       "L+QfHPiI+Kc12CNJAznR2/HPF1nymjCidRfMU9Ile0UNovRe5t71a+7cgsP9qN811VLGEgU6SLVM\n",
       "vgBhStSheTLLwpSnQTkDGfGRodB5jxPrZ+2JMmGUgmuxYuBXTGapiVEEWuIX5juZwJtCnfpff8ge\n",
       "t8pXanGPJ3YCrLdHcSuVJum3Fc9sTMQXif6R63ve9K2CRbZ9QjT4ajy5I0LCxu3T4kw3Hf4R+OFa\n",
       "GrLofFxMYkQNMafXrwLv3qWkm4tV2qorclU05X0Ljne8kF19vCdMuwzgsPHGNfGunPhoPYUi6LBQ\n",
       "pXCQfaxTDvcNo0c6WWhn6G1NepRQ4QnukaTK1S8An2WawN0A3bL350a60xUTCIJOcN+6vL0cLDM7\n",
       "ZlnmN3iJR5y8ty2ZTz16w391e30dcLifWWxucxugvERPTcWLfCFEfoZTkROKjkj1Bxds/gKHfloE\n",
       "ITWiRtpTKQHUxs97aHnXZpJ0BfvKOVK0es6+Rb56A1CsSFmmMNcIPBQyqgDcGEK34uEdd6iJTfPr\n",
       "J5bbQqGvCeviiJy/sMyGuXzzKzEu7ebh4PPrf6qHaU3d9JbZneEJmOm8eAcO4f3Yf7qj5fJobAn3\n",
       "VrneI2cBU/I7MHliK7fTfg6mUWOGpip1OG2sBfAwTyije2NrblUGNV/uwPFm1HL1wYXWxjX/1Mm4\n",
       "yqjjJWa+hqAHSF5I9T6Hw9UOpvGxtiaxrL4IkGWn8D3AUWfe91LHDDa1l6EebZnScwpgh3NpFoXB\n",
       "O/CzoAXxtn2FO9xjKOwzv9RRpWif69v0zXsMC+IIDnhIMFTVGFcbRTKqureXnpbLp8xQpbM/0LGD\n",
       "liRBrCWjC/yTaAyi+Kzn1CwLzm9J9kpT0gUl9e5IL0637OvdCIG2cvoi9c/sfYO5eZd0xw1TaiU2\n",
       "USBxM+wC7uXLJ7WnWNUKPreX3IDEqWxbTIdXnDMM2b72cRkkc1X3iIHQOdZPAwnw8f1UUJNyNH5j\n",
       "LpcQl4DQ/d9vpCppgg11uercS/NtO8yGtlclK9QE+nAQ36yUi8eCbZ50jO3CnQ/yqQEZeoYB+qyj\n",
       "KMviv4uIS1ZlMSaOVorxZY/6VGxRm3UACwlLYN+3Z269iTLYdrW+Ik9k4ia+HWD5O+G2iXOfbvaQ\n",
       "SCVZSVrXsnklhx/8ShK65CWOv7IwlBIn5+ySGfFx0H9cY+EOhe/dt+1xi2d2GytrcgqJz/XU8gsj\n",
       "pjWbkGM7HXA8yE/G80o+cXNgQ9NOB+l8xGhoe5bAglYHqq8Adp9HHbCWczwx2pLTjKvDJHZdZ6+Z\n",
       "maX+lRjY7FC1Tetw7R1SK2lGI2a4p1ToadkHpPC//XqgXHkg4pUjaLzxeJ6Ier0rqOipBZckzXcJ\n",
       "sohpGJ8zsOX2vqgVBmvx+X4j93s7zGnKhg9pHKEUOOqaBKZbqMRtYqkW0/mzSwJNTOUWlskEyAM/\n",
       "09g8EclZgKyGrgPvdjtrbSvK3VFzfjp6HtRTCLfbPRkW1WHEVfNtO0MjHz2vdcZbskz2q/K5v7mq\n",
       "gi9y0vyLUcNVcOQeOb1vAo38X/wgEdwYexg6kaX0o9ZJ1oyPsJPhmubUJFMXBEfagUcrrFO6RZYU\n",
       "oD/sJ/Woh6GwON2OOQu7TSIe8Kv93h261JJATbaLeyp64F3Mo6gjV8g8XGHR337wdBnOr8E2Muol\n",
       "SJZQ+3ICj5cQg6UK4XCxZKEVz2iPOArcdiCHxnxOUNnwCutvJCbrohi5S7pnO+VlZJjJPstVY59p\n",
       "13AGAcPo2jsr6EIAy1GbildwEjSUQwadJ9+0uSpMnC7bkrPjPRHPiRU29z+OUF0IvDbiUFsM0jIQ\n",
       "MnJSeczoRocID7cRxdaUBmSpuAhAcXvsTnZlpSqKyz+iCoLOQ38b2IeEEL1Yu2lPrGsitPeMX40N\n",
       "JFthQVsURxK5QKVvlt2iWhLWunFX7NsBrMddNrWAJ8fbxFeurlSLZi11fgxzXXZkaI9YejIOyBvq\n",
       "07hNN4XxovFNXtH0mXZd/r856WxULlnjRpc3d4120imwzHa6nNjf8RTVb7n4Wk9KVNgn95Kqckme\n",
       "eSwTI8W9LfMMHs1v8UTsey5KhZ05V6XOgYoNL+m9SlR/9JHC+PW05P2bQMr5K8Hp7cGavwtBOBTt\n",
       "K2Bx4aVf5T9N+uqu7Fuyq/eSWMhDOOGOabx91Br9X1Z9hykJd2RK0tPcxAZib+FqccI3p8Cbp9JP\n",
       "JWD1sHbb/ONfOuI0jCSZx7M8r+yOqySRE8KE18pXawLiEagxuk7/oYkPpuTezjlwpv87ymuBIfsE\n",
       "ZmoQmpdBEwMufQEBHhPR9wlLEy2yvvro6zSbuWNqGQaWDKw3AXoM5nxr5D5Ec6G5w6kRljVFAe3/\n",
       "V4KmcULBPeHz0iXNrkWEHnDSl9wyZmNH1rwCI0VO7txjd3UDtaC2NrGOwzjufvq3mbxVXeTyLACm\n",
       "FeN6F18DRyHkgAJ8wJOpTxvuuE/3chAuGN/vKBevysnztutiYEXEWb13V5Yf914o5GNgxgCm06Jv\n",
       "4pcvBSfbgcBTsDXvGih0XpnPBWHqGebnpN/CSduUpH94bNR44S/09VlNKFOii6Wu8i+eBY8rgAaW\n",
       "9g+1H6/wuCxNjv4+grgsoqE/KED7RyZk0++Sd0YtEMFPFyA2uz+AYNUs7BUFkaegRRe8ZTmvisTq\n",
       "BqgOlV9BnZakwYvZVtAV+OoJkshSQm/BdEWByZ/M3wP5nYHdX2Nzf1QGmReKJArEC5E0QAuJhEc7\n",
       "InvPvyzm6f75pVSi+B9FhFAiJFPlinm4VoDK3EJDVb8sKWNiEsUFRynv6tPIXkisKZy0m3O4bwqm\n",
       "BkttSq2P/IRlCn9/6tv1FOmLL74OJHkzfNJk5gGmK0VB0deyp/SHMKC3+prnve7LWaTq+O8e43cJ\n",
       "SxW2tvB7zTe73q7IBOPyYpzrI046OsSsMbwKyiY8b3dm28H/AGqFSsqlkaFrn7Ny9QlL+8sRRrKA\n",
       "v6YLJp9cwgiRwYf2j09IuaFv6nHkNuS0d/JrxTmg14Owk40E+P8jrj39RU6jOusq3OA/L6f3+oS4\n",
       "NUcX4g8rmA9JXDUbsyGJL/BNRCbtZyy8AG6wdEG+IsGi652ADojPoiCloYd12LOH8Uckj9WiGkMn\n",
       "rUzsUKL7Igi9b+IuK4nIbkb7ns62TkmmBLUZEODYch4ve5ChlSA1ksLEfE40kUuz5L3RDjTEkHpD\n",
       "VwBRIUm0U5JQWuHjdC1ICGW3P0LhbySQ1d3PP9iNKcH2Bk93JKBjJNlBR9E//lMgQQFcJHI6MSFi\n",
       "j2hjCRVVS6EyUJoxLK6tYVNMGWVbz/vlg16Rh3YWsZJXZ7NF/+ldk7eiXG8G4Si9/M2XNu+vSURH\n",
       "nsa+NqgGGz+6h+mogVfxFzvt/zuXxvRm6QCYZEo205VEUm2WmCSB4QdSA8latGt3UjRpKWOS+/nA\n",
       "JxGgi1DSyO26HWX3scAh2Wmlv37x/j7YssQdUbCSLZIx3JMjeLNfw8OTnggw9G1Lm6c2vZI5Q8MV\n",
       "WdwP9jKJ0CjywYH7aiM8OTIOJLTrDvWO8NqxFZYB8c0ZRMm352RKDbKZkUlBkzmbCDTuY8njxUuC\n",
       "h2M3D2FbIn6A1WhlnPm0b6yc+HPA6xLVrmB9QMJZxYOWqrXkS0Vj2pJh7nqXhCr+mHQg9KopiGKA\n",
       "Z7S3GmOwHn6tvZ+0gX4M6wvSUlb1kHPmWbiEjAjH2MEV57iPmhA1ZMSto3RCjVKoY2fv1xFa0KOa\n",
       "u2zaypBUmpPGzAiI74VQ7HCskB1bMHI0rx/KoaQsEelrS7nhyRePQXCFpF6qcsyMipdGfJMkWfmp\n",
       "uPdE+cA84Ppvv4vZBrHXjAumEpM8QsTN7yEVD7DtlIY3UggbPqsAwThhLLTLckZ4oXuEguycEPjd\n",
       "jNmxaY9qECckHSqmPZ0G8E3OzzGXMt7zDaQvrjOSXowFH/enjRl9nBwKbu3gfRg2kvndSJedlofq\n",
       "ZPH7vTGzKHWU1/yqRpeaGdjJJIEz0fabJKhs2IOjt1KPO3hNfM25+ui074ASMqIlQCPQCTSMcYzx\n",
       "YHTfNLBj/H847VecDZtcndml4czLkZC5fwpmOxusiSFnIRYHX/zzSrbp9P9GAiWB+y+Vlc99hkjO\n",
       "e2vdAZ6Wcl03V3Xp5XUWuyV6FTfm44lDwNEdGb14MgNB5pt8/nMrM1D/uOPtgYz4p1kc+OBDT+By\n",
       "cpNmC9mixWR8zajt7X4BTUqwE02XV81LjdGoC/8i2kvNt36W4ao+Xh5ySs1RPZkGT0O/fKy8bURL\n",
       "qkGWaVlXcBkPM1Kgxo4fbSLucN8rABy7wDkc1xHndcjmgWqrAn73pBlKUr9DEg1Sxhcp5OA1eYjN\n",
       "5SllRvA13i4RryIb6D1BWB6I8OqRxKXGYnEiP7y5Hu+fpf1BRUPDGbqQV1F/Iu8uzLeW0+nXPKzT\n",
       "fJL6nyy/7pKb6qyw8Jr8YpoMm6g/0ND+V9n6euAvLc+BPQI1Qv7WfOhWsoBDKzHCOCIa1ed4VOvV\n",
       "fTgSoCEeDp5DKwhKpfmmdSBmpH7/9Lb3lJ6UWs3OjZIs5Ejh9U9wgq0L2r4mX3xNx2Y2Ovk57/sk\n",
       "VCy7Y+OzXgS8TT4aar/mRnOKQx6ltrrNi5aiCwEoi29Jp4aZ8gHWKM6fFmrGi0UHhzUeDOzOrAyX\n",
       "AAwbLj8MAQXzuqonXiVFdjy7vmW8kBpipoMKwwUbtq8PA51t5z1e+4l+Q+ONGD68xPCi7gswwLkJ\n",
       "k8a7hnqLUSFSnvVgzQEAfL/Jru5h/HfuvGaRohkRcyuw3LtJTClCJSLnLnqwfIhmvUUBnwcyCzgW\n",
       "L10UqNGYTPSlfxu8HBzMbo5G8i8swrG2U9Y0VOlYmHr6m3knmHzmV2DSc+Zug+xCLI8xSCvgYADF\n",
       "vpZ3d1M/ZXk0F9SW9U3LQxEkN74vz2YYDyIBSip1vhnZDEm7dP2doriunh8fbtpO+5wIc/AClu32\n",
       "7OkZJ7wRpS7aqLjxsfjNd8ALHIbxOs31hildAP9b7UhMSm7y02OWmTiSPj0igFBN1Dtdfa/MDmo2\n",
       "DumOya/uoDRZoQ49tfj/uQAU2z4XdRBCXpomx+KMQVNapPLfanFjhvqoevnOG1x4u0woFiddcpfJ\n",
       "cQduG+4O/gXcjF8eCSIFIxOtf6CuuOU0gc4gaqa+sCfr5v78ZzIHoCi6Usez23Px/MkHGR7ZkXqx\n",
       "RH6/5Uqj8W9SNUs9J43ELUTjkmdfS+tL/F0asAuRVY/v9cqk5qDEq2bHSkZCCKseIW1DtfIABKNk\n",
       "0h7iJC6SVcnqHqj9p567VMNt8R8psBvuOe2izGlB1Krl3vHNIt9cRscvfH3bQFKicU7fmBarLX1+\n",
       "b3V4EO+Mdd6yNYLfN4rdBkg85NwIL1kgI/Lab9uOczg1Ovgckekf86GTa0f+HZbyzrDstZl0z+pf\n",
       "laZ7to/WdCQRSQhOe/dzbt9NONPOxjCAIMoe/oTvIgHXYonh/tSbtTEf40j/z8kxFI+RSeyT0Wri\n",
       "ejPL7DoIXPyQhPvg7EGJ8DdXVOdDXhkQUOKIwPixtdnjJZLzKPkxyO6VKxxb1CSaALLB3L6z5h1Q\n",
       "YiP3Jl8E4dr+2qZe+4BWwvtEDFP2VZSguPLtD8TAaIzkZZo2Zf+HVpZwE9n0f7He+lVOmJbjjJOT\n",
       "0ZZeXHOWknRYoYpBNddgYFlSvRA2YMtx1nMLpvX0qfLB26pHJzGokGjKB6WuF1YfnbLqxiFiJA1Q\n",
       "giuAARq7D/D0tvTpf8AIFF7oUF4zTq7DH7yGGoq+W4BD7fm/dwL0p1KnKLwxklJRXaTCXYOulIBj\n",
       "f2yCSB9ISdIPfFgf2RQjJl24/Qpy+1MMFK7iktUvrAhMsH33XIIFqAwvf3GD8l4IrhmGYaFqX7gE\n",
       "dXlBLWuoqH89hDOmzMh0OLAODnS9bFuOm1zvhzFLSMylz24CrfZv52XDQvYsZhdnZR2Wsrh4GYVf\n",
       "1fF4ZVtd3rT0VhOL3MYyB00JY2II4woYELV8HjJgy2X93YUsHSWEf+cOMTyrekt6sLQ5qLnkZKb9\n",
       "dE55c6ZHFxEMCwwOcIPW06+gSPCbpnlCfAiwkk5jPUJBhEMwaMqXRvMlOhqGYCuFW5Z59YSie860\n",
       "Acl4QAZmXux3ob/so3JP9682pmBI2TSKu8WXQGDQgwTsmWWQR+G0n/v4bJWVhQnv3dv7x/3eGp2w\n",
       "TPdcG/nDDXazzL5a2l2r7VldoHQFhRLPbNAQ9Q+oBoSRJnVe9aeADDyc7jHwHAU6+8dq6C4lB8PM\n",
       "IviMy0kqYFzfGIvud+6MGuKXBM/r+lNruvpQoxIvF1eo7ifjqQiVxoioiegZOEU1V0uvUuUlqN6r\n",
       "5RUUbwn9J4mIqlOq8xFPcyL/h4iVQPd3xMGxXxNcdsxAk70uvz++Pp96J7eclgu4qqi0hdh9odbN\n",
       "6b/cUn5buKZncXhvcQfaDjACJpcLNarexRboG2EDIZOlH29q/hOO3UgLtN4+6pi23hZ0+aDG6uf9\n",
       "se416HCrCRZq0FbesU/21HL/5h7SBuSK3Jm0zn7QLVs1zCsQmYFDbka3m4wyJmdCbu/HKaVIkDVn\n",
       "JP/C34cKDHKvKO8OeHOzcF0kW1eyiQZhLcGOKl5eGhdyneX8/EfMhj+egIWjHVZsAJ4jAiezcHdU\n",
       "d/EYRgBu75T9hjjPou3aUO/0s6RjA4rRQ35Ml7xVSov21hJx0N02skkxpSQWqLxidEhHhqKkuyoo\n",
       "vtxnXhAJ1A+5Ej82fG2uFllcAz/ow4iFybuwLR+BZ98AtkItT2JUlR27C4AOt0zjCHP/DKl5YlM4\n",
       "SLlZnEGHRFl1gkXiXYnTMhekbhzqACcPFUd59t2I1rNonlQcrU5EExVHbYVVXF+hyVocIfv4bpXV\n",
       "iD8INkqzBt15MQNc7+RW+R3rsYj6Fc/3+zDbVBnwSm6Glfn9RGKcvGucBD5ABxBMYHyYsbZlj5zI\n",
       "henCwiQkBdpv/blJVe5v3t0ZJAe0OP/+/nH2iMXnKYq6OOASws30VWcZc7RFE49f4jY5F9eBaxBj\n",
       "EePv6epkwBz3IeDgzx8+bqPwsLnmA5HbUnBaEOqeGNbO7smAZbkKS6g6qscn1d6W6R18TRJU5N5t\n",
       "VFoJGu0nSUKv1DyAgXoigSzVasCoFYAT2SLETmna1DuT8S5RCIY1dyTjsb1q6xkm1a3le9BUxKuQ\n",
       "s5cNAVCvUHE0ndGrzOYofHZDerixRcOzaO7G4xe8qe5BuzoQc3NTrPnlcuL1oKIS5MkFD8xSDhna\n",
       "0jk0z65oLib/oecbNQw6PHOQYus61E0nLBjdIcSxr9JGDZGW4PoIUFd+BghXqLn+kEAFAn6gzpL8\n",
       "zPuz89GlAQyI9gL6rMjnP81uRq6pAnU9hf0oZwsALeegG12gdDBURYolS2lZ7o/LH7VBCzK2Tvwu\n",
       "EEpkOH1Ik5TNHOgMJORCV7/fP4E1Nojz+Mgu4JqT9fFVfr7Ky/bD3nQWWizxctr+DnVxuW8MmmXK\n",
       "uwKedIHyrItRJAKM38lI5iwuRDYPJUqP0b6zGtJmj4isNd6u5dtLpDe9UY+mstNI6WUY5pzED5Gk\n",
       "RWzAbp6/ufzyArkwKeSxxh3rvk1DIfvR5H5+S8MQXTFGTLHb1gvuxXPapVOWqIaRzqqrc9sOd5Rq\n",
       "DHAEzn4pNi42wAUj45cPHS+Xn2Gqj64kRfIinLnJ31SYplX2ClA0ttb14BX1MC1TWyNcoRbrmvZz\n",
       "NZMmQRm/n6sx0nPKVl7SzR+0mMD0iLBkGuFwBgt7HG8sp9JG8xP/OU0cYUPzJyADeK0lAxzHPgTO\n",
       "nttqS9Y5IPX7Zs3WwIeF5FxGT5Pcv7vY/tA9AQt7Z6CcNBnDnYCtwXMYMVxcTF4Xao8Mo0dp0TSl\n",
       "93n4Lvt+BpUgnS9ke+lowf3e8fJg0wridKxAv0oP0rZ4tB9qlLlZavjkxfsfeI5NXGfjSlUjdvPg\n",
       "midNBOKgkje2bsNUwpUIf51fvodPIOCzpH2pWfF8CjtzdptsggQlj3OPXVSAxo+ZyD9ExLVxooQT\n",
       "cfrumZSLPcfsY0v3TfPktd0XmeW2V29CThCEQhju4Sk+JgZc3nyIQ0KAD3hbFrMJ9QYWK8Ee8CHC\n",
       "HW1Q//OC4UL9xxYexRcYhakDC9XiuBPWn6fnR3x/IQ6rovv2PUOxu9zFLDq8QuX54XX/snm9iLJx\n",
       "jQYYFo3UvH8RI/rxPFbOUvere5ZEc3oJ4XaBsx3VXDyLBRROy3sYHNDNu1FB4XGhrJkzCssv8Jiv\n",
       "3XRtImk2kPxGP+p5um3fUPk/Tqr4XE2ykuO4KVFd9d7CQSDCNBquArwCd/InLVGBGQnblJlNrTIK\n",
       "3ZQIedHWaf4VUKqbxVeV9DYo1llvNoY+RMoeOQ1vxCiyoeM0kVzbqNisxytx7M48hSm6X7LngdD8\n",
       "fBHYsbPxdXBpa5QVLraUdoIIUSMarqGmeqR2JfYWBJVzx8lAGscYp/2vujMPP4nev54hbiAAaIR5\n",
       "tgFuEQARq8/ZIbXPoFIm/ej4c3Wgw3x5rykoQu2Iif6sqgT3dV3mVbrRbmzc/qTPhx6+lq5FnsUs\n",
       "/sNKhcQpgFRSro2CnKUvsBLbs4rL+1pR1yqX4UhRJ9NjxWlHQA2UskaDKV6JA/18oHG2lirZpgL3\n",
       "gShO1trucTI+wHSxdt685BPtC7HxHSsAbvglYr430XgN7BCHNrrm5X5INp2NmUZ5dqsq4FFiCxTM\n",
       "wtebMgbP9yl4hn86ZuRAyeziaJNlZYK+A9OB/YUbWkdc+DBfBPOIOOV7t2a20CRLUEvEszvNnWk0\n",
       "1VDtssl346nJS9y7GYCoTcGjMYNosQ+kZ5ZJYwkLQ++OdpB9H//hO/I8TJigr8x5J+FJ3TtFjEtS\n",
       "HIlovoUHw9IQLNbgqx+vkloAib8ERtvMrZeAjXaKQsyfDZba4q7kBJJACD8T79s5TM9jCyyf/I3S\n",
       "ZOHuz+TEcOIBxLiiJuTox/oGqW8pup1lJhxIakwZm4B76JGNZ+HqwcFrWtzX9Hixb95QEAij1T05\n",
       "OzXMjDD/ICZdwfbOvby4oNpu8p0rYKNVanBUVa7iE7ZhSooVVSt5dnK9ZtzWQmYaTm2piido9Blq\n",
       "yKUs5+8ZEW6GS8abzhEcrV/7KJR01zGTOnLKEMF/ChZzzcvrgB92akmlTIXVqgmlgUswtXAijjQq\n",
       "BGvs+TsLujp+D0juaP9iwj3IUSxriCdKazRJNkgrku0wvkeP5EHDEZSh8KI/1AdiZNyXyMrd4Cp4\n",
       "8YYWD+hIJJ65q+g7QcvmPnpUruLXkYPY0xbicK6ORbclbx8/WFuwpfbJhAaCyEObGPOBJN1MPLq0\n",
       "bI3W2GYTU6AXxj0hhckPpAZz6NdiaiUdw8RDK3PfmQCIAzS6agIJfIj75wh75WW3GCpe3wVgI1aU\n",
       "KwEF9xIaGx0asUTI4PunMM7S9l7Dps9qLgBsvQU0lus/GD2mgeJwn8JLwgRJXMsBfASwAp7toOej\n",
       "JGPpWa1Y3I/JvJJkay6jEhL6YkKbqj+Ro4v/SVwRc6JuZ2FamkoteIqVFVqDirquVZ8DYG/KyQtr\n",
       "sqrguvSXOy6JGWujcduXSetQ9+GdGmp/urxzCfw8y2HIf2Bwl6e9hcXGG/uEbpWBxe9b+9u28mRS\n",
       "2UJgwTwvsegPPA1bAEiNy4CUYyBU4yraWXuU9nqoztolNIzupH2IkRhVLDPecWkUXcElZJh9Uags\n",
       "/KV5yAm3mngRO1pxz/3a4YSMRZtY+rgJ8bvVrKl3S9xOapYmJuiX0C4Lbz2Zi1LwK/oYmOXSboNY\n",
       "KHyhZ2MK4rA01eCfp5FrzPIFd3jMDAaX2dgOjK1KEKYWTcaXDE9WXGllAWYo7pQxYvCn1vdLiJZ/\n",
       "gAWbjokuFQxMTNc16j7IB9Nfi/LJx7iimg03NuMjChh46b4CDDSFuQx1oGptmHkPhRXyhueiZnDP\n",
       "P4hcy8/W0Y/PkC24sucbg7bccWuFi89WrBqxiMFp/FEE0GT87ra1aDuVYyU0W4vLBCkwDEkgXrgI\n",
       "biExL+5zSGeZ/yLTnR6nzlQ15MExyBEK4lawz+G6/zr4Hb+6qOZvvvmoqDfsiJ7l82V/H/5HZLn5\n",
       "+pcbXG8dNuFmhnTeRshNgR38lsOwKQDwbdsP+F3ujYW7lOtgfMP4w1Ih1SmwSITtpL9ZymqsjMWm\n",
       "xCL6F59ZSmceHKher44nBY0zLGw2AP8FO074frE42tc34h7TWrL//aC92tIkj2bVmvSeQlM2I3HP\n",
       "iT/tyGp7UnPjMo/+BWK9CaOARqCVd12/LpfF9SslItg46WgG3DoMuUpTduSlXIo6QdTUIjLa4dtd\n",
       "X5swupuSPKO6I4GW2dSbWLs7LW8xaab15aqPbTwI7caGkU/7QgW+LVP2HfwjekEB/MXZlZxsDBvc\n",
       "3LMvi25Bp90zDkC7vr71ng9YZ0LoGusVGyFu4xPpwsPT8RPW+4DOWDdY7gMyjPiXjv3z/3N47i3n\n",
       "oXLqFCJYCEflek+URRKsxDm9eVXd4Yn/cvfBpMIf3dVUjH1AafiB/VSZHGFK1h3LamhadwlIMNhu\n",
       "1MupgBl23BHkUOiqhx/+J5w+TakwwGglCnEFq61aFtzZ2NMTMz3nz3mpetp9phEFDY0ad/J5kJki\n",
       "LJACbsco67SRBUj6FXx8LX1G/LlnRPfM4fAKwgK0lPazFh5/xxOD8SFz0sjkJiRHpyV2tLTAGQlX\n",
       "Zg9bly3d7cDSojziUcmKbzOvdhfcp8Sxqk7VGUefv2XZfqAlTZM7M/xV+q/B9V3olLRhtvOBFmyu\n",
       "ZzjOAcbhuuSIYFjNpdygZQv4QPpOYMcXz5w4Tz7Exx6+iqa1TRNr8e3qlrCh1JfmMa3Nzco10yLn\n",
       "EgP/EVNVTWK+r2smgOZSoc+nQTPdKxQ7gfwIzbL9+6wlgcUz6PI+bxcZRHTimyj3yMv1/mB0Qzh0\n",
       "8qJPOCTO8PtXup4wETM3n6w0b7GSA92FswvIKb0OaHnlGyuJJWPdupJTlsaBcPA0AXwtKUllrGnn\n",
       "gnCclEmyk7hgkGrOlQDkd9Tc5w4wff5Sk3qta8/4HAmwUyPLlLhZdXCGDWQ1XYteukjNb73GmoNT\n",
       "6rfwaleSw2YwAJNTg3e8kjS7ialKvXqbBT+/3Ewg3OHaj9PjYK+L+9aH5Of1aCvr2qtcgDu+o79v\n",
       "UtVRX/KIBR1ZmbVwzz+FTKz0WZ0GrvQ3VkpnK21O+4KQB4v8xFYlwJMG6ST532blWEFasv9BTvzd\n",
       "lKirE83oSK6a6R+1Pr6WpgGsbbooSrEXSNtc9zqavenHVNTd0H7fSeWlp9QlZDEovA065Qz3tbWd\n",
       "jVXN77EivyHDDjw2XNTxcLSNmZ/adLZueB6T2n4T6hwhVpZW9qNkNC5YbngYw45R18g/XqDO/u7r\n",
       "ZgG0Vf2/+E7Ls9qHl7DrmwGyU0WW5FFlI4Ts0z4kUyf7VhP604WiMYTsT8PPK9beveHNbz58m3fc\n",
       "nvIPdqL02f8sc9syHuyyFVuGTjPCbQ+S4eSPyFKQtjDLeWPbhGecxushhpAG0WqQG8gkeSmYCmb9\n",
       "BhYycFEsd0npJCD6XgFpvl9doxxgfdn8R7sGp1SmtKyQ39undHIgKY5gdqWZidkisL2my5rKUeu1\n",
       "nB1PKFuDmF2yXWzxuKCYE7NiSWzs7TK4hl1Y4ETtPvHX2U2h6KtLP7eoZINvDG2+bh6xUZ2ZO9ne\n",
       "phmGV12SbOSxtsi1s3JSu1tJu/PsG0LKnjAHQ7vmGz8np8S+AanIi7VNuylGdeY5eZVz7/Fjf04x\n",
       "tgV3DuC/cvlX7ZWDtSRNimX45HPYq8jy7wPjosVqqXaEz79yGq9MeGFVmYOxMqy2JiEV8WNRXjA+\n",
       "qi1VTw2vCZr3NggLmWs5WzIbovzyICwf8gPEeLdzCcp5e25Po2YpbY6Z7GmNlRSx46dOjTYuP7vF\n",
       "s06LY55rmpC06p6ebXP45QvcLjpSsIW+mzYwJKjhhVx7E9oERGlRgEgckt3xuBuvNCEvCvMkIkT4\n",
       "QNsFf+iBC5WVAeRCrIXaWNkS4OBcUhWWmJak505idogmXpg14LtzoXAS3O/1uJWfc+dK4Rvit5+o\n",
       "r2iIX1yb5KgxLOZG+ktNpT0lYPFa09KPgempAzyu2dtdMBfhFT0CxdcYxwOGSwWMjbfnfVpRhGMV\n",
       "44BwkYG2+HTziJ6GFdUj/YcEy5vAKA0FbGGjGPNqSf+uIlaLAlSLQG2kUHulHUknkLgxZDJTCBNY\n",
       "vhA5WAa8BykUKinZKKk+4MPjllmhmY2C0rEgFeUWv2sQxily+tmAKGg9ICdFVXyTah1W76Lp/Axc\n",
       "xgq4MqzaL8C9dvCaCB0ELEofiy/da5+g2rkWDYP/OxI9AA0QyEOEUocwdIAsit6pG6jKl5UTm3uF\n",
       "WTGeX0LO467eLcfIeO3SZeHXZaohslyoEobWxGRb2FwYKJuyT+ULaNJztViEkTRQqicLNu/xhS1D\n",
       "0e8rliOK681qTZxwsceEZlSWNCKVTSUR24xBNHl2M+M4ReIpuxmFwzqaKezUAcbb3B+H5+tYeLBb\n",
       "xzE4iRv19jdQCs6/JICcXXveq0r7+e89H///rFxgf/q2lwOZnzwE8uw1hN+CiTepEw3L7RBT2Rao\n",
       "m+ia9Fupf+g4g0JiTe8h1AI07yJZP/6sznAv0Yfzm7G6+XCPK8i8A7a9xjeS8uUat1i0/BCBaNUT\n",
       "rwR/FodV3KtjPPD64NBN4kmctqTK71f4CkZAEWUilj42TywPoiJCexGBLFxods7yD8x3hUV/c8cj\n",
       "RKmk/le1g4/X32xuxQ/5bkSBOU/oBCzOhqubUhV0sRDoO990zFcjfJb2gacIQHIdaB3WHkGs5j8C\n",
       "pS0oen+z59VoXJIhjF4fXCYuMCuCqWwmmhMygVKqQrXTtQvelwZVef+Y+/hbdAAgtZ0XUVl65qH1\n",
       "bs/1bO2DZAJU+ZTgurs+x9RMfF0s0CilFbrTmHOAsIQ5D341SgihQbcV/BFBaGDPmtNN/bN2NIKZ\n",
       "OifNZVKr3i7RxqmWTDggMbSd2YzxYMK1plGn7aAUDsv+yCn2nTW+2YwRA2UHCz3b14QGv1+FFx7g\n",
       "mi1i/wcoWpN6vl7NopEmgB3P1mL8NbEBDbaruZ8KZiuqA+yRkTn21WhG3JKrAaH6zYtUk9mxh4GM\n",
       "UTQkMFt54bVH/ijs9vrAWdzGua44NnAeJ6ftI23FR6n8WLUh4O9Z39yR7qi7m5Z5lK9OT+/XA1gj\n",
       "Edu7APTUrYP29bPmRjIZBKLd/WqEpy1C8vWdyqWTHsvJbphX/AznRrwbcWGyjsu096BbMPxmwJkp\n",
       "lHOPWt2Np/ldhI//9T8/uMA6ZT2xZIKPG83pynju6sCc+iF9iEhUAbxAKecRCsn70tEpJGRHevcV\n",
       "wVYXLwVKBP38L6E6mP08g1V6kcvFxL4PcECagOCn10h5XYphyqYnkCRn11DGF0QWsFXT76Bk9DyS\n",
       "RpBRqfZWCtZd6aMnL975yogFqw6zlO7VbyqxScOx7+ynghoLMTYUi9874h4qrA+lmWgDbmKt95Hc\n",
       "f78IZS2pzQXS5XSy1MexM0P+XAqEtPTurx56u+IwuQMxYTGXN/JE/7+UTr/yM7TZ+C56Yv/xVzRT\n",
       "bsly2WBglntCgLQr2NB9IGg+EYV1XPN2HUWME8L3LfzlhcG/SIaThweOn9mkSHDuUSxez/dtFq02\n",
       "BIOmx+qyvv+ObSrLuhi1l21P9rXIr8BdpQAkrWHhmsnt8lwMlKaUqQM7Q+GV0waCWdDZWD3p4dvd\n",
       "clNHsRfVUKI8m7+hWpGJ6erjP/TWLnJB5ev2u8GhUnKLuVU7a0PFw1nBGrD2qnP4lTYz7A7A9Mrm\n",
       "8UmaVhoc9iMy8mOk38Zc7dRFCuP61Ej51ZGWDL4SVF/qVpvUQuOwowLeeOC+i3T9Te71UTW4p+OR\n",
       "KIy3DBxOhK9IYQx1p2INxZl00Mquwf/me54+j/pEDy69nzuh93yFfT58NWfIbl5u1kUMB70djY0G\n",
       "mlAncyDVpetsRSBGA8jVAjvRRMrl0Rsmj11zfUHCgTr5/Ae/3ZoDCiyBD6l2OnKlGSMKypxY/6Uo\n",
       "pJXYYean1N3+ZIDKZqznqoYAE2FTzO0/BYR9BbxO958Xu2+VbauLD4FjQTYhkKRfDWA2gCPBiF9C\n",
       "xGS7sk4BC5YBe558bGg3xBEs0NYYwDomfbzJ5Kgjjbzc585vXOqbQoWGpA1ugp1xunu2rb0g/PYK\n",
       "ny/+5a/cc+V9CTRURM7jjIYixJsICnmSZrH1uOVH6qr0Pvq0HzgyUiXD8V1yyBKvODzQ6CrzsaVi\n",
       "ttNoNdN9XWmLL9Bi1STPDsvIHmiAm0BPNHA5c6En5m3biq5MIBorHQmMnjzz3Z/qFT/Ve2jlcufw\n",
       "eSwRMz8RpXqHacEOSIfRuklSeBgWZ07o7bDrLNvNpJfHeiHOW5bIEoXMOlNsUUBOWSkl0koS85rM\n",
       "ujUGifJte6ejBcmjX5b+fskScILPvD+btYY2TE5RDlGi7FXDCq3u23r2gdpnyb9oVR0lf5J3V587\n",
       "cHoNmewxVkGVfNDWem0hZYYzYNQSknXOR6QcheMiurgWTEYWZHjDLHKEvCX0axn8tqdkeF7fSn+9\n",
       "mcpICU3RmtkBfwQeWNqN1HF6TXbqap8xICIi0ld70/AjcX6EeAaykLsNp8TjyK7Tbarpcz4ve95D\n",
       "BxViriRQQCwJhYVf+6ihIRNsK8DolOj8H6Q5vZW6KsqlUvrBhv3axfv9HyWr+yDrHIczCJMbko7J\n",
       "pvm7oDTWcaFQwux80gfTyG512lzRhJQPdK81/u4wcFCfAMZvI4nX8keORzGhAriai+2J5D8WGpIn\n",
       "1FYwq7G780gBvcIcGAddv7vrZbZogwcLacmYnaHDAZ3f6go2c+/fwc+LsNyUT+jD2Q9Qgh2D1aXx\n",
       "LNs4gqj87gkIf4Fwnmq3Xa+RxlXF84DLTE3ZAQbp97vGXJatWPfcDJgBPoR5Um3RE6UzeDWMVXDi\n",
       "ITj0OaWTyAenqk9LtU922tQYlxQXmjb5cuV28sjyFE/Vs/7l1teHwfH49/juryWl5HDjAoZyK+Wz\n",
       "GlqH8t1u1+yLU/XxHr7/v4ZlhJXeIsKMSxhlsHoegrB1PvvHK+n2d6J/7bBa6YAawFq/FOEzWXcW\n",
       "JeAHAj4x+6AGpbw+GPXsfHzNPntkgsFX6FKjl3ZBSdj0MO49Zr5wuXAia6gStYG9hxDnXjjJ8wHT\n",
       "vjeObNKTj+zCuU3vzksoRMO2KoxMTAvBTPkAAAIIQZokbEL//oywB8q6jgFkBKIkCzZWNaNHfHky\n",
       "/iraSptJjjNZz/FhS0IeJERlJWcZinh7nPhAk2r/zsbxAek9LWwuA094EXziG3Gq72ZtMFBmqslP\n",
       "Idx540eduL6x3o9WjMpGZQJhdODDQf4yn3LG7ZfOk8ihBFS23iR2GMu8x0k0eEbunIYh8CUIIhOi\n",
       "5S7NP4YGlgYDMMckK/rVXLpFOoQ1RaD1To2WldcOHu7czgVbnSUEbnit8Tc6h7+2a8AjbIGvHDK3\n",
       "pwjmULGXGB7hljrfd5T2m4ZmGjsWILw2BUdN6QPXhOdUI2G4QQIWj1DHfi4SSvq4ODb8D2abe0Gy\n",
       "HGZGXAMIY7PI7PWzGxWW8Stujpa4N0QTm1p6sUseErOhHIe6bXgjyXKd820CdKREJ+q2ud7A0aW4\n",
       "18It23wmXkOoiF+zKAe3yI9H7UE3XJbX6Z/QLGD7pJdBBuIe9DYBbOVEHxWNCmHLcXW+gHDuxqsD\n",
       "CwOLy5TsnCwtBDkPQbp5YSTR9/y+NMycWx8Uad4mlV2gEs7XqdaA+vSIn800L2uxHefkQ0j8vddJ\n",
       "LNY+wnH8gQnFGse/DXfxyZBQ5PelWBYWSUl2F5JF0GKPrOd9pMyosKh7keWhaMKB8IWlXtMaZWBj\n",
       "SVFOD09BwPGi7r9CDnNGk4+J3TBw6jX/GlOth1tdS7pJ1IDEgAAAAD1BnkJ4hH8Csc6K+HXijlQA\n",
       "8jz5H/QmNJuAG5Zg9KT5jQfsydIq+++4DajJA6gn/S3/e+tQ7uknwhWOgx0RAAAANQGeYXRH/wP1\n",
       "ZrQDWPf/wx0zVSxXzrMjrc2EXe7YZj7YXJMHWnbYA3JrJd4EjX45/Pp43A8pAAAAHAGeY2pH/wQz\n",
       "6IqpfLR1npHHFinA/xaqkF8gxIAAAAB3QZpoSahBaJlMCF///oywAcn1tBVc0AktkggMPe9rsfDo\n",
       "PBqE19hdo6hZiHn877IBnO6oYgrmr5gsVFbJ1D4XV8uBaA5qNIKFFw3T9tOXgnCoJIBnXnk0xaKx\n",
       "l9D422w6ASxTt5OYA2oFdQ6UkpjVqzjneC2wdoAAAAAiQZ6GRREsI/8BGlFS6aIRpO3NrhyEMCMB\n",
       "YSkD03554Lb0kQAAABgBnqV0R/8BxIqxqHEH0tp3BLaDwkNqx6wAAAAgAZ6nakf/AcWADVwkiEAB\n",
       "tr0+OLi1F/PdjtIaahMTh4EAAAA4QZqsSahBbJlMCFf//jhADX+pGDHNFkdcAznuS29S0hENWnwF\n",
       "/nt+1u6IE0TtUBDoT7desfnEBlQAAAAYQZ7KRRUsI/8BHYGM6DA64rp4RgEtl8FBAAAAFAGe6XRH\n",
       "/wHEinBk671M5uY7JPBRAAAAEgGe62pH/wAo+ax98Kts2Gfg2wAAADpBmu1JqEFsmUwIX//+jLAA\n",
       "UDLu2AKXtr9OmXqkKmjAN5JOx7Auyq0FzjADo0Bv4tbF+PDhhu7sXrBhAAAAMkGbDknhClJlMCGf\n",
       "/p4QAE91k9wAsPrwWhL2UgA1Nc3l4hjqzd71BohWxcgVobliFg6YAAAARUGbMknhDomUwIZ//p4Q\n",
       "AE9kNRFio/gMqgAIxFGMO/W7CtfDQKFikVtoPNPTMYJ31up1PnbZ/TNYsUkJo/paLfgf7Z+DugAA\n",
       "ACFBn1BFETwj/wAZsZsXW0igA3NFNSJXBvxyQnLixGexXIEAAAAYAZ9vdEf/AFH88ZKUJUdREkht\n",
       "DUaoYYRAAAAAHAGfcWpH/wBSCB/pDgAnbovnG//kTpaoUoeZlGYAAABDQZt2SahBaJlMCGf//p4Q\n",
       "AE9e3RsNgCPeu7sq4yCr+/d4lkOkvNc44GZ2OTM7RIMQVozxXcM/pCkQrSMmGu0GufBJwQAAAB9B\n",
       "n5RFESwj/wAzl830swATUe3LEZcfl55Sdry1Q2RXAAAAFAGfs3RH/wBPvSyT3J06m2RmEK3BAAAA\n",
       "EQGftWpH/wBPk/gUc47qyNYMAAAASEGbukmoQWyZTAhn//6eEABPXV3FCUARRhvqVmyvl797w66T\n",
       "DX8aAEDUnOcIHLX/+t/QjjRI5Y0mSca7kGWL1oK5rLVSOTBWwAAAABJBn9hFFSwj/wAZyX66c+T0\n",
       "0NsAAAAMAZ/3dEf/AADiRTKDAAAADAGf+WpH/wAA4sABmwAAAEtBm/5JqEFsmUwIZ//+nhAAn/u/\n",
       "eklsABYKXCztWF88e1mtbC9VaNFYuGIvZct1J7Jx7nD0isVkEtHlaqM+pPDrC7bYIcp8oVz0FTEA\n",
       "AAASQZ4cRRUsI/8AGbAy0SntOK6AAAAADgGeO3RH/wAo4uS6J11dAAAADAGePWpH/wAA4sABmwAA\n",
       "AFhBmiJJqEFsmUwIZ//+nhAAUbNB4AiQ3guSvcqon6UIqwKNDIN6s5rXhw6JBT2yWGwhvrfNhBwX\n",
       "gblZo1XcZQnDVmQ8NcLC8N9eVqb4a/uYJhTzyDDyz8HTAAAAEkGeQEUVLCP/ABppfrpzo0EA0QAA\n",
       "AA8Bnn90R/8AKJOVKXgvEBoAAAAQAZ5hakf/ACnq1AVRb92E5wAAAFBBmmZJqEFsmUwIZ//+nhAA\n",
       "UbS5wBHvXDrgXr3wf6tgPNL0Hy23g+n6L5udHm011XDBMNdbFU821+z0uYIYnCy7I0wM2lPWEB9z\n",
       "3xOfNWhjQQAAAA9BnoRFFSwj/wAAjxUAVsAAAAAOAZ6jdEf/ACoejLehzNsAAAAPAZ6lakf/ACno\n",
       "PXXNIQc5AAAAaUGaqkmoQWyZTAhn//6eEABT8cgAAiqMe9N6HSbool3DqIIx7K2CaJ+IyfHczQtz\n",
       "tg1Q14cqqV9PCmH0qys2DY6WiwpAH0/RnaOcmPn/yqXfS1OwXaPzng2X1hUqOE25yS/cGcE3XPgi\n",
       "4AAAABxBnshFFSwj/wAbCXPvGIACG6R+ujhPp9fNtHnPAAAADQGe53RH/wAA3/ueFBgAAAAQAZ7p\n",
       "akf/ACs5c0HDjDaCzQAAAEJBmu5JqEFsmUwIZ//+nhAAU/G44AiQ3hao5AXi2pG7meC7R3BkYLvH\n",
       "FjyRYYlVQu/+ZNVT56qH/ftuYPUtZZZOCbkAAAAYQZ8MRRUsI/8AGwNlIANpzT5QTNTer5thAAAA\n",
       "DgGfK3RH/wAA3/udzqfnAAAAEAGfLWpH/wArKgDw3BYanJgAAAAtQZsySahBbJlMCGf//p4QACnw\n",
       "Pf6axOACpaKM21fpI/UdmPP4K1Hc9UBeCwYEAAAAE0GfUEUVLCP/AA1XvIJuNNZobYEAAAARAZ9v\n",
       "dEf/ABVLR3voo0/tNsAAAAAOAZ9xakf/ABWVANLlHV0AAAA/QZt2SahBbJlMCGf//p4QAFPyrXAC\n",
       "112Ptm/aNEs3Mkpykn5OPzgTCQ1f+JgzxcAFZlrwwSpqokaMYK/2qBDxAAAAF0GflEUVLCP/ABsJ\n",
       "kl796NI85pfh6jUnAAAADAGfs3RH/wAA4kUygwAAABMBn7VqR/8AKzm0x8Z93qfhElFwAAAAN0Gb\n",
       "ukmoQWyZTAhn//6eEABWMXoACw+uFnh/70wmfoO9OqBzmM0n1rrCQNVuIDjy0/rZKLPwb0AAAAAc\n",
       "QZ/YRRUsI/8AG1+8b0KAFtjxoanvNdxCvVLy0QAAAA8Bn/d0R/8AKyLktDWLQ2wAAAAQAZ/5akf/\n",
       "ACxCud1jaxaG2AAAAEhBm/5JqEFsmUwIZ//+nhAAVkGjMx5v9DC+Z3lIOwpQqYAxgr7esJvXG44c\n",
       "jWH8bB6DnaItwf11OBfeQVHPdNg5sPF7b187hB0AAAAbQZ4cRRUsI/8AG6JtzVACZalrV79rRsO6\n",
       "7CAaAAAAGgGeO3RH/wAsQstSQATK+p/u/YyCD7r2ahaBAAAADgGePWpH/wAA3/udjK/NAAAAO0Ga\n",
       "IkmoQWyZTAhn//6eEABWjtCUAlAB52P0TOYuajSe61feg8gEcXRgavTgJSgK5g36DFYuHzVXPgh4\n",
       "AAAAIEGeQEUVLCP/ABu294Aq0GJfQZ8Gehatkez69aN78HOBAAAAEQGef3RH/wAsXjiRIHA1TRMG\n",
       "AAAAEQGeYWpH/wAsPsnJIHk2WTi1AAAALkGaZkmoQWyZTAhn//6eEABWjEQCSfNCPZ0iwARcMHYF\n",
       "sd1aN/NRv6VoVQnPgh8AAAASQZ6ERRUsI/8AG5T30ZiFR4DQAAAADwGeo3RH/wAsUa47fEZtgAAA\n",
       "ABABnqVqR/8AKwMpMStupIrpAAAAQEGaqkmoQWyZTAhn//6eEABUTAS6wAFgH3jf4w68x5+L9TmQ\n",
       "xGNbr0BQqboNJQEW7c+szkjVjC6Gigah1NScE3AAAAARQZ7IRRUsI/8AGu3IoivdoA0AAAAMAZ7n\n",
       "dEf/AADiRTKDAAAADwGe6WpH/wAq2vkpbacptwAAAD1Bmu5JqEFsmUwIZ//+nhAAU/G44ApdOfEA\n",
       "8foe87ImmCyfpKYCSbYkiFBRuxvRhPEmfOmpht+08mxKTgm5AAAAEUGfDEUVLCP/ABsCnZqM/jnB\n",
       "AAAADgGfK3RH/wArIuS1J11dAAAADAGfLWpH/wAA4sABmwAAAClBmzJJqEFsmUwIZ//+nhAAU/G4\n",
       "4ArcOAL62tygVR2HNIumDikQOLBvQAAAAA9Bn1BFFSwj/wAAjxUAVsEAAAAMAZ9vdEf/AADiRTKD\n",
       "AAAADgGfcWpH/wArKgDy5R1dAAAAHUGbdkmoQWyZTAhn//6eEABT8q1wBHs/DbRxOCbhAAAAD0Gf\n",
       "lEUVLCP/AACPFQBWwQAAAAwBn7N0R/8AAOJFMoMAAAAMAZ+1akf/AADiwAGbAAAAPkGbukmoQWyZ\n",
       "TAhn//6eEABT8bjgDlGYeWDQNlLnOJ5dVhAMIx17xbgismDdFbbl9SOck9/LPUADMCxc+CLgAAAA\n",
       "EkGf2EUVLCP/ABsCeZc28TAA0QAAAA4Bn/d0R/8AKz6MtSHM2wAAAA4Bn/lqR/8AKhmse7CI5wAA\n",
       "AChBm/5JqEFsmUwIZ//+nhAAUbK+OAG4oJjUhjue6RmvUZ2DxrFaTgoJAAAAD0GeHEUVLCP/AACP\n",
       "FQBWwAAAAAwBnjt0R/8AAOJFMoMAAAAMAZ49akf/AADiwAGbAAAAL0GaIkmoQWyZTAhn//6eEABR\n",
       "sr44AbXH6sf8+faALFiccob8zrhvqQkdaxvFwsHHAAAAEUGeQEUVLCP/ABppkBH+v45xAAAADAGe\n",
       "f3RH/wAA4kUygwAAAAwBnmFqR/8AAOLAAZsAAABRQZpmSahBbJlMCGf//p4QAFGydGAH+rgaczEv\n",
       "MfVXsA0PsBUPkkp+U+gET97L23O2w2wW3TcFuPq9JtXimtngOxv0xVwiXYQGc3o0e0JpOCghAAAA\n",
       "HkGehEUVLCP/ABpjZSAEkJuJvH8+R9aoIaBa8TiAaAAAABcBnqN0R/8AKchDCQATNzNEjkz3Evt5\n",
       "zgAAAA0BnqVqR/8AAN/7nhQZAAAAJEGaqkmoQWyZTAhn//6eEABRsdpQA3KrlVBxF6RpkZcoJpwU\n",
       "EAAAABFBnshFFSwj/wAaYp2bl1NDbQAAAAwBnud0R/8AAOJFMoMAAAAMAZ7pakf/AADiwAGbAAAA\n",
       "MUGa7kmoQWyZTAhn//6eEABRsbjgChYsAhO/bxdC/FY12YMItDMKbm/y/Op9a5TgoIEAAAARQZ8M\n",
       "RRUsI/8AGmmQEf6/jnEAAAAMAZ8rdEf/AADiRTKDAAAADgGfLWpH/wAqGax7sIjnAAAALkGbMkmo\n",
       "QWyZTAhn//6eEABRspXQBHvXWleuFxwpavqMZ6khzt+VYB7XKvPJgqYAAAARQZ9QRRUsI/8AGmKd\n",
       "nIz+OcEAAAAOAZ9vdEf/ACoC5LenXV0AAAAMAZ9xakf/AADiwAGbAAAAKkGbdkmoQWyZTAhn//6e\n",
       "EABPcr44Arfkty2OfPq7T+dv9zvLPPuRsQsHTQAAABFBn5RFFSwj/wAZwp2ejP45wQAAAAwBn7N0\n",
       "R/8AAOJFMoMAAAAMAZ+1akf/AADiwAGbAAAAE0GbukmoQWyZTAhn//6eEAAAB0wAAAAPQZ/YRRUs\n",
       "I/8AAI8VAFbBAAAADAGf93RH/wAA4kUygwAAAAwBn/lqR/8AAOLAAZsAAAApQZv+SahBbJlMCGf/\n",
       "/p4QAFGydGAImPDm3BxH43kFnDYqe1cLSiU4KCEAAAAPQZ4cRRUsI/8AAI8VAFbAAAAADAGeO3RH\n",
       "/wAA4kUygwAAAAwBnj1qR/8AAOLAAZsAAAA5QZoiSahBbJlMCGf//p4QAFGyvjgCJDdY1+6RKlKX\n",
       "ejTh77XFJPV8xOAwzPpevQCxVTWsXPhqAOOAAAAAEkGeQEUVLCP/ABppjv92Iz9PMQAAAA4Bnn90\n",
       "R/8AFQFyj6ddXQAAAA4BnmFqR/8AKhmse7CI5wAAAB5BmmZJqEFsmUwIX//+jLAAVLGZAArskzXX\n",
       "v/z5BU0AAAARQZ6ERRUsI/8AGwmQEV6/jnAAAAAMAZ6jdEf/AADiRTKDAAAADAGepWpH/wAA4sAB\n",
       "mwAAACdBmqpJqEFsmUwIX//+jLAAVLLCEALRX2EFktXhm61w2WgUOA+QVMAAAAAPQZ7IRRUsI/8A\n",
       "AI8VAFbBAAAADAGe53RH/wAA4kUygwAAAA4BnulqR/8AKyoA8uUdXQAAACFBmu5JqEFsmUwIX//+\n",
       "jLAAVLGZAAki//XTVOwUf/d0DpkAAAARQZ8MRRUsI/8AGwKdmoz+OcEAAAAMAZ8rdEf/AADiRTKD\n",
       "AAAADAGfLWpH/wAA4sABmwAAABNBmzJJqEFsmUwIV//+OEAAABxwAAAAD0GfUEUVLCP/AACPFQBW\n",
       "wQAAAAwBn290R/8AAOJFMoMAAAAMAZ9xakf/AADiwAGbAAAAEkGbdUmoQWyZTAj//IQAAAMBswAA\n",
       "AA1Bn5RCP/8AAOL3uM2BAAAADQGfs2kR/wAA4ve4zYEAABXqbW9vdgAAAGxtdmhkAAAAAAAAAAAA\n",
       "AAAAAAAD6AAAH0AAAQAAAQAAAAAAAAAAAAAAAAEAAAAAAAAAAAAAAAAAAAABAAAAAAAAAAAAAAAA\n",
       "AABAAAAAAAAAAAAAAAAAAAAAAAAAAAAAAAAAAAAAAAAAAgAAFRR0cmFrAAAAXHRraGQAAAADAAAA\n",
       "AAAAAAAAAAABAAAAAAAAH0AAAAAAAAAAAAAAAAAAAAAAAAEAAAAAAAAAAAAAAAAAAAABAAAAAAAA\n",
       "AAAAAAAAAABAAAAAAbAAAAEgAAAAAAAkZWR0cwAAABxlbHN0AAAAAAAAAAEAAB9AAAACAAABAAAA\n",
       "ABSMbWRpYQAAACBtZGhkAAAAAAAAAAAAAAAAAAAyAAABkABVxAAAAAAALWhkbHIAAAAAAAAAAHZp\n",
       "ZGUAAAAAAAAAAAAAAABWaWRlb0hhbmRsZXIAAAAUN21pbmYAAAAUdm1oZAAAAAEAAAAAAAAAAAAA\n",
       "ACRkaW5mAAAAHGRyZWYAAAAAAAAAAQAAAAx1cmwgAAAAAQAAE/dzdGJsAAAAs3N0c2QAAAAAAAAA\n",
       "AQAAAKNhdmMxAAAAAAAAAAEAAAAAAAAAAAAAAAAAAAAAAbABIABIAAAASAAAAAAAAAABAAAAAAAA\n",
       "AAAAAAAAAAAAAAAAAAAAAAAAAAAAAAAAAAAAGP//AAAAMWF2Y0MBZAAe/+EAGGdkAB6s2UGwloQA\n",
       "AAMABAAAAwGQPFi2WAEABmjr48siwAAAABx1dWlka2hA8l8kT8W6OaUbzwMj8wAAAAAAAAAYc3R0\n",
       "cwAAAAAAAAABAAABkAAAAQAAAAAYc3RzcwAAAAAAAAACAAAAAQAAAPsAAAyIY3R0cwAAAAAAAAGP\n",
       "AAAAAQAAAgAAAAABAAAFAAAAAAEAAAIAAAAAAQAAAAAAAAABAAABAAAAAAEAAAUAAAAAAQAAAgAA\n",
       "AAABAAAAAAAAAAEAAAEAAAAAAQAABQAAAAABAAACAAAAAAEAAAAAAAAAAQAAAQAAAAABAAAFAAAA\n",
       "AAEAAAIAAAAAAQAAAAAAAAABAAABAAAAAAEAAAUAAAAAAQAAAgAAAAABAAAAAAAAAAEAAAEAAAAA\n",
       "AQAAAgAAAAABAAAFAAAAAAEAAAIAAAAAAQAAAAAAAAABAAABAAAAAAEAAAIAAAAAAQAABQAAAAAB\n",
       "AAACAAAAAAEAAAAAAAAAAQAAAQAAAAABAAAFAAAAAAEAAAIAAAAAAQAAAAAAAAABAAABAAAAAAEA\n",
       "AAUAAAAAAQAAAgAAAAABAAAAAAAAAAEAAAEAAAAAAQAABQAAAAABAAACAAAAAAEAAAAAAAAAAQAA\n",
       "AQAAAAABAAAFAAAAAAEAAAIAAAAAAQAAAAAAAAABAAABAAAAAAEAAAUAAAAAAQAAAgAAAAABAAAA\n",
       "AAAAAAEAAAEAAAAAAQAABQAAAAABAAACAAAAAAEAAAAAAAAAAQAAAQAAAAABAAAFAAAAAAEAAAIA\n",
       "AAAAAQAAAAAAAAABAAABAAAAAAEAAAUAAAAAAQAAAgAAAAABAAAAAAAAAAEAAAEAAAAAAQAABQAA\n",
       "AAABAAACAAAAAAEAAAAAAAAAAQAAAQAAAAABAAAFAAAAAAEAAAIAAAAAAQAAAAAAAAABAAABAAAA\n",
       "AAEAAAUAAAAAAQAAAgAAAAABAAAAAAAAAAEAAAEAAAAAAQAABQAAAAABAAACAAAAAAEAAAAAAAAA\n",
       "AQAAAQAAAAABAAAFAAAAAAEAAAIAAAAAAQAAAAAAAAABAAABAAAAAAEAAAUAAAAAAQAAAgAAAAAB\n",
       "AAAAAAAAAAEAAAEAAAAAAQAABQAAAAABAAACAAAAAAEAAAAAAAAAAQAAAQAAAAABAAAFAAAAAAEA\n",
       "AAIAAAAAAQAAAAAAAAABAAABAAAAAAEAAAUAAAAAAQAAAgAAAAABAAAAAAAAAAEAAAEAAAAAAQAA\n",
       "BQAAAAABAAACAAAAAAEAAAAAAAAAAQAAAQAAAAABAAAFAAAAAAEAAAIAAAAAAQAAAAAAAAABAAAB\n",
       "AAAAAAEAAAUAAAAAAQAAAgAAAAABAAAAAAAAAAEAAAEAAAAAAQAABQAAAAABAAACAAAAAAEAAAAA\n",
       "AAAAAQAAAQAAAAABAAAFAAAAAAEAAAIAAAAAAQAAAAAAAAABAAABAAAAAAEAAAUAAAAAAQAAAgAA\n",
       "AAABAAAAAAAAAAEAAAEAAAAAAQAABQAAAAABAAACAAAAAAEAAAAAAAAAAQAAAQAAAAABAAAFAAAA\n",
       "AAEAAAIAAAAAAQAAAAAAAAABAAABAAAAAAEAAAUAAAAAAQAAAgAAAAABAAAAAAAAAAEAAAEAAAAA\n",
       "AQAABQAAAAABAAACAAAAAAEAAAAAAAAAAQAAAQAAAAABAAAFAAAAAAEAAAIAAAAAAQAAAAAAAAAB\n",
       "AAABAAAAAAEAAAUAAAAAAQAAAgAAAAABAAAAAAAAAAEAAAEAAAAAAQAABQAAAAABAAACAAAAAAEA\n",
       "AAAAAAAAAQAAAQAAAAABAAAFAAAAAAEAAAIAAAAAAQAAAAAAAAABAAABAAAAAAEAAAUAAAAAAQAA\n",
       "AgAAAAABAAAAAAAAAAEAAAEAAAAAAQAABQAAAAABAAACAAAAAAEAAAAAAAAAAQAAAQAAAAABAAAF\n",
       "AAAAAAEAAAIAAAAAAQAAAAAAAAABAAABAAAAAAEAAAIAAAAAAQAABQAAAAABAAACAAAAAAEAAAAA\n",
       "AAAAAQAAAQAAAAABAAAFAAAAAAEAAAIAAAAAAQAAAAAAAAABAAABAAAAAAEAAAUAAAAAAQAAAgAA\n",
       "AAABAAAAAAAAAAEAAAEAAAAAAQAABQAAAAABAAACAAAAAAEAAAAAAAAAAQAAAQAAAAABAAAFAAAA\n",
       "AAEAAAIAAAAAAQAAAAAAAAABAAABAAAAAAEAAAUAAAAAAQAAAgAAAAABAAAAAAAAAAEAAAEAAAAA\n",
       "AQAABQAAAAABAAACAAAAAAEAAAAAAAAAAQAAAQAAAAABAAAFAAAAAAEAAAIAAAAAAQAAAAAAAAAB\n",
       "AAABAAAAAAEAAAUAAAAAAQAAAgAAAAABAAAAAAAAAAEAAAEAAAAAAQAABQAAAAABAAACAAAAAAEA\n",
       "AAAAAAAAAQAAAQAAAAABAAAFAAAAAAEAAAIAAAAAAQAAAAAAAAABAAABAAAAAAEAAAUAAAAAAQAA\n",
       "AgAAAAABAAAAAAAAAAEAAAEAAAAAAQAABQAAAAABAAACAAAAAAEAAAAAAAAAAQAAAQAAAAABAAAF\n",
       "AAAAAAEAAAIAAAAAAQAAAAAAAAABAAABAAAAAAEAAAUAAAAAAQAAAgAAAAABAAAAAAAAAAEAAAEA\n",
       "AAAAAQAABQAAAAABAAACAAAAAAEAAAAAAAAAAQAAAQAAAAABAAAFAAAAAAEAAAIAAAAAAQAAAAAA\n",
       "AAABAAABAAAAAAEAAAUAAAAAAQAAAgAAAAABAAAAAAAAAAEAAAEAAAAAAQAABQAAAAABAAACAAAA\n",
       "AAEAAAAAAAAAAQAAAQAAAAABAAAFAAAAAAEAAAIAAAAAAQAAAAAAAAABAAABAAAAAAEAAAMAAAAA\n",
       "AQAAAQAAAAABAAACAAAAAAEAAAUAAAAAAQAAAgAAAAABAAAAAAAAAAEAAAEAAAAAAQAABQAAAAAB\n",
       "AAACAAAAAAEAAAAAAAAAAQAAAQAAAAABAAAFAAAAAAEAAAIAAAAAAQAAAAAAAAABAAABAAAAAAIA\n",
       "AAIAAAAAAQAABQAAAAABAAACAAAAAAEAAAAAAAAAAQAAAQAAAAABAAAFAAAAAAEAAAIAAAAAAQAA\n",
       "AAAAAAABAAABAAAAAAEAAAUAAAAAAQAAAgAAAAABAAAAAAAAAAEAAAEAAAAAAQAABQAAAAABAAAC\n",
       "AAAAAAEAAAAAAAAAAQAAAQAAAAABAAAFAAAAAAEAAAIAAAAAAQAAAAAAAAABAAABAAAAAAEAAAUA\n",
       "AAAAAQAAAgAAAAABAAAAAAAAAAEAAAEAAAAAAQAABQAAAAABAAACAAAAAAEAAAAAAAAAAQAAAQAA\n",
       "AAABAAAFAAAAAAEAAAIAAAAAAQAAAAAAAAABAAABAAAAAAEAAAUAAAAAAQAAAgAAAAABAAAAAAAA\n",
       "AAEAAAEAAAAAAQAABQAAAAABAAACAAAAAAEAAAAAAAAAAQAAAQAAAAABAAAFAAAAAAEAAAIAAAAA\n",
       "AQAAAAAAAAABAAABAAAAAAEAAAUAAAAAAQAAAgAAAAABAAAAAAAAAAEAAAEAAAAAAQAABQAAAAAB\n",
       "AAACAAAAAAEAAAAAAAAAAQAAAQAAAAABAAAFAAAAAAEAAAIAAAAAAQAAAAAAAAABAAABAAAAAAEA\n",
       "AAUAAAAAAQAAAgAAAAABAAAAAAAAAAEAAAEAAAAAAQAABQAAAAABAAACAAAAAAEAAAAAAAAAAQAA\n",
       "AQAAAAABAAAFAAAAAAEAAAIAAAAAAQAAAAAAAAABAAABAAAAAAEAAAUAAAAAAQAAAgAAAAABAAAA\n",
       "AAAAAAEAAAEAAAAAAQAABQAAAAABAAACAAAAAAEAAAAAAAAAAQAAAQAAAAABAAAFAAAAAAEAAAIA\n",
       "AAAAAQAAAAAAAAABAAABAAAAAAEAAAUAAAAAAQAAAgAAAAABAAAAAAAAAAEAAAEAAAAAAQAABQAA\n",
       "AAABAAACAAAAAAEAAAAAAAAAAQAAAQAAAAABAAAFAAAAAAEAAAIAAAAAAQAAAAAAAAABAAABAAAA\n",
       "AAEAAAUAAAAAAQAAAgAAAAABAAAAAAAAAAEAAAEAAAAAAQAABQAAAAABAAACAAAAAAEAAAAAAAAA\n",
       "AQAAAQAAAAABAAAFAAAAAAEAAAIAAAAAAQAAAAAAAAABAAABAAAAAAEAAAUAAAAAAQAAAgAAAAAB\n",
       "AAAAAAAAAAEAAAEAAAAAAQAABQAAAAABAAACAAAAAAEAAAAAAAAAAQAAAQAAAAABAAAFAAAAAAEA\n",
       "AAIAAAAAAQAAAAAAAAABAAABAAAAAAEAAAUAAAAAAQAAAgAAAAABAAAAAAAAAAEAAAEAAAAAAQAA\n",
       "BQAAAAABAAACAAAAAAEAAAAAAAAAAQAAAQAAAAABAAAFAAAAAAEAAAIAAAAAAQAAAAAAAAABAAAB\n",
       "AAAAAAEAAAUAAAAAAQAAAgAAAAABAAAAAAAAAAEAAAEAAAAAAQAABAAAAAABAAACAAAAAAEAAAAA\n",
       "AAAAHHN0c2MAAAAAAAAAAQAAAAEAAAGQAAAAAQAABlRzdHN6AAAAAAAAAAAAAAGQAAA1BAAAAksA\n",
       "AABDAAAAPQAAACkAAADaAAAAOAAAAC8AAAAsAAAAjQAAADMAAAApAAAAJAAAADwAAAAuAAAAGgAA\n",
       "ACMAAABcAAAAMgAAACIAAAAbAAAAOQAAAIAAAAAlAAAAJAAAABoAAAA3AAAAYgAAAC4AAAAlAAAA\n",
       "IQAAAJcAAAAzAAAAJAAAAB8AAACQAAAAJgAAACUAAAAlAAAAigAAACQAAAAhAAAAIQAAAHQAAAAz\n",
       "AAAAHAAAAB8AAABgAAAAMwAAACYAAAAcAAAATwAAACUAAAAYAAAAGQAAAEYAAAAsAAAAFwAAABkA\n",
       "AABAAAAANQAAABgAAAAZAAAAVAAAAC0AAAAaAAAAGQAAAGwAAAAwAAAAIwAAABsAAABYAAAAKAAA\n",
       "ABoAAAAgAAAAPwAAACIAAAAZAAAAGAAAAFMAAAAmAAAAHgAAABoAAABYAAAALAAAAB8AAAAiAAAA\n",
       "YwAAADEAAAAcAAAAHAAAAEkAAAAtAAAAGwAAABgAAABKAAAALQAAABUAAAAXAAAAPAAAAC0AAAAh\n",
       "AAAAGQAAAFkAAAAxAAAAGQAAACAAAABWAAAALAAAABkAAAAmAAAAKgAAACwAAAAYAAAAFwAAAGYA\n",
       "AAAvAAAAIQAAACQAAAAzAAAAKwAAABkAAAAZAAAAPAAAAC0AAAAYAAAAGAAAACcAAAAhAAAAFAAA\n",
       "ABQAAABhAAAALgAAABkAAAAiAAAATgAAACUAAAAYAAAAGQAAAEoAAAArAAAAGAAAACEAAAAoAAAA\n",
       "JAAAABQAAAAUAAAAbgAAADEAAAAjAAAAHgAAAD0AAAAtAAAAGQAAABcAAAArAAAAJQAAABQAAAAa\n",
       "AAAAPwAAAC4AAAAZAAAAGgAAAHQAAAAuAAAAJAAAABoAAABTAAAAZQAAACUAAAAcAAAAFAAAADYA\n",
       "AAAiAAAAFAAAAB4AAABLAAAAJgAAABoAAAAXAAAAMwAAACsAAAAZAAAAGgAAAFUAAAAtAAAAFQAA\n",
       "ACAAAAAwAAAAJAAAABkAAAAZAAAALwAAACQAAAAYAAAAFgAAAEQAAAAiAAAAGAAAABkAAABLAAAA\n",
       "JAAAABkAAAAWAAAATgAAAC0AAAAcAAAAFwAAAFIAAAAlAAAAFAAAAB4AAAAyAAAAIAAAABQAAAAU\n",
       "AAAALQAAACIAAAAYAAAAFgAAACwAAAAgAAAAFAAAABQAAAA5AAAAIgAAABQAAAAUAAAASwAAADAA\n",
       "AAAXAAAAIgAAAHwAAAA0AAAAHwAAACgAAABFAAAAJwAAABYAAAAbAAAAQwAAACQAAAAaAAAAGgAA\n",
       "AFkAAAAsAAAAGQAAABcAAAAcAAAAIwAAQg4AAAIMAAAAQQAAADkAAAAgAAAAewAAACYAAAAcAAAA\n",
       "JAAAADwAAAAcAAAAGAAAABYAAAA+AAAANgAAAEkAAAAlAAAAHAAAACAAAABHAAAAIwAAABgAAAAV\n",
       "AAAATAAAABYAAAAQAAAAEAAAAE8AAAAWAAAAEgAAABAAAABcAAAAFgAAABMAAAAUAAAAVAAAABMA\n",
       "AAASAAAAEwAAAG0AAAAgAAAAEQAAABQAAABGAAAAHAAAABIAAAAUAAAAMQAAABcAAAAVAAAAEgAA\n",
       "AEMAAAAbAAAAEAAAABcAAAA7AAAAIAAAABMAAAAUAAAATAAAAB8AAAAeAAAAEgAAAD8AAAAkAAAA\n",
       "FQAAABUAAAAyAAAAFgAAABMAAAAUAAAARAAAABUAAAAQAAAAEwAAAEEAAAAVAAAAEgAAABAAAAAt\n",
       "AAAAEwAAABAAAAASAAAAIQAAABMAAAAQAAAAEAAAAEIAAAAWAAAAEgAAABIAAAAsAAAAEwAAABAA\n",
       "AAAQAAAAMwAAABUAAAAQAAAAEAAAAFUAAAAiAAAAGwAAABEAAAAoAAAAFQAAABAAAAAQAAAANQAA\n",
       "ABUAAAAQAAAAEgAAADIAAAAVAAAAEgAAABAAAAAuAAAAFQAAABAAAAAQAAAAFwAAABMAAAAQAAAA\n",
       "EAAAAC0AAAATAAAAEAAAABAAAAA9AAAAFgAAABIAAAASAAAAIgAAABUAAAAQAAAAEAAAACsAAAAT\n",
       "AAAAEAAAABIAAAAlAAAAFQAAABAAAAAQAAAAFwAAABMAAAAQAAAAEAAAABYAAAARAAAAEQAAABRz\n",
       "dGNvAAAAAAAAAAEAAAAsAAAAYnVkdGEAAABabWV0YQAAAAAAAAAhaGRscgAAAAAAAAAAbWRpcmFw\n",
       "cGwAAAAAAAAAAAAAAAAtaWxzdAAAACWpdG9vAAAAHWRhdGEAAAABAAAAAExhdmY1Ni40MC4xMDE=\n",
       "\">\n",
       "  Your browser does not support the video tag.\n",
       "</video>"
      ]
     },
     "metadata": {},
     "output_type": "display_data"
    }
   ],
   "source": [
    "try:\n",
    "    display_html(HTML(anim.to_html5_video()))\n",
    "# In case the build-in renderers are unaviable, fall back to\n",
    "# a custom one, that doesn't require external libraries\n",
    "except RuntimeError:\n",
    "    anim.save(None, writer=matplotlib_utils.SimpleMovieWriter(0.001))"
   ]
  },
  {
   "cell_type": "markdown",
   "metadata": {},
   "source": [
    "# Logistic regression\n",
    "Your assignment is to implement the logistic regression\n",
    "\n",
    "Plan:\n",
    "* Use a shared variable for weights\n",
    "* Use a matrix placeholder for `X`\n",
    " \n",
    "We shall train on a two-class MNIST dataset\n",
    "* please note that target `y` are `{0,1}` and not `{-1,1}` as in some formulae"
   ]
  },
  {
   "cell_type": "code",
   "execution_count": 49,
   "metadata": {},
   "outputs": [
    {
     "name": "stdout",
     "output_type": "stream",
     "text": [
      "y [shape - (360,)]: [0 1 0 1 0 1 0 0 1 1]\n",
      "X [shape - (360, 64)]:\n"
     ]
    }
   ],
   "source": [
    "from sklearn.datasets import load_digits\n",
    "mnist = load_digits(2)\n",
    "\n",
    "X, y = mnist.data, mnist.target\n",
    "\n",
    "print(\"y [shape - %s]:\" % (str(y.shape)), y[:10])\n",
    "print(\"X [shape - %s]:\" % (str(X.shape)))"
   ]
  },
  {
   "cell_type": "code",
   "execution_count": 50,
   "metadata": {},
   "outputs": [
    {
     "name": "stdout",
     "output_type": "stream",
     "text": [
      "X:\n",
      " [[ 0.  0.  5. 13.  9.  1.  0.  0.  0.  0.]\n",
      " [ 0.  0.  0. 12. 13.  5.  0.  0.  0.  0.]\n",
      " [ 0.  0.  1.  9. 15. 11.  0.  0.  0.  0.]]\n",
      "y:\n",
      " [0 1 0 1 0 1 0 0 1 1]\n"
     ]
    },
    {
     "data": {
      "image/png": "[encoded data removed]",
      "text/plain": [
       "<Figure size 432x288 with 1 Axes>"
      ]
     },
     "metadata": {},
     "output_type": "display_data"
    }
   ],
   "source": [
    "print('X:\\n',X[:3,:10])\n",
    "print('y:\\n',y[:10])\n",
    "plt.imshow(X[0].reshape([8,8]));"
   ]
  },
  {
   "cell_type": "markdown",
   "metadata": {},
   "source": [
    "It's your turn now!\n",
    "Just a small reminder of the relevant math:\n",
    "\n",
    "$$\n",
    "P(y=1|X) = \\sigma(X \\cdot W + b)\n",
    "$$\n",
    "$$\n",
    "\\text{loss} = -\\log\\left(P\\left(y_\\text{predicted} = 1\\right)\\right)\\cdot y_\\text{true} - \\log\\left(1 - P\\left(y_\\text{predicted} = 1\\right)\\right)\\cdot\\left(1 - y_\\text{true}\\right)\n",
    "$$\n",
    "\n",
    "$\\sigma(x)$ is available via `tf.nn.sigmoid` and matrix multiplication via `tf.matmul`"
   ]
  },
  {
   "cell_type": "code",
   "execution_count": 51,
   "metadata": {},
   "outputs": [],
   "source": [
    "from sklearn.model_selection import train_test_split\n",
    "X_train, X_test, y_train, y_test = train_test_split(\n",
    "    X, y, random_state=42)"
   ]
  },
  {
   "cell_type": "markdown",
   "metadata": {},
   "source": [
    "__Your code goes here.__ For the training and testing scaffolding to work, please stick to the names in comments."
   ]
  },
  {
   "cell_type": "code",
   "execution_count": 52,
   "metadata": {},
   "outputs": [],
   "source": [
    "# Model parameters - weights and bias\n",
    "# weights = tf.Variable(...) shape should be (X.shape[1], 1)\n",
    "# b = tf.Variable(...)\n",
    "weights = tf.Variable(np.zeros((X.shape[1], 1)), dtype='float32')\n",
    "b = tf.Variable(0, dtype='float32')\n",
    "s.run(tf.global_variables_initializer())"
   ]
  },
  {
   "cell_type": "code",
   "execution_count": 53,
   "metadata": {},
   "outputs": [],
   "source": [
    "# Placeholders for the input data\n",
    "# input_X = tf.placeholder(...)\n",
    "# input_y = tf.placeholder(...)\n",
    "input_X = tf.placeholder(tf.float32)\n",
    "input_y = tf.placeholder(tf.float32)"
   ]
  },
  {
   "cell_type": "code",
   "execution_count": 54,
   "metadata": {},
   "outputs": [],
   "source": [
    "# The model code\n",
    "\n",
    "# Compute a vector of predictions, resulting shape should be [input_X.shape[0],]\n",
    "# This is 1D, if you have extra dimensions, you can  get rid of them with tf.squeeze .\n",
    "# Don't forget the sigmoid.\n",
    "# predicted_y = <predicted probabilities for input_X>\n",
    "\n",
    "# Loss. Should be a scalar number - average loss over all the objects\n",
    "# tf.reduce_mean is your friend here\n",
    "# loss = <logistic loss (scalar, mean over sample)>\n",
    "\n",
    "# See above for an example. tf.train.*Optimizer\n",
    "# optimizer = <optimizer that minimizes loss>\n",
    "\n",
    "predicted_y = tf.squeeze(tf.sigmoid(tf.matmul(input_X, weights) + b))\n",
    "loss = tf.reduce_mean(-tf.log(predicted_y) * input_y - tf.log(1 - predicted_y) * (1 - input_y))\n",
    "optimizer = tf.train.GradientDescentOptimizer(0.01).minimize(loss)"
   ]
  },
  {
   "cell_type": "markdown",
   "metadata": {},
   "source": [
    "A test to help with the debugging"
   ]
  },
  {
   "cell_type": "code",
   "execution_count": 55,
   "metadata": {},
   "outputs": [],
   "source": [
    "validation_weights = 1e-3 * np.fromiter(map(lambda x:\n",
    "        s.run(weird_psychotic_function, {my_scalar:x, my_vector:[1, 0.1, 2]}),\n",
    "                                   0.15 * np.arange(1, X.shape[1] + 1)),\n",
    "                                   count=X.shape[1], dtype=np.float32)[:, np.newaxis]\n",
    "# Compute predictions for given weights and bias\n",
    "prediction_validation = s.run(\n",
    "    predicted_y, {\n",
    "    input_X: X,\n",
    "    weights: validation_weights,\n",
    "    b: 1e-1})\n",
    "\n",
    "# Load the reference values for the predictions\n",
    "validation_true_values = np.loadtxt(\"validation_predictons.txt\")\n",
    "\n",
    "assert prediction_validation.shape == (X.shape[0],),\\\n",
    "       \"Predictions must be a 1D array with length equal to the number \" \\\n",
    "       \"of examples in input_X\"\n",
    "assert np.allclose(validation_true_values, prediction_validation)\n",
    "loss_validation = s.run(\n",
    "        loss, {\n",
    "            input_X: X[:100],\n",
    "            input_y: y[-100:],\n",
    "            weights: validation_weights+1.21e-3,\n",
    "            b: -1e-1})\n",
    "assert np.allclose(loss_validation, 0.728689)"
   ]
  },
  {
   "cell_type": "code",
   "execution_count": 56,
   "metadata": {},
   "outputs": [
    {
     "name": "stdout",
     "output_type": "stream",
     "text": [
      "loss at iter 0:0.1252\n",
      "train auc: 0.9999451032059727\n",
      "test auc: 1.0\n",
      "loss at iter 1:0.0933\n",
      "train auc: 1.0\n",
      "test auc: 1.0\n",
      "loss at iter 2:0.0750\n",
      "train auc: 1.0\n",
      "test auc: 1.0\n",
      "loss at iter 3:0.0619\n",
      "train auc: 1.0\n",
      "test auc: 1.0\n",
      "loss at iter 4:0.0532\n",
      "train auc: 1.0\n",
      "test auc: 1.0\n"
     ]
    }
   ],
   "source": [
    "from sklearn.metrics import roc_auc_score\n",
    "s.run(tf.global_variables_initializer())\n",
    "for i in range(5):\n",
    "    s.run(optimizer, {input_X: X_train, input_y: y_train})\n",
    "    loss_i = s.run(loss, {input_X: X_train, input_y: y_train})\n",
    "    print(\"loss at iter %i:%.4f\" % (i, loss_i))\n",
    "    print(\"train auc:\", roc_auc_score(y_train, s.run(predicted_y, {input_X:X_train})))\n",
    "    print(\"test auc:\", roc_auc_score(y_test, s.run(predicted_y, {input_X:X_test})))"
   ]
  },
  {
   "cell_type": "markdown",
   "metadata": {},
   "source": [
    "### Coursera submission"
   ]
  },
  {
   "cell_type": "code",
   "execution_count": 57,
   "metadata": {},
   "outputs": [],
   "source": [
    "grade_submitter = grading.Grader(\"BJCiiY8sEeeCnhKCj4fcOA\")"
   ]
  },
  {
   "cell_type": "code",
   "execution_count": 58,
   "metadata": {},
   "outputs": [],
   "source": [
    "test_weights = 1e-3 * np.fromiter(map(lambda x:\n",
    "    s.run(weird_psychotic_function, {my_scalar:x, my_vector:[1, 2, 3]}),\n",
    "                               0.1 * np.arange(1, X.shape[1] + 1)),\n",
    "                               count=X.shape[1], dtype=np.float32)[:, np.newaxis]"
   ]
  },
  {
   "cell_type": "markdown",
   "metadata": {},
   "source": [
    "First, test prediction and loss computation. This part doesn't require a fitted model."
   ]
  },
  {
   "cell_type": "code",
   "execution_count": 59,
   "metadata": {},
   "outputs": [],
   "source": [
    "prediction_test = s.run(\n",
    "    predicted_y, {\n",
    "    input_X: X,\n",
    "    weights: test_weights,\n",
    "    b: 1e-1})"
   ]
  },
  {
   "cell_type": "code",
   "execution_count": 60,
   "metadata": {},
   "outputs": [],
   "source": [
    "assert prediction_test.shape == (X.shape[0],),\\\n",
    "       \"Predictions must be a 1D array with length equal to the number \" \\\n",
    "       \"of examples in X_test\""
   ]
  },
  {
   "cell_type": "code",
   "execution_count": 61,
   "metadata": {},
   "outputs": [],
   "source": [
    "grade_submitter.set_answer(\"0ENlN\", prediction_test)"
   ]
  },
  {
   "cell_type": "code",
   "execution_count": 62,
   "metadata": {},
   "outputs": [],
   "source": [
    "loss_test = s.run(\n",
    "    loss, {\n",
    "        input_X: X[:100],\n",
    "        input_y: y[-100:],\n",
    "        weights: test_weights+1.21e-3,\n",
    "        b: -1e-1})\n",
    "# Yes, the X/y indices mistmach is intentional"
   ]
  },
  {
   "cell_type": "code",
   "execution_count": 63,
   "metadata": {},
   "outputs": [],
   "source": [
    "grade_submitter.set_answer(\"mMVpM\", loss_test)"
   ]
  },
  {
   "cell_type": "code",
   "execution_count": 64,
   "metadata": {},
   "outputs": [],
   "source": [
    "grade_submitter.set_answer(\"D16Rc\", roc_auc_score(y_test, s.run(predicted_y, {input_X:X_test})))"
   ]
  },
  {
   "cell_type": "markdown",
   "metadata": {},
   "source": [
    "Please use the credentials obtained from the Coursera assignment page."
   ]
  },
  {
   "cell_type": "code",
   "execution_count": 65,
   "metadata": {},
   "outputs": [
    {
     "name": "stdout",
     "output_type": "stream",
     "text": [
      "Submitted to Coursera platform. See results on assignment page!\n"
     ]
    }
   ],
   "source": [
    "grade_submitter.submit(<email>, <token>)"
   ]
  }
 ],
 "metadata": {
  "kernelspec": {
   "display_name": "Python 3",
   "language": "python",
   "name": "python3"
  },
  "language_info": {
   "codemirror_mode": {
    "name": "ipython",
    "version": 3
   },
   "file_extension": ".py",
   "mimetype": "text/x-python",
   "name": "python",
   "nbconvert_exporter": "python",
   "pygments_lexer": "ipython3",
   "version": "3.5.2"
  }
 },
 "nbformat": 4,
 "nbformat_minor": 1
}
