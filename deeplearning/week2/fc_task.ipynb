{
 "cells": [
  {
   "cell_type": "code",
   "execution_count": 1,
   "metadata": {
    "scrolled": true
   },
   "outputs": [
    {
     "name": "stderr",
     "output_type": "stream",
     "text": [
      "/home/whimo/mlc/mlenv/lib/python3.5/site-packages/h5py/__init__.py:36: FutureWarning: Conversion of the second argument of issubdtype from `float` to `np.floating` is deprecated. In future, it will be treated as `np.float64 == np.dtype(float).type`.\n",
      "  from ._conv import register_converters as _register_converters\n"
     ]
    }
   ],
   "source": [
    "import numpy as np\n",
    "import tensorflow as tf"
   ]
  },
  {
   "cell_type": "code",
   "execution_count": 2,
   "metadata": {
    "scrolled": true
   },
   "outputs": [
    {
     "name": "stderr",
     "output_type": "stream",
     "text": [
      "Using TensorFlow backend.\n"
     ]
    },
    {
     "name": "stdout",
     "output_type": "stream",
     "text": [
      "(50000, 28, 28) (50000,)\n"
     ]
    },
    {
     "data": {
      "text/plain": [
       "<matplotlib.image.AxesImage at 0x7f8cb7f405c0>"
      ]
     },
     "execution_count": 2,
     "metadata": {},
     "output_type": "execute_result"
    },
    {
     "data": {
      "image/png": "[encoded data removed]",
      "text/plain": [
       "<Figure size 432x288 with 1 Axes>"
      ]
     },
     "metadata": {},
     "output_type": "display_data"
    }
   ],
   "source": [
    "from preprocessed_mnist import load_dataset\n",
    "X_train, y_train, X_val, y_val, X_test, y_test = load_dataset()\n",
    "print(X_train.shape, y_train.shape)\n",
    "import matplotlib.pyplot as plt\n",
    "%matplotlib inline\n",
    "plt.imshow(X_train[0], cmap=\"Greys\")"
   ]
  },
  {
   "cell_type": "code",
   "execution_count": 3,
   "metadata": {},
   "outputs": [],
   "source": [
    "IMAGE_SIZE = 28\n",
    "LABELS_NUM = 10\n",
    "\n",
    "def reshape_mnist(data, labels):\n",
    "    data = data.reshape((-1, IMAGE_SIZE * IMAGE_SIZE))  # Flatten images\n",
    "    # One hot encode labels, e.g. transform 3 to [0, 0, 0, 1, 0, 0, 0, 0, 0, 0]\n",
    "    onehot_labels = (np.arange(LABELS_NUM) == labels.reshape((-1, 1)))\n",
    "    return data.astype(np.float32), onehot_labels.astype(np.float32)"
   ]
  },
  {
   "cell_type": "code",
   "execution_count": 4,
   "metadata": {},
   "outputs": [],
   "source": [
    "X_train, y_train = reshape_mnist(X_train, y_train)\n",
    "X_val, y_val = reshape_mnist(X_val, y_val)\n",
    "X_test, y_test = reshape_mnist(X_test, y_test)"
   ]
  },
  {
   "cell_type": "code",
   "execution_count": 5,
   "metadata": {},
   "outputs": [],
   "source": [
    "def accuracy(predictions, labels):\n",
    "    '''Simple accuracy metric'''\n",
    "    return (np.sum(np.argmax(predictions, 1) == np.argmax(labels, 1)) /\n",
    "            predictions.shape[0]) * 100.0"
   ]
  },
  {
   "cell_type": "markdown",
   "metadata": {},
   "source": [
    "## Network architecture\n",
    "I use two-layer network with 50 hidden layers. The nonlinearity between these layers is a ReLU function, which is basically `max(0, x)`. Then I take the cross entropy loss and minimize it with stochastic gradient descent with batch size 128. Also, I add some L2 loss which penalizes the network for very large weights. Accuracy on the test data is usually about 97.5%."
   ]
  },
  {
   "cell_type": "code",
   "execution_count": 6,
   "metadata": {},
   "outputs": [],
   "source": [
    "BATCH_SIZE = 128\n",
    "STEPS_NUM = 25001\n",
    "\n",
    "LAYER_1_ = 50  # Hidden layer size\n",
    "\n",
    "graph = tf.Graph()\n",
    "with graph.as_default():\n",
    "    '''Describe computational graph'''\n",
    "    # Placeholders for dataset and labels\n",
    "    # Dataset has shape (BATCH_SIZE, IMAGE_SIZE * IMAGE_SIZE),\n",
    "    # because we flattened every image to a vector of shape (IMAGE_SIZE * IMAGE_SIZE, 1)\n",
    "    train_data = tf.placeholder(tf.float32, shape=(BATCH_SIZE, IMAGE_SIZE * IMAGE_SIZE))\n",
    "    train_labels = tf.placeholder(tf.float32, shape=(BATCH_SIZE, LABELS_NUM))\n",
    "\n",
    "    # Validation and test datasets are constant\n",
    "    val_data = tf.constant(X_val)\n",
    "    val_labels = tf.constant(y_val)\n",
    "    test_data = tf.constant(X_test)\n",
    "    \n",
    "    # Initialize weights with a truncated normal and biases with zeros\n",
    "    weights_1 = tf.Variable(tf.truncated_normal([IMAGE_SIZE * IMAGE_SIZE, LAYER_1_]))\n",
    "    biases_1 = tf.Variable(tf.zeros((LAYER_1_)))\n",
    "    \n",
    "    weights_output = tf.Variable(tf.truncated_normal([LAYER_1_, LABELS_NUM]))\n",
    "    biases_output = tf.Variable(tf.zeros((LABELS_NUM)))\n",
    "    \n",
    "    # Training computation\n",
    "    logits = tf.matmul(train_data, weights_1) + biases_1\n",
    "    logits = tf.nn.relu(logits)\n",
    "    logits = tf.matmul(logits, weights_output) + biases_output\n",
    "    predictions = tf.nn.softmax(logits)\n",
    "\n",
    "    loss = tf.reduce_mean(\n",
    "        tf.nn.softmax_cross_entropy_with_logits_v2(labels=train_labels, logits=logits) +\n",
    "        5e-4 * (tf.nn.l2_loss(weights_1) + tf.nn.l2_loss(weights_output)))\n",
    "    # Add a bit L2 regularization here ^\n",
    "    \n",
    "    optimizer = tf.train.GradientDescentOptimizer(0.4).minimize(loss)\n",
    "    \n",
    "    # Validation and test computations\n",
    "    val_logits = tf.matmul(val_data, weights_1) + biases_1\n",
    "    val_logits = tf.nn.relu(val_logits)\n",
    "    val_logits = tf.matmul(val_logits, weights_output) + biases_output\n",
    "    val_predictions = tf.nn.softmax(val_logits)\n",
    "    val_loss = tf.reduce_mean(\n",
    "        tf.nn.softmax_cross_entropy_with_logits_v2(labels=val_labels, logits=val_logits) +\n",
    "        5e-4 * (tf.nn.l2_loss(weights_1) + tf.nn.l2_loss(weights_output)))\n",
    "    \n",
    "    test_logits = tf.matmul(test_data, weights_1) + biases_1\n",
    "    test_logits = tf.nn.relu(test_logits)\n",
    "    test_logits = tf.matmul(test_logits, weights_output) + biases_output\n",
    "    test_predictions = tf.nn.softmax(test_logits)"
   ]
  },
  {
   "cell_type": "code",
   "execution_count": 7,
   "metadata": {
    "scrolled": true
   },
   "outputs": [
    {
     "data": {
      "application/vnd.jupyter.widget-view+json": {
       "model_id": "8fad19e78af44d1c95d1b2d566b8bb42",
       "version_major": 2,
       "version_minor": 0
      },
      "text/plain": [
       "HBox(children=(IntProgress(value=0, max=25001), HTML(value='')))"
      ]
     },
     "metadata": {},
     "output_type": "display_data"
    },
    {
     "name": "stdout",
     "output_type": "stream",
     "text": [
      "======== STEP 0 ========\n",
      "Accuracy: minibatch 11.7%, validation 19.1%\n",
      "======== STEP 500 ========\n",
      "Accuracy: minibatch 82.0%, validation 84.8%\n",
      "======== STEP 1000 ========\n",
      "Accuracy: minibatch 89.1%, validation 88.7%\n",
      "======== STEP 1500 ========\n",
      "Accuracy: minibatch 92.2%, validation 91.1%\n",
      "======== STEP 2000 ========\n",
      "Accuracy: minibatch 95.3%, validation 92.7%\n",
      "======== STEP 2500 ========\n",
      "Accuracy: minibatch 95.3%, validation 93.7%\n",
      "======== STEP 3000 ========\n",
      "Accuracy: minibatch 93.0%, validation 94.1%\n",
      "======== STEP 3500 ========\n",
      "Accuracy: minibatch 92.2%, validation 95.0%\n",
      "======== STEP 4000 ========\n",
      "Accuracy: minibatch 95.3%, validation 95.2%\n",
      "======== STEP 4500 ========\n",
      "Accuracy: minibatch 96.1%, validation 95.6%\n",
      "======== STEP 5000 ========\n",
      "Accuracy: minibatch 94.5%, validation 95.8%\n",
      "======== STEP 5500 ========\n",
      "Accuracy: minibatch 96.9%, validation 95.9%\n",
      "======== STEP 6000 ========\n",
      "Accuracy: minibatch 96.9%, validation 96.1%\n",
      "======== STEP 6500 ========\n",
      "Accuracy: minibatch 98.4%, validation 96.3%\n",
      "======== STEP 7000 ========\n",
      "Accuracy: minibatch 96.9%, validation 96.4%\n",
      "======== STEP 7500 ========\n",
      "Accuracy: minibatch 96.9%, validation 96.6%\n",
      "======== STEP 8000 ========\n",
      "Accuracy: minibatch 97.7%, validation 96.7%\n",
      "======== STEP 8500 ========\n",
      "Accuracy: minibatch 98.4%, validation 96.7%\n",
      "======== STEP 9000 ========\n",
      "Accuracy: minibatch 96.9%, validation 96.6%\n",
      "======== STEP 9500 ========\n",
      "Accuracy: minibatch 99.2%, validation 96.8%\n",
      "======== STEP 10000 ========\n",
      "Accuracy: minibatch 97.7%, validation 96.9%\n",
      "======== STEP 10500 ========\n",
      "Accuracy: minibatch 96.1%, validation 96.7%\n",
      "======== STEP 11000 ========\n",
      "Accuracy: minibatch 98.4%, validation 97.0%\n",
      "======== STEP 11500 ========\n",
      "Accuracy: minibatch 99.2%, validation 97.0%\n",
      "======== STEP 12000 ========\n",
      "Accuracy: minibatch 96.1%, validation 97.2%\n",
      "======== STEP 12500 ========\n",
      "Accuracy: minibatch 99.2%, validation 97.2%\n",
      "======== STEP 13000 ========\n",
      "Accuracy: minibatch 100.0%, validation 97.4%\n",
      "======== STEP 13500 ========\n",
      "Accuracy: minibatch 99.2%, validation 97.3%\n",
      "======== STEP 14000 ========\n",
      "Accuracy: minibatch 99.2%, validation 97.5%\n",
      "======== STEP 14500 ========\n",
      "Accuracy: minibatch 98.4%, validation 97.3%\n",
      "======== STEP 15000 ========\n",
      "Accuracy: minibatch 99.2%, validation 97.3%\n",
      "======== STEP 15500 ========\n",
      "Accuracy: minibatch 96.9%, validation 97.0%\n",
      "======== STEP 16000 ========\n",
      "Accuracy: minibatch 99.2%, validation 97.4%\n",
      "======== STEP 16500 ========\n",
      "Accuracy: minibatch 100.0%, validation 97.4%\n",
      "======== STEP 17000 ========\n",
      "Accuracy: minibatch 98.4%, validation 97.2%\n",
      "======== STEP 17500 ========\n",
      "Accuracy: minibatch 98.4%, validation 97.4%\n",
      "======== STEP 18000 ========\n",
      "Accuracy: minibatch 99.2%, validation 97.4%\n",
      "======== STEP 18500 ========\n",
      "Accuracy: minibatch 100.0%, validation 97.3%\n",
      "======== STEP 19000 ========\n",
      "Accuracy: minibatch 99.2%, validation 97.5%\n",
      "======== STEP 19500 ========\n",
      "Accuracy: minibatch 98.4%, validation 97.5%\n",
      "======== STEP 20000 ========\n",
      "Accuracy: minibatch 96.9%, validation 97.5%\n",
      "======== STEP 20500 ========\n",
      "Accuracy: minibatch 100.0%, validation 97.4%\n",
      "======== STEP 21000 ========\n",
      "Accuracy: minibatch 97.7%, validation 97.4%\n",
      "======== STEP 21500 ========\n",
      "Accuracy: minibatch 98.4%, validation 97.5%\n",
      "======== STEP 22000 ========\n",
      "Accuracy: minibatch 98.4%, validation 97.2%\n",
      "======== STEP 22500 ========\n",
      "Accuracy: minibatch 98.4%, validation 97.5%\n",
      "======== STEP 23000 ========\n",
      "Accuracy: minibatch 98.4%, validation 97.3%\n",
      "======== STEP 23500 ========\n",
      "Accuracy: minibatch 96.9%, validation 97.4%\n",
      "======== STEP 24000 ========\n",
      "Accuracy: minibatch 98.4%, validation 97.3%\n",
      "======== STEP 24500 ========\n",
      "Accuracy: minibatch 97.7%, validation 97.4%\n",
      "======== STEP 25000 ========\n",
      "Accuracy: minibatch 99.2%, validation 97.6%\n",
      "\n",
      "Test accuracy: 97.57%\n"
     ]
    }
   ],
   "source": [
    "# tqdm is a module for rendering pretty progress bars\n",
    "try:\n",
    "    from tqdm import tqdm_notebook\n",
    "except ModuleNotFoundError:\n",
    "    def tqdm_notebook(it):\n",
    "        return it\n",
    "\n",
    "steps_log = []\n",
    "val_loss_log = []\n",
    "train_loss_log = []\n",
    "val_accuracy_log = []\n",
    "train_accuracy_log = []\n",
    "\n",
    "def shuffle(data, labels):\n",
    "    order = np.arange(data.shape[0])\n",
    "    np.random.shuffle(order)\n",
    "    return data[order], labels[order]\n",
    "\n",
    "with tf.Session(graph=graph) as sess:\n",
    "    tf.global_variables_initializer().run()\n",
    "\n",
    "    current_batches_offset = 0\n",
    "    # Feed the data batch by batch\n",
    "    for step in tqdm_notebook(range(STEPS_NUM)):\n",
    "        offset = BATCH_SIZE * current_batches_offset\n",
    "        if offset + BATCH_SIZE >= X_train.shape[0]:\n",
    "            X_train, y_train = shuffle(X_train, y_train)\n",
    "            # Shuffle the training dataset every time we pass through it and reset offset\n",
    "            current_batches_offset = 0\n",
    "            offset = 0\n",
    "\n",
    "        # Extract batch and feed it into network\n",
    "        batch_data = X_train[offset:(offset + BATCH_SIZE), :]\n",
    "        batch_labels = y_train[offset:(offset + BATCH_SIZE), :]\n",
    "        \n",
    "        feed_dict = {train_data: batch_data, train_labels: batch_labels}\n",
    "        _, loss_, predictions_ = sess.run([optimizer, loss, predictions], feed_dict=feed_dict)\n",
    "\n",
    "        if (step % 500 == 0):\n",
    "            # Evaluate accuracy every 500 steps\n",
    "            train_accuracy = accuracy(predictions_, batch_labels)\n",
    "            val_accuracy = accuracy(val_predictions.eval(), y_val)\n",
    "            print(\"======== STEP {} ========\".format(step))\n",
    "            print(\"Accuracy: minibatch %.1f%%, validation %.1f%%\" %\n",
    "                  (train_accuracy, val_accuracy))\n",
    "\n",
    "            steps_log.append(step)\n",
    "            val_loss_log.append(val_loss.eval())\n",
    "            train_loss_log.append(loss_)\n",
    "            val_accuracy_log.append(train_accuracy)\n",
    "            train_accuracy_log.append(val_accuracy)\n",
    "\n",
    "        current_batches_offset += 1  # Increase offset to feed data evenly\n",
    "        \n",
    "    print('Test accuracy: %.2f%%' % accuracy(test_predictions.eval(), y_test))"
   ]
  },
  {
   "cell_type": "code",
   "execution_count": 8,
   "metadata": {
    "scrolled": false
   },
   "outputs": [
    {
     "data": {
      "image/png": "[encoded data removed]",
      "text/plain": [
       "<Figure size 1152x576 with 1 Axes>"
      ]
     },
     "metadata": {},
     "output_type": "display_data"
    }
   ],
   "source": [
    "import matplotlib.pyplot as plt\n",
    "%matplotlib inline\n",
    "plt.figure(figsize=(16, 8))\n",
    "plt.title('Loss over time')\n",
    "plt.xlabel('steps')\n",
    "plt.ylabel('loss')\n",
    "val_loss_plot, = plt.plot(steps_log, val_loss_log)\n",
    "train_loss_plot, = plt.plot(steps_log, train_loss_log)\n",
    "plt.axis((-500, 20500, -2, 10))\n",
    "plt.legend((val_loss_plot, train_loss_plot), ('Validation loss', 'Train loss'))\n",
    "plt.show()"
   ]
  },
  {
   "cell_type": "code",
   "execution_count": 9,
   "metadata": {
    "scrolled": true
   },
   "outputs": [
    {
     "data": {
      "image/png": "[encoded data removed]",
      "text/plain": [
       "<Figure size 1152x576 with 1 Axes>"
      ]
     },
     "metadata": {},
     "output_type": "display_data"
    }
   ],
   "source": [
    "plt.figure(figsize=(16, 8))\n",
    "plt.title('Accuracy over time')\n",
    "plt.xlabel('steps')\n",
    "plt.ylabel('accuracy')\n",
    "val_accuracy_plot, = plt.plot(steps_log, val_accuracy_log)\n",
    "train_accuracy_plot, = plt.plot(steps_log, train_accuracy_log)\n",
    "plt.legend((val_accuracy_plot, train_accuracy_plot),\n",
    "           ('Validation accuracy', 'Train accuracy'))\n",
    "plt.show()"
   ]
  }
 ],
 "metadata": {
  "kernelspec": {
   "display_name": "Python 3",
   "language": "python",
   "name": "python3"
  },
  "language_info": {
   "codemirror_mode": {
    "name": "ipython",
    "version": 3
   },
   "file_extension": ".py",
   "mimetype": "text/x-python",
   "name": "python",
   "nbconvert_exporter": "python",
   "pygments_lexer": "ipython3",
   "version": "3.5.2"
  }
 },
 "nbformat": 4,
 "nbformat_minor": 2
}
